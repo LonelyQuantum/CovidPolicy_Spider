{
 "cells": [
  {
   "cell_type": "code",
   "execution_count": 1,
   "metadata": {},
   "outputs": [],
   "source": [
    "import bs4\n",
    "from bs4 import BeautifulSoup\n",
    "from selenium import webdriver\n",
    "import requests\n",
    "\n",
    "import random\n",
    "import time\n",
    "import pandas as pd\n",
    "import math\n",
    "from urllib import parse\n",
    "import os"
   ]
  },
  {
   "cell_type": "code",
   "execution_count": 2,
   "metadata": {},
   "outputs": [],
   "source": [
    "my_headers_Get = {\n",
    "    'User-Agent': 'Mozilla/5.0 (Macintosh; Intel Mac OS X 10_14_4) AppleWebKit/537.36 (KHTML, like Gecko) Chrome/74.0.3729.169 Safari/537.36',\n",
    "    'Accept': 'text/html,application/xhtml+xml,application/xml;q=0.9,image/webp,image/apng,*/*;q=0.8,application/signed-exchange;v=b3',\n",
    "    'Accept-Language': 'zh-CN,zh;q=0.9,en;q=0.8',\n",
    "    'Accept-Encoding': 'gzip, deflate, br',\n",
    "    'Connection': 'keep-alive',\n",
    "    'Upgrade-Insecure-Requests': '1'\n",
    "}\n",
    "\n",
    "def getPage(url):\n",
    "    delay = 0.1*random.random()\n",
    "    time.sleep(delay)\n",
    "    s = requests.Session()\n",
    "    return s.get(url, headers=my_headers_Get)\n",
    "\n",
    "def robust_select(soup,SELECTOR):\n",
    "    if type(SELECTOR) is not str:\n",
    "        return None\n",
    "    else:\n",
    "        res = soup.select(SELECTOR)\n",
    "        if res is None:\n",
    "            return None\n",
    "        else:\n",
    "            if len(res) == 1:\n",
    "                return res[0].text\n",
    "            else:\n",
    "                rescombined = ''\n",
    "                for part in res:\n",
    "                    rescombined += part.text\n",
    "                return rescombined"
   ]
  },
  {
   "cell_type": "code",
   "execution_count": null,
   "metadata": {},
   "outputs": [],
   "source": []
  },
  {
   "cell_type": "code",
   "execution_count": 24,
   "metadata": {},
   "outputs": [],
   "source": [
    "city = '上海'\n",
    "\n",
    "websiteInfo = pd.read_csv('settings/city_govs.csv',index_col='city')\n",
    "\n",
    "start_urls = websiteInfo['url'][city]\n",
    "MAIN_PAGE_ENCODING = websiteInfo['main_page_encoding'][city]\n",
    "SUB_PAGE_ENCODING = websiteInfo['sub_page_encoding'][city]\n",
    "\n",
    "#Load the selectors for the city\n",
    "selectorInfo = pd.read_csv('settings/selector_settings.csv',index_col='city')\n",
    "NEWS_SELECTOR = selectorInfo['news_selector'][city]\n",
    "URL_SELECTOR = selectorInfo['url_selector'][city]\n",
    "NEXT_PAGE_SELECTOR = selectorInfo['next_page_selector'][city]\n",
    "TITLE_SELECTOR = selectorInfo['title_selector'][city]\n",
    "DATE_SELECTOR = selectorInfo['date_selector'][city]\n",
    "SOURCE_SELECTOR = selectorInfo['source_selector'][city]\n",
    "DPRT_SELECTOR = selectorInfo['department_selector'][city]\n",
    "CONTENT_SELECTOR = selectorInfo['content_selector'][city]\n",
    "\n",
    "#Test url\n",
    "test_url = 'http://www.shanghai.gov.cn/nw2/nw2314/nw2319/nw12344/u26aw62581.html'\n",
    "\n",
    "page = getPage(test_url)\n",
    "soup = BeautifulSoup(page.content.decode(MAIN_PAGE_ENCODING,'ignore'), 'html.parser')\n",
    "#options = webdriver.ChromeOptions()\n",
    "#options.add_argument('headless')\n",
    "\n",
    "#driver = webdriver.Chrome(options=options)\n",
    "#driver.get(start_urls)\n",
    "#soup = BeautifulSoup(driver.page_source, 'html.parser')"
   ]
  },
  {
   "cell_type": "code",
   "execution_count": 25,
   "metadata": {},
   "outputs": [
    {
     "data": {
      "text/plain": [
       "[<p>\n",
       " \t各区卫生健康委，申康医院发展中心、有关大学、中福会，各专科医师规范化培训医院，上海市医师协会，上海市卫生人才交流服务中心，上海市住院医师规范化培训事务中心:</p>,\n",
       " <p>\n",
       " \t　　根据本市各级医疗卫生机构临床岗位需求和各专科医师规范化培训医院培训能力情况，市卫生健康委制定了《2019年上海市专科医师规范化培训招录计划》（见附件），计划招录总人数为1400名。</p>,\n",
       " <p>\n",
       " \t　　请有关部门根据职责分工，做好专科医师招录工作的指导和管理。承担培训任务医院的各职能部门要通力协作，认真做好专科医师规范化培训招录工作。培训基地所在科室录用的培训对象须全部纳入专科医师规范化培训。</p>,\n",
       " <p>\n",
       " \t　　特此通知。</p>,\n",
       " <p>\n",
       " \t　　附件：2019年上海市专科医师规范化培训招录计划</p>,\n",
       " <p style=\"text-align: right;\">\n",
       " \t　　上海市卫生健康委员会</p>,\n",
       " <p style=\"text-align: right;\">\n",
       " \t　　2019年8月28日</p>]"
      ]
     },
     "execution_count": 25,
     "metadata": {},
     "output_type": "execute_result"
    }
   ],
   "source": [
    "soup.select(CONTENT_SELECTOR)"
   ]
  },
  {
   "cell_type": "code",
   "execution_count": 7,
   "metadata": {},
   "outputs": [],
   "source": [
    "page = getPage(test_url)\n",
    "soup = BeautifulSoup(page.content.decode(MAIN_PAGE_ENCODING,'ignore'), 'html.parser')"
   ]
  },
  {
   "cell_type": "code",
   "execution_count": 22,
   "metadata": {},
   "outputs": [],
   "source": [
    "CONTENT_SELECTOR = 'div#ivs_content>p'\n",
    "title = robust_select(soup,TITLE_SELECTOR)\n",
    "content = robust_select(soup,CONTENT_SELECTOR)\n",
    "date = robust_select(soup,DATE_SELECTOR)"
   ]
  },
  {
   "cell_type": "code",
   "execution_count": 19,
   "metadata": {},
   "outputs": [
    {
     "data": {
      "text/plain": [
       "'\\n\\t各区卫生健康委，申康医院发展中心、有关大学、中福会，各专科医师规范化培训医院，上海市医师协会，上海市卫生人才交流服务中心，上海市住院医师规范化培训事务中心:\\n\\t\\u3000\\u3000根据本市各级医疗卫生机构临床岗位需求和各专科医师规范化培训医院培训能力情况，市卫生健康委制定了《2019年上海市专科医师规范化培训招录计划》（见附件），计划招录总人数为1400名。\\n\\t\\u3000\\u3000请有关部门根据职责分工，做好专科医师招录工作的指导和管理。承担培训任务医院的各职能部门要通力协作，认真做好专科医师规范化培训招录工作。培训基地所在科室录用的培训对象须全部纳入专科医师规范化培训。\\n\\t\\u3000\\u3000特此通知。\\n\\t\\u3000\\u3000附件：2019年上海市专科医师规范化培训招录计划\\n\\t\\u3000\\u3000上海市卫生健康委员会\\n\\t\\u3000\\u30002019年8月28日'"
      ]
     },
     "execution_count": 19,
     "metadata": {},
     "output_type": "execute_result"
    }
   ],
   "source": [
    "content"
   ]
  },
  {
   "cell_type": "code",
   "execution_count": 9,
   "metadata": {},
   "outputs": [
    {
     "data": {
      "text/plain": [
       "'上海市卫生健康委员会关于公布2019年上海市专科医师规范化培训招录计划的通知\\n\\t\\t\\t\\t\\t\\t \\n\\t\\t\\t\\t\\t\\t \\n( 2019年09月06日 )\\n\\n'"
      ]
     },
     "execution_count": 9,
     "metadata": {},
     "output_type": "execute_result"
    }
   ],
   "source": [
    "robust_select(soup,TITLE_SELECTOR)"
   ]
  },
  {
   "cell_type": "code",
   "execution_count": 10,
   "metadata": {},
   "outputs": [
    {
     "data": {
      "text/plain": [
       "'div#ivs_title'"
      ]
     },
     "execution_count": 10,
     "metadata": {},
     "output_type": "execute_result"
    }
   ],
   "source": [
    "TITLE_SELECTOR"
   ]
  },
  {
   "cell_type": "code",
   "execution_count": null,
   "metadata": {},
   "outputs": [],
   "source": []
  }
 ],
 "metadata": {
  "kernelspec": {
   "display_name": "Python 3",
   "language": "python",
   "name": "python3"
  },
  "language_info": {
   "codemirror_mode": {
    "name": "ipython",
    "version": 3
   },
   "file_extension": ".py",
   "mimetype": "text/x-python",
   "name": "python",
   "nbconvert_exporter": "python",
   "pygments_lexer": "ipython3",
   "version": "3.8.2"
  }
 },
 "nbformat": 4,
 "nbformat_minor": 4
}
