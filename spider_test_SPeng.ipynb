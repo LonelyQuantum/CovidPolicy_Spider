{
 "cells": [
  {
   "cell_type": "code",
   "execution_count": 62,
   "metadata": {},
   "outputs": [],
   "source": [
    "import bs4\n",
    "from bs4 import BeautifulSoup\n",
    "from selenium import webdriver\n",
    "import requests\n",
    "\n",
    "import random\n",
    "import time\n",
    "import dateparser\n",
    "import pandas as pd\n",
    "import math\n",
    "from urllib import parse\n",
    "import re\n",
    "import os"
   ]
  },
  {
   "cell_type": "code",
   "execution_count": 2,
   "metadata": {},
   "outputs": [],
   "source": [
    "my_headers_Get = {\n",
    "    'User-Agent': 'Mozilla/5.0 (Macintosh; Intel Mac OS X 10_14_4) AppleWebKit/537.36 (KHTML, like Gecko) Chrome/74.0.3729.169 Safari/537.36',\n",
    "    'Accept': 'text/html,application/xhtml+xml,application/xml;q=0.9,image/webp,image/apng,*/*;q=0.8,application/signed-exchange;v=b3',\n",
    "    'Accept-Language': 'zh-CN,zh;q=0.9,en;q=0.8',\n",
    "    'Accept-Encoding': 'gzip, deflate, br',\n",
    "    'Connection': 'keep-alive',\n",
    "    'Upgrade-Insecure-Requests': '1'\n",
    "}\n",
    "\n",
    "def getPage(url):\n",
    "    delay = 0.1*random.random()\n",
    "    time.sleep(delay)\n",
    "    s = requests.Session()\n",
    "    return s.get(url, headers=my_headers_Get)\n",
    "\n",
    "def robust_select(soup,SELECTOR):\n",
    "    if type(SELECTOR) is not str:\n",
    "        return None\n",
    "    else:\n",
    "        res = soup.select(SELECTOR)\n",
    "        if res is None:\n",
    "            return None\n",
    "        else:\n",
    "            if len(res) == 1:\n",
    "                return res[0].text\n",
    "            else:\n",
    "                rescombined = ''\n",
    "                for part in res:\n",
    "                    rescombined += part.text\n",
    "                return rescombined"
   ]
  },
  {
   "cell_type": "code",
   "execution_count": null,
   "metadata": {},
   "outputs": [],
   "source": []
  },
  {
   "cell_type": "code",
   "execution_count": 26,
   "metadata": {},
   "outputs": [],
   "source": [
    "city = '深圳'\n",
    "\n",
    "websiteInfo = pd.read_csv('settings/city_govs.csv',index_col='city')\n",
    "\n",
    "start_urls = websiteInfo['url'][city]\n",
    "MAIN_PAGE_ENCODING = websiteInfo['main_page_encoding'][city]\n",
    "SUB_PAGE_ENCODING = websiteInfo['sub_page_encoding'][city]\n",
    "\n",
    "#Load the selectors for the city\n",
    "selectorInfo = pd.read_csv('settings/selector_settings.csv',index_col='city')\n",
    "NEWS_SELECTOR = selectorInfo['news_selector'][city]\n",
    "URL_SELECTOR = selectorInfo['url_selector'][city]\n",
    "NEXT_PAGE_SELECTOR = selectorInfo['next_page_selector'][city]\n",
    "\n",
    "\n",
    "#Test url\n",
    "mainpageUrl = 'http://www.sz.gov.cn/cn/xxgk/bmtx/index.html'\n",
    "subpageUrl = 'http://www.sz.gov.cn/cn/xxgk/bmtx/content/post_7137805.html'\n",
    "\n",
    "\n",
    "\n",
    "#options = webdriver.ChromeOptions()\n",
    "#options.add_argument('headless')\n",
    "\n",
    "#driver = webdriver.Chrome(options=options)\n",
    "#driver.get(start_urls)\n",
    "#soup = BeautifulSoup(driver.page_source, 'html.parser')"
   ]
  },
  {
   "cell_type": "code",
   "execution_count": 29,
   "metadata": {},
   "outputs": [
    {
     "data": {
      "text/plain": [
       "'li>span.tit>a'"
      ]
     },
     "execution_count": 29,
     "metadata": {},
     "output_type": "execute_result"
    }
   ],
   "source": [
    "NEWS_SELECTOR"
   ]
  },
  {
   "cell_type": "code",
   "execution_count": 32,
   "metadata": {},
   "outputs": [],
   "source": [
    "mainpage = getPage(mainpageUrl)\n",
    "soup_main = BeautifulSoup(mainpage.content.decode(MAIN_PAGE_ENCODING,'ignore'), 'html.parser')\n",
    "newsList = soup_main.select(NEWS_SELECTOR)\n",
    "nextPage = soup_main.select(NEXT_PAGE_SELECTOR)"
   ]
  },
  {
   "cell_type": "code",
   "execution_count": 33,
   "metadata": {},
   "outputs": [
    {
     "data": {
      "text/plain": [
       "<a href=\"http://www.sz.gov.cn/cn/xxgk/bmtx/content/post_7137805.html\" target=\"_blank\" title=\"深圳地铁2号线17日和18日调整运营时间\">深圳地铁2号线17日和18日调整运营时间</a>"
      ]
     },
     "execution_count": 33,
     "metadata": {},
     "output_type": "execute_result"
    }
   ],
   "source": [
    "newsList[0]"
   ]
  },
  {
   "cell_type": "code",
   "execution_count": 34,
   "metadata": {},
   "outputs": [
    {
     "data": {
      "text/plain": [
       "[<a class=\"next\" href=\"http://www.sz.gov.cn/cn/xxgk/bmtx/index_2.html\"> 下一页 </a>]"
      ]
     },
     "execution_count": 34,
     "metadata": {},
     "output_type": "execute_result"
    }
   ],
   "source": [
    "nextPage"
   ]
  },
  {
   "cell_type": "code",
   "execution_count": 119,
   "metadata": {},
   "outputs": [],
   "source": [
    "TITLE_SELECTOR = 'div.zx_xxgk_cont>div.tit>h1'\n",
    "DATE_SELECTOR = selectorInfo['date_selector'][city]\n",
    "SOURCE_SELECTOR = selectorInfo['source_selector'][city]\n",
    "DPRT_SELECTOR = selectorInfo['department_selector'][city]\n",
    "CONTENT_SELECTOR = 'div.news_cont_d_wrap>p'"
   ]
  },
  {
   "cell_type": "code",
   "execution_count": 120,
   "metadata": {},
   "outputs": [],
   "source": [
    "subpage = getPage(subpageUrl)\n",
    "soup_sub = BeautifulSoup(subpage.content.decode(SUB_PAGE_ENCODING,'ignore'), 'html.parser')\n",
    "title = soup_sub.select(TITLE_SELECTOR)\n",
    "title_final = robust_select(soup_sub,TITLE_SELECTOR)\n",
    "date = soup_sub.select(DATE_SELECTOR)\n",
    "date_final = robust_select(soup_sub,DATE_SELECTOR)\n",
    "content = soup_sub.select(CONTENT_SELECTOR)\n",
    "content_final = robust_select(soup_sub,CONTENT_SELECTOR)"
   ]
  },
  {
   "cell_type": "code",
   "execution_count": 84,
   "metadata": {},
   "outputs": [
    {
     "data": {
      "text/plain": [
       "' 信息来源：深圳市交通运输局 信息提供日期：2020-04-14  【字体：大中小 】 视力保护色： '"
      ]
     },
     "execution_count": 84,
     "metadata": {},
     "output_type": "execute_result"
    }
   ],
   "source": [
    "date_final"
   ]
  },
  {
   "cell_type": "code",
   "execution_count": 122,
   "metadata": {},
   "outputs": [
    {
     "data": {
      "text/plain": [
       "'\\u3000\\u3000深圳地铁集团表示，为配合新线开通工作，地铁2号线将于4月17日及18日调整运营服务时间，届时将开行黄贝岭站-赤湾站和黄贝岭站-后海站两条公交接驳线路。\\u3000\\u30004月17日，地铁2号线将提前结束运营，运营时间调整为6∶30-21∶00；18日，地铁2号线将推迟开站运营时间，运营时间计划调整为9∶00-23∶00。为了方便期间市民乘客的出行，届时将组织循环开行2号线的两条公交接驳线路：公交接驳慢线为黄贝岭站-赤湾站，除新秀、燕南、华强北、深康、红树湾5个站点不停靠之外，其余各站均停靠上下客；公交接驳快线为黄贝岭站-后海站，仅停靠黄贝岭、大剧院、市民中心、福田、景田、安托山、世界之窗、后海共8个换乘站。（来源：深圳特区报）'"
      ]
     },
     "execution_count": 122,
     "metadata": {},
     "output_type": "execute_result"
    }
   ],
   "source": [
    "content_final"
   ]
  },
  {
   "cell_type": "code",
   "execution_count": 121,
   "metadata": {},
   "outputs": [
    {
     "data": {
      "text/plain": [
       "[<p indenttext=\"　　\" noextractcontent=\"true\" style=\"text-align: justify;\">　　深圳地铁集团表示，为配合新线开通工作，地铁2号线将于4月17日及18日调整运营服务时间，届时将开行黄贝岭站-赤湾站和黄贝岭站-后海站两条公交接驳线路。</p>,\n",
       " <p indenttext=\"　　\" noextractcontent=\"true\" style=\"text-align: justify;\">　　4月17日，地铁2号线将提前结束运营，运营时间调整为6∶30-21∶00；18日，地铁2号线将推迟开站运营时间，运营时间计划调整为9∶00-23∶00。为了方便期间市民乘客的出行，届时将组织循环开行2号线的两条公交接驳线路：公交接驳慢线为黄贝岭站-赤湾站，除新秀、燕南、华强北、深康、红树湾5个站点不停靠之外，其余各站均停靠上下客；公交接驳快线为黄贝岭站-后海站，仅停靠黄贝岭、大剧院、市民中心、福田、景田、安托山、世界之窗、后海共8个换乘站。（来源：深圳特区报）</p>]"
      ]
     },
     "execution_count": 121,
     "metadata": {},
     "output_type": "execute_result"
    }
   ],
   "source": [
    "content"
   ]
  },
  {
   "cell_type": "code",
   "execution_count": 58,
   "metadata": {},
   "outputs": [],
   "source": [
    "a = dateparser.parse(date_final)"
   ]
  },
  {
   "cell_type": "code",
   "execution_count": 109,
   "metadata": {},
   "outputs": [
    {
     "data": {
      "text/plain": [
       "['2020年04月14日', '2012-09-11', '2019/12/11', '2011.01.11']"
      ]
     },
     "execution_count": 109,
     "metadata": {},
     "output_type": "execute_result"
    }
   ],
   "source": [
    "re.findall('([0-9]+[-年月日/0-9\\.]*[0-9]+[日]?)',date_test)"
   ]
  },
  {
   "cell_type": "code",
   "execution_count": 128,
   "metadata": {},
   "outputs": [],
   "source": [
    "s = pd.read_csv('settings/selector_settings.csv',index_col='city')"
   ]
  },
  {
   "cell_type": "code",
   "execution_count": 141,
   "metadata": {},
   "outputs": [],
   "source": [
    "s.loc['深圳'][['title_selector','content_selector']] = [TITLE_SELECTOR,CONTENT_SELECTOR]"
   ]
  },
  {
   "cell_type": "code",
   "execution_count": 142,
   "metadata": {},
   "outputs": [
    {
     "data": {
      "text/html": [
       "<div>\n",
       "<style scoped>\n",
       "    .dataframe tbody tr th:only-of-type {\n",
       "        vertical-align: middle;\n",
       "    }\n",
       "\n",
       "    .dataframe tbody tr th {\n",
       "        vertical-align: top;\n",
       "    }\n",
       "\n",
       "    .dataframe thead th {\n",
       "        text-align: right;\n",
       "    }\n",
       "</style>\n",
       "<table border=\"1\" class=\"dataframe\">\n",
       "  <thead>\n",
       "    <tr style=\"text-align: right;\">\n",
       "      <th></th>\n",
       "      <th>title_selector</th>\n",
       "      <th>content_selector</th>\n",
       "    </tr>\n",
       "    <tr>\n",
       "      <th>city</th>\n",
       "      <th></th>\n",
       "      <th></th>\n",
       "    </tr>\n",
       "  </thead>\n",
       "  <tbody>\n",
       "    <tr>\n",
       "      <th>广州</th>\n",
       "      <td>h1.content_title</td>\n",
       "      <td>#zoomcon &gt; p</td>\n",
       "    </tr>\n",
       "    <tr>\n",
       "      <th>北京</th>\n",
       "      <td>div.header&gt;h1</td>\n",
       "      <td>#mainText</td>\n",
       "    </tr>\n",
       "    <tr>\n",
       "      <th>上海</th>\n",
       "      <td>div#ivs_title</td>\n",
       "      <td>div#ivs_content&gt;p</td>\n",
       "    </tr>\n",
       "    <tr>\n",
       "      <th>深圳</th>\n",
       "      <td>div.zx_xxgk_cont&gt;div.tit&gt;h1</td>\n",
       "      <td>div.news_cont_d_wrap&gt;p</td>\n",
       "    </tr>\n",
       "    <tr>\n",
       "      <th>哈尔滨</th>\n",
       "      <td>td.title&gt;h2.title&gt;script</td>\n",
       "      <td>NaN</td>\n",
       "    </tr>\n",
       "    <tr>\n",
       "      <th>南宁</th>\n",
       "      <td>div#ucap-title</td>\n",
       "      <td>#zoom</td>\n",
       "    </tr>\n",
       "    <tr>\n",
       "      <th>太原</th>\n",
       "      <td>NaN</td>\n",
       "      <td>NaN</td>\n",
       "    </tr>\n",
       "    <tr>\n",
       "      <th>长春</th>\n",
       "      <td>div.xyh_xxynrq&gt;h2</td>\n",
       "      <td>#Zoom</td>\n",
       "    </tr>\n",
       "    <tr>\n",
       "      <th>合肥</th>\n",
       "      <td>h1.newstitle</td>\n",
       "      <td>#zoom</td>\n",
       "    </tr>\n",
       "    <tr>\n",
       "      <th>南昌</th>\n",
       "      <td>NaN</td>\n",
       "      <td>NaN</td>\n",
       "    </tr>\n",
       "    <tr>\n",
       "      <th>重庆</th>\n",
       "      <td>NaN</td>\n",
       "      <td>NaN</td>\n",
       "    </tr>\n",
       "    <tr>\n",
       "      <th>天津</th>\n",
       "      <td>td&gt;span#span_docTitle</td>\n",
       "      <td>body &gt; div.main &gt; div.article &gt; div.article_co...</td>\n",
       "    </tr>\n",
       "    <tr>\n",
       "      <th>海口</th>\n",
       "      <td>div.maincon&gt;h1.maincon-t</td>\n",
       "      <td>#zl_Articel &gt; div</td>\n",
       "    </tr>\n",
       "    <tr>\n",
       "      <th>贵阳</th>\n",
       "      <td>#NewsArticleTitle</td>\n",
       "      <td>#Zoom &gt; div</td>\n",
       "    </tr>\n",
       "    <tr>\n",
       "      <th>石家庄</th>\n",
       "      <td>span#title_</td>\n",
       "      <td>#conN</td>\n",
       "    </tr>\n",
       "    <tr>\n",
       "      <th>成都</th>\n",
       "      <td>body &gt; div.container &gt; div.detail_content.bode...</td>\n",
       "      <td>body &gt; div.container &gt; div.detail_content.bode...</td>\n",
       "    </tr>\n",
       "    <tr>\n",
       "      <th>杭州</th>\n",
       "      <td>#c &gt; tbody &gt; tr:nth-child(1) &gt; td</td>\n",
       "      <td>#zoom</td>\n",
       "    </tr>\n",
       "    <tr>\n",
       "      <th>武汉</th>\n",
       "      <td>div.wrapper.w &gt; div.articleWrapper &gt; div &gt; h2:...</td>\n",
       "      <td>body &gt; div.wrapper.w &gt; div.articleWrapper &gt; di...</td>\n",
       "    </tr>\n",
       "    <tr>\n",
       "      <th>南京</th>\n",
       "      <td>NaN</td>\n",
       "      <td>NaN</td>\n",
       "    </tr>\n",
       "    <tr>\n",
       "      <th>长沙</th>\n",
       "      <td>#list &gt; div &gt; div.oneColumn.pub_border &gt; h1</td>\n",
       "      <td>#zoom</td>\n",
       "    </tr>\n",
       "    <tr>\n",
       "      <th>郑州</th>\n",
       "      <td>body &gt; div.main-body &gt; div.main-wrap.main-cont...</td>\n",
       "      <td>body &gt; div.main-body &gt; div.main-wrap.main-cont...</td>\n",
       "    </tr>\n",
       "    <tr>\n",
       "      <th>青岛</th>\n",
       "      <td>NaN</td>\n",
       "      <td>NaN</td>\n",
       "    </tr>\n",
       "    <tr>\n",
       "      <th>沈阳</th>\n",
       "      <td>NaN</td>\n",
       "      <td>NaN</td>\n",
       "    </tr>\n",
       "    <tr>\n",
       "      <th>福州</th>\n",
       "      <td>body &gt; div:nth-child(4) &gt; div.ny_box &gt; div &gt; d...</td>\n",
       "      <td>#detailCon</td>\n",
       "    </tr>\n",
       "    <tr>\n",
       "      <th>昆明</th>\n",
       "      <td>body &gt; div.container &gt; div.listbg_right &gt; div....</td>\n",
       "      <td>body &gt; div.container &gt; div.listbg_right &gt; div....</td>\n",
       "    </tr>\n",
       "  </tbody>\n",
       "</table>\n",
       "</div>"
      ],
      "text/plain": [
       "                                         title_selector  \\\n",
       "city                                                      \n",
       "广州                                     h1.content_title   \n",
       "北京                                        div.header>h1   \n",
       "上海                                        div#ivs_title   \n",
       "深圳                          div.zx_xxgk_cont>div.tit>h1   \n",
       "哈尔滨                            td.title>h2.title>script   \n",
       "南宁                                       div#ucap-title   \n",
       "太原                                                  NaN   \n",
       "长春                                    div.xyh_xxynrq>h2   \n",
       "合肥                                         h1.newstitle   \n",
       "南昌                                                  NaN   \n",
       "重庆                                                  NaN   \n",
       "天津                                td>span#span_docTitle   \n",
       "海口                             div.maincon>h1.maincon-t   \n",
       "贵阳                                    #NewsArticleTitle   \n",
       "石家庄                                         span#title_   \n",
       "成都    body > div.container > div.detail_content.bode...   \n",
       "杭州                    #c > tbody > tr:nth-child(1) > td   \n",
       "武汉    div.wrapper.w > div.articleWrapper > div > h2:...   \n",
       "南京                                                  NaN   \n",
       "长沙          #list > div > div.oneColumn.pub_border > h1   \n",
       "郑州    body > div.main-body > div.main-wrap.main-cont...   \n",
       "青岛                                                  NaN   \n",
       "沈阳                                                  NaN   \n",
       "福州    body > div:nth-child(4) > div.ny_box > div > d...   \n",
       "昆明    body > div.container > div.listbg_right > div....   \n",
       "\n",
       "                                       content_selector  \n",
       "city                                                     \n",
       "广州                                         #zoomcon > p  \n",
       "北京                                            #mainText  \n",
       "上海                                    div#ivs_content>p  \n",
       "深圳                               div.news_cont_d_wrap>p  \n",
       "哈尔滨                                                 NaN  \n",
       "南宁                                                #zoom  \n",
       "太原                                                  NaN  \n",
       "长春                                                #Zoom  \n",
       "合肥                                                #zoom  \n",
       "南昌                                                  NaN  \n",
       "重庆                                                  NaN  \n",
       "天津    body > div.main > div.article > div.article_co...  \n",
       "海口                                    #zl_Articel > div  \n",
       "贵阳                                          #Zoom > div  \n",
       "石家庄                                               #conN  \n",
       "成都    body > div.container > div.detail_content.bode...  \n",
       "杭州                                                #zoom  \n",
       "武汉    body > div.wrapper.w > div.articleWrapper > di...  \n",
       "南京                                                  NaN  \n",
       "长沙                                                #zoom  \n",
       "郑州    body > div.main-body > div.main-wrap.main-cont...  \n",
       "青岛                                                  NaN  \n",
       "沈阳                                                  NaN  \n",
       "福州                                           #detailCon  \n",
       "昆明    body > div.container > div.listbg_right > div....  "
      ]
     },
     "execution_count": 142,
     "metadata": {},
     "output_type": "execute_result"
    }
   ],
   "source": [
    "s[['title_selector','content_selector']]"
   ]
  },
  {
   "cell_type": "code",
   "execution_count": 143,
   "metadata": {},
   "outputs": [],
   "source": [
    "s.to_csv('settings/selector_settings.csv',encoding='utf_8_sig')"
   ]
  },
  {
   "cell_type": "code",
   "execution_count": null,
   "metadata": {},
   "outputs": [],
   "source": []
  }
 ],
 "metadata": {
  "kernelspec": {
   "display_name": "Python 3",
   "language": "python",
   "name": "python3"
  },
  "language_info": {
   "codemirror_mode": {
    "name": "ipython",
    "version": 3
   },
   "file_extension": ".py",
   "mimetype": "text/x-python",
   "name": "python",
   "nbconvert_exporter": "python",
   "pygments_lexer": "ipython3",
   "version": "3.8.2"
  }
 },
 "nbformat": 4,
 "nbformat_minor": 4
}
