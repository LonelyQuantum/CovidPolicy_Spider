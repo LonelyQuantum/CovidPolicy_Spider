{
 "cells": [
  {
   "cell_type": "code",
   "execution_count": 1,
   "metadata": {},
   "outputs": [],
   "source": [
    "import bs4\n",
    "from bs4 import BeautifulSoup\n",
    "from selenium import webdriver\n",
    "import requests\n",
    "\n",
    "import random\n",
    "import time\n",
    "import pandas as pd\n",
    "import math\n",
    "\n",
    "import os"
   ]
  },
  {
   "cell_type": "code",
   "execution_count": 2,
   "metadata": {},
   "outputs": [],
   "source": [
    "my_headers_Get = {\n",
    "    'User-Agent': 'Mozilla/5.0 (Macintosh; Intel Mac OS X 10_14_4) AppleWebKit/537.36 (KHTML, like Gecko) Chrome/74.0.3729.169 Safari/537.36',\n",
    "    'Accept': 'text/html,application/xhtml+xml,application/xml;q=0.9,image/webp,image/apng,*/*;q=0.8,application/signed-exchange;v=b3',\n",
    "    'Accept-Language': 'zh-CN,zh;q=0.9,en;q=0.8',\n",
    "    'Accept-Encoding': 'gzip, deflate, br',\n",
    "    'Connection': 'keep-alive',\n",
    "    'Upgrade-Insecure-Requests': '1'\n",
    "}\n",
    "\n",
    "def getPage(url):\n",
    "    delay = 0.1*random.random()\n",
    "    time.sleep(delay)\n",
    "    s = requests.Session()\n",
    "    return s.get(url, headers=my_headers_Get)"
   ]
  },
  {
   "cell_type": "code",
   "execution_count": 11,
   "metadata": {},
   "outputs": [],
   "source": [
    "options = webdriver.ChromeOptions()\n",
    "options.add_argument('headless')\n",
    "\n",
    "test_url = 'http://www.beijing.gov.cn/zhengce/zhengcefagui/'\n",
    "driver = webdriver.Chrome(options=options)\n",
    "driver.get(test_url)\n"
   ]
  },
  {
   "cell_type": "code",
   "execution_count": 15,
   "metadata": {},
   "outputs": [],
   "source": [
    "driver.execute_script('Pager({size:273, current:0, prefix:\\'index\\',suffix:\\'html\\'})')\n",
    "soup = BeautifulSoup(driver.page_source.content.decode('utf-8'), 'html.parser')\n"
   ]
  },
  {
   "cell_type": "code",
   "execution_count": 18,
   "metadata": {},
   "outputs": [
    {
     "ename": "TypeError",
     "evalue": "'WebElement' object is not subscriptable",
     "output_type": "error",
     "traceback": [
      "\u001b[0;31m---------------------------------------------------------------------------\u001b[0m",
      "\u001b[0;31mTypeError\u001b[0m                                 Traceback (most recent call last)",
      "\u001b[0;32m<ipython-input-18-f0deb839c61e>\u001b[0m in \u001b[0;36m<module>\u001b[0;34m\u001b[0m\n\u001b[0;32m----> 1\u001b[0;31m \u001b[0mresults\u001b[0m\u001b[0;34m[\u001b[0m\u001b[0;34m'href'\u001b[0m\u001b[0;34m]\u001b[0m\u001b[0;34m\u001b[0m\u001b[0;34m\u001b[0m\u001b[0m\n\u001b[0m",
      "\u001b[0;31mTypeError\u001b[0m: 'WebElement' object is not subscriptable"
     ]
    }
   ],
   "source": [
    "results.att"
   ]
  },
  {
   "cell_type": "code",
   "execution_count": 13,
   "metadata": {},
   "outputs": [],
   "source": [
    "test_selector = 'body > div.listBox > div > a.next'\n",
    "content = soup.select(test_selector)"
   ]
  },
  {
   "cell_type": "code",
   "execution_count": 63,
   "metadata": {},
   "outputs": [
    {
     "data": {
      "text/plain": [
       "True"
      ]
     },
     "execution_count": 63,
     "metadata": {},
     "output_type": "execute_result"
    }
   ],
   "source": [
    "'广州.json' in os.listdir('results/json/')"
   ]
  },
  {
   "cell_type": "code",
   "execution_count": 23,
   "metadata": {},
   "outputs": [
    {
     "data": {
      "text/plain": [
       "'/Users/pengshenglin/Developer/Python Projects/Individual Project/CovidPolicy_Spider'"
      ]
     },
     "execution_count": 23,
     "metadata": {},
     "output_type": "execute_result"
    }
   ],
   "source": [
    "os.getcwd()"
   ]
  },
  {
   "cell_type": "code",
   "execution_count": 14,
   "metadata": {},
   "outputs": [
    {
     "data": {
      "text/plain": [
       "[]"
      ]
     },
     "execution_count": 14,
     "metadata": {},
     "output_type": "execute_result"
    }
   ],
   "source": [
    "content"
   ]
  },
  {
   "cell_type": "code",
   "execution_count": 63,
   "metadata": {},
   "outputs": [],
   "source": [
    "\n",
    "\n",
    "invalidLink1='#'\n",
    "invalidLink2='javascript:void(0)'\n",
    "\n",
    "\n",
    "result = set()\n",
    "for url in soup.find_all('li'):\n",
    "    for k in soup.find_all(url):\n",
    "        #print(k)\n",
    "        #查找href标签\n",
    "        link=k.get('href')\n",
    "\n",
    "        if(link is not None):\n",
    "            if link==invalidLink1:\n",
    "                pass\n",
    "            elif link==invalidLink2:\n",
    "                pass\n",
    "            elif link.find(\"javascript:\")!=-1:\n",
    "                pass\n",
    "            else:\n",
    "                result.add(link)\n",
    "\n"
   ]
  },
  {
   "cell_type": "code",
   "execution_count": 77,
   "metadata": {},
   "outputs": [
    {
     "data": {
      "text/plain": [
       "bs4.element.Tag"
      ]
     },
     "execution_count": 77,
     "metadata": {},
     "output_type": "execute_result"
    }
   ],
   "source": [
    "type(soup.find_all('li')[1])"
   ]
  },
  {
   "cell_type": "code",
   "execution_count": 15,
   "metadata": {
    "scrolled": true
   },
   "outputs": [
    {
     "name": "stdout",
     "output_type": "stream",
     "text": [
      "http://www.gz.gov.cn/xw/tzgg/content/post_5815370.html\n",
      "http://www.gz.gov.cn/xw/tzgg/content/post_5814356.html\n",
      "http://www.gz.gov.cn/xw/tzgg/content/post_5812555.html\n",
      "http://www.gz.gov.cn/xw/tzgg/content/post_5812549.html\n",
      "http://www.gz.gov.cn/xw/tzgg/content/post_5812109.html\n",
      "http://www.gz.gov.cn/xw/tzgg/content/post_5812106.html\n",
      "http://www.gz.gov.cn/xw/tzgg/content/post_5807650.html\n",
      "http://www.gz.gov.cn/xw/tzgg/content/post_5806089.html\n",
      "http://www.gz.gov.cn/xw/tzgg/content/post_5805665.html\n",
      "http://www.gz.gov.cn/xw/tzgg/content/post_5805637.html\n",
      "http://www.gz.gov.cn/xw/tzgg/content/post_5805382.html\n",
      "http://www.gz.gov.cn/xw/tzgg/content/post_5805645.html\n",
      "http://www.gz.gov.cn/xw/tzgg/content/post_5797191.html\n",
      "http://www.gz.gov.cn/xw/tzgg/content/post_5797416.html\n",
      "http://www.gz.gov.cn/xw/tzgg/content/post_5795795.html\n"
     ]
    }
   ],
   "source": [
    "##Test selectors\n",
    "test_url = 'http://www.gz.gov.cn/xw/tzgg/'\n",
    "page = getPage(test_url)\n",
    "soup = BeautifulSoup(page.text, 'html.parser')\n",
    "\n",
    "from urllib import parse\n",
    "test_selector = 'a'\n",
    "page = getPage(test_url)\n",
    "soup = BeautifulSoup(page.text, 'html.parser')\n",
    "content = soup.select('ul.news_list li a')\n",
    "\n",
    "for i in content:\n",
    "    new_full_url = parse.urljoin(test_url,i.attrs['href'])\n",
    "    print(new_full_url)"
   ]
  },
  {
   "cell_type": "code",
   "execution_count": 9,
   "metadata": {},
   "outputs": [
    {
     "data": {
      "text/plain": [
       "[<a href=\"http://www.gz.gov.cn/sofpro/gzyyqt/12345web/s_login.jsp\" target=\"_blank\">登录</a>,\n",
       " <a href=\"#\">语言<i></i></a>,\n",
       " <a class=\"zh_click\" id=\"zh_click_s\" onclick=\"zh_tran('s')\">简体</a>,\n",
       " <a class=\"zh_click\" id=\"zh_click_t\" onclick=\"zh_tran('t')\" style=\"color: rgb(198, 228, 255);\">繁體</a>,\n",
       " <a href=\"http://www.gz.gov.cn/guangzhouinternational/index.html\" target=\"_blank\">English</a>,\n",
       " <a href=\"#\">手机端<i></i></a>,\n",
       " <a class=\"wza\" href=\"http://voice.gz.gov.cn/.m/turbowas/a.jsp?entryUri=/&amp;entryDomain=http://www.gz.gov.cn\" target=\"_blank\">无障碍</a>,\n",
       " <a href=\"#\">微信<i></i></a>,\n",
       " <a href=\"#\">微博<i></i></a>,\n",
       " <a href=\"http://weibo.com/2605594314\" target=\"_blank\"><img src=\"./static/images/zggzfb.jpg\"/><span>中国广州发布</span></a>,\n",
       " <a href=\"http://weibo.com/2532700305\" target=\"_blank\"><img src=\"./static/images/gzzfxwb.jpg\"/><span>广州市政府<br/>新闻办</span></a>,\n",
       " <a href=\"http://mail.gz.gov.cn/\" target=\"_parent\">政务邮箱</a>,\n",
       " <a href=\"/\" target=\"_blank\">首页</a>,\n",
       " <a href=\"http://www.gz.gov.cn/zwgk/index.html\" target=\"_blank\">政务公开</a>,\n",
       " <a href=\"http://www.gz.gov.cn/zwfw/index.html\" target=\"_blank\">政务服务</a>,\n",
       " <a href=\"http://www.gz.gov.cn/hdjl/index.html\" target=\"_blank\">互动交流</a>,\n",
       " <a href=\"http://www.gz.gov.cn/ysgz/index.html\" target=\"_blank\">营商环境</a>,\n",
       " <a href=\"http://www.gz.gov.cn/zlgz/index.html\" target=\"_blank\">魅力广州</a>,\n",
       " <a href=\"/\" target=\"_blank\">首页</a>,\n",
       " <a href=\"http://www.gz.gov.cn/zwgk/index.html\" target=\"_blank\">政务公开</a>,\n",
       " <a href=\"http://www.gz.gov.cn/zwfw/index.html\" target=\"_blank\">政务服务</a>,\n",
       " <a href=\"http://www.gz.gov.cn/hdjl/index.html\" target=\"_blank\">互动交流</a>,\n",
       " <a href=\"http://www.gz.gov.cn/ysgz/index.html\" target=\"_blank\">营商环境</a>,\n",
       " <a href=\"http://www.gz.gov.cn/zlgz/index.html\" target=\"_blank\">魅力广州</a>,\n",
       " <a href=\"http://www.gz.gov.cn/xw/tzgg/content/post_5815370.html\" target=\"_blank\" title=\"广州市新冠肺炎防控指挥办文化旅游防控组关于印发广州市“五一”假期出行新冠肺炎疫情防控工作指引的通知\">广州市新冠肺炎防控指挥办文化旅游防控组关于印发广州市“五一”假期出行新冠肺炎疫情防控工作指引的通知</a>,\n",
       " <a href=\"http://www.gz.gov.cn/xw/tzgg/content/post_5814356.html\" target=\"_blank\" title=\"广州市医疗保障局  广州市卫生健康委员会关于做好慢性病长处方和“互联网+” 复诊工作的通知\">广州市医疗保障局  广州市卫生健康委员会关于做好慢性病长处方和“互联网+” 复诊工作的通知</a>,\n",
       " <a href=\"http://www.gz.gov.cn/xw/tzgg/content/post_5812555.html\" target=\"_blank\" title=\"广州市交通运输局关于申报新能源货车购置地方财政补贴的通知\">广州市交通运输局关于申报新能源货车购置地方财政补贴的通知</a>,\n",
       " <a href=\"http://www.gz.gov.cn/xw/tzgg/content/post_5812549.html\" target=\"_blank\" title=\"广州市交通运输局 广州公共资源交易中心关于普通公路养护工程全面推行电子化招标的通知\">广州市交通运输局 广州公共资源交易中心关于普通公路养护工程全面推行电子化招标的通知</a>,\n",
       " <a href=\"http://www.gz.gov.cn/xw/tzgg/content/post_5812109.html\" target=\"_blank\" title=\"关于广州市2020年城镇国有建设用地标定地价更新成果听证会的公告\">关于广州市2020年城镇国有建设用地标定地价更新成果听证会的公告</a>,\n",
       " <a href=\"http://www.gz.gov.cn/xw/tzgg/content/post_5812106.html\" target=\"_blank\" title=\"广州市不动产登记中心2020年劳动节放假通告\">广州市不动产登记中心2020年劳动节放假通告</a>,\n",
       " <a href=\"http://www.gz.gov.cn/xw/tzgg/content/post_5807650.html\" target=\"_blank\" title=\"广州市商务局关于印发商业服务企业新常态下做好疫情防控工作指引的通知\">广州市商务局关于印发商业服务企业新常态下做好疫情防控工作指引的通知</a>,\n",
       " <a href=\"http://www.gz.gov.cn/xw/tzgg/content/post_5806089.html\" target=\"_blank\" title=\"行政处罚听证通告\">行政处罚听证通告</a>,\n",
       " <a href=\"http://www.gz.gov.cn/xw/tzgg/content/post_5805665.html\" target=\"_blank\" title=\"广州市疫情防控重点保障企业优惠贷款贴息申报补充指引\">广州市疫情防控重点保障企业优惠贷款贴息申报补充指引</a>,\n",
       " <a href=\"http://www.gz.gov.cn/xw/tzgg/content/post_5805637.html\" target=\"_blank\" title=\"关于延长我市非营利组织免税资格复审申请期限的通知\">关于延长我市非营利组织免税资格复审申请期限的通知</a>,\n",
       " <a href=\"http://www.gz.gov.cn/xw/tzgg/content/post_5805382.html\" target=\"_blank\" title=\"广州市市场监督管理局关于开展动产抵押委托登记试点工作的通告\">广州市市场监督管理局关于开展动产抵押委托登记试点工作的通告</a>,\n",
       " <a href=\"http://www.gz.gov.cn/xw/tzgg/content/post_5805645.html\" target=\"_blank\" title=\"市财政局行政处罚听证通告\">市财政局行政处罚听证通告</a>,\n",
       " <a href=\"http://www.gz.gov.cn/xw/tzgg/content/post_5797191.html\" target=\"_blank\" title=\"广州市市场监督管理局关于公示广州市知识产权运营服务体系建设中央专项资金2019-2020年公开征集项目第一批拟立项项目的通告\">广州市市场监督管理局关于公示广州市知识产权运营服务体系建设中央专项资金2019-2020年公开征集项目第一批拟立项项目的通告</a>,\n",
       " <a href=\"http://www.gz.gov.cn/xw/tzgg/content/post_5797416.html\" target=\"_blank\" title=\"2020年4月黄埔区政府领导接听12345热线群众来电公告\">2020年4月黄埔区政府领导接听12345热线群众来电公告</a>,\n",
       " <a href=\"http://www.gz.gov.cn/xw/tzgg/content/post_5795795.html\" target=\"_blank\" title=\"广州市规划和自然资源局关于土地核验（土地出让金核实）纳入联合验收有关工作的通知\">广州市规划和自然资源局关于土地核验（土地出让金核实）纳入联合验收有关工作的通知</a>,\n",
       " <a class=\"rotate\" id=\"sk\"><i></i>穗康</a>,\n",
       " <a class=\"rotate\" id=\"sk\"><i style=\"height:53px\"></i></a>,\n",
       " <a class=\"rotate\" href=\"http://www.gz.gov.cn/hdjl/12345rx/sysm/index.html\" target=\"_blank\"><i></i><span>广州12345</span></a>,\n",
       " <a class=\"rotate\" href=\"http://www.gz.gov.cn/zwfw/bmcx/index.html\" target=\"_blank\"><i></i>我要查</a>,\n",
       " <a class=\"rotate\" href=\"http://www.gdzwfw.gov.cn/portal/index?region=440100\" target=\"_blank\"><i></i>我要办</a>,\n",
       " <a class=\"rotate\" href=\"/dhc/qa/\" target=\"_blank\"><i></i>智能问答</a>,\n",
       " <a class=\"rotate\" href=\"http://www.gz.gov.cn/yy/index.html\" target=\"_blank\"><i></i>应用</a>]"
      ]
     },
     "execution_count": 9,
     "metadata": {},
     "output_type": "execute_result"
    }
   ],
   "source": [
    "content"
   ]
  },
  {
   "cell_type": "code",
   "execution_count": 67,
   "metadata": {},
   "outputs": [],
   "source": [
    "start_url = 'http://www.gz.gov.cn/xw/tzgg/'\n",
    "\n",
    "page = getPage(start_url)\n",
    "indicator = True\n",
    "all_res = []\n",
    "\n",
    "while indicator:\n",
    "    soup = BeautifulSoup(page.text, 'html.parser')\n",
    "    newsset = soup.select('ul.news_list>li>a')\n",
    "    for news in newsset:\n",
    "        title = news['title']\n",
    "        url = news['href']\n",
    "        announcepage = getPage(url)\n",
    "        announce_soup = BeautifulSoup(announcepage.text,'html.parser')\n",
    "        source = announce_soup.select_one('#laiyuan > b').text\n",
    "        all_res.append({\n",
    "            'title': title,\n",
    "            'url': url,\n",
    "            'source': source\n",
    "        })\n",
    "    indicator = False"
   ]
  },
  {
   "cell_type": "code",
   "execution_count": 9,
   "metadata": {},
   "outputs": [],
   "source": [
    "urlprefix = 'https://www.baidu.com/s?&wd='\n",
    "urlsuffix = '市人民政府通知公告'\n",
    "cities = ['广州', '北京', '上海', '深圳', '哈尔滨', '南宁', '太原', '长春', '合肥', '南昌', '重庆', '天津', \n",
    "          '海口', '贵阳', '石家庄', '成都', '杭州', '武汉', '南京', '长沙', '郑州', '青岛', '沈阳', '福州', \n",
    "          '昆明']"
   ]
  },
  {
   "cell_type": "code",
   "execution_count": 44,
   "metadata": {},
   "outputs": [
    {
     "name": "stdout",
     "output_type": "stream",
     "text": [
      "通知公告 - 广州市人民政府门户网站_中国广州政府\n",
      "http://www.gz.gov.cn/xw/tzgg/mindex.html\n",
      "通知公告\n",
      "http://www.bjtzh.gov.cn/bjtz/home/tzgg/index.shtml\n",
      "通知公告_上海市宝山区人民政府\n",
      "http://www.shbsq.gov.cn/shbs/gsgg/\n",
      "通知公告--深圳政府在线_深圳市人民政府门户网站\n",
      "http://www.sz.gov.cn/cn/xxgk/zfxxgj/tzgg/index.html\n",
      "哈尔滨市人民政府 通知公告\n",
      "http://www.harbin.gov.cn/col/col209/index.html#!uid=832&pageNum=1\n",
      "通知公告_南宁市人民政府国有资产监督管理委员会\n",
      "http://gzw.nanning.gov.cn/xxgk/zwdt/tzgg/\n",
      "政府公告-太原市人民政府门户网站\n",
      "HTTPConnectionPool(host='www.taiyuan.gov.cn', port=80): Max retries exceeded with url: /xwzx/zfgg/index.shtml (Caused by NewConnectionError('<urllib3.connection.HTTPConnection object at 0x11156d990>: Failed to establish a new connection: [Errno 60] Operation timed out'))\n",
      "\n",
      "通知公告 - 长春市人民政府-中国长春_长春政务网\n",
      "http://www.changchun.gov.cn/zw_33994/tzgg/\n",
      "合肥市人民政府关于2020年秸秆禁烧工作的通告 - 通知公告_合肥市...\n",
      "http://www.hfss.gov.cn/zqdh/zjyq/slajdbsc/tzgg/10939381.html\n",
      "通知公告 - 南昌市财政局\n",
      "HTTPConnectionPool(host='czj.nc.gov.cn', port=80): Max retries exceeded with url: /ncczj/tzgg/nav_list.shtml (Caused by NewConnectionError('<urllib3.connection.HTTPConnection object at 0x111aaec90>: Failed to establish a new connection: [Errno 8] nodename nor servname provided, or not known'))\n",
      "\n",
      "通知公告_重庆市人民政府网\n",
      "http://www.cq.gov.cn/zwgk/wlzcwj/zbtb/cqjy/tzgg/\n",
      "通知公告_天津市人民政府国有资产监督管理委员会\n",
      "http://sasac.tj.gov.cn/tzgg\n",
      "通知公告-海口市龙华区人民政府\n",
      "http://lhqzf.haikou.gov.cn/jrlh1/tzgg.htm\n",
      "贵阳市白云区人民政府网站-通知公告\n",
      "http://www.gzbaiyun.gov.cn/xwdt/tzgg/\n",
      "通知公告-石家庄市人民政府\n",
      "http://www.sjz.gov.cn/col/1490076478426/\n",
      "各单位、各企业: 按照《中共成都市委办公厅成都市人民政府...\n",
      "http://www.chengdu.gov.cn/xdqjxtzj/tzgg/2020-04/28/content_f625044594a341b793709908a60fb313.shtml\n",
      "杭州市临安区人民政府 通知公告_浙江临安政府网\n",
      "http://www.linan.gov.cn/col/col1459500/index.html\n",
      "通知公告 - 武汉市硚口区人民政府门户网站\n",
      "HTTPSConnectionPool(host='www.qiaokou.gov.cn', port=443): Max retries exceeded with url: /qkxw/tzgg/ (Caused by SSLError(SSLError(\"bad handshake: Error([('SSL routines', 'tls_process_server_certificate', 'certificate verify failed')])\")))\n",
      "\n",
      "南京市江宁区人民政府-通知公告\n",
      "http://www.jiangning.gov.cn/xwzx/tzgg/\n",
      "长沙市政府门户网站-通知公告\n",
      "http://www.changsha.gov.cn/szf/tzgg/\n",
      "通知公告 - 郑州市人民政府\n",
      "http://www.zhengzhou.gov.cn/news6/index.jhtml\n",
      "青岛市司法局\n",
      "http://qdsf.qingdao.gov.cn/n3707475/n32567583/\n",
      "通知公告-沈阳市铁西区人民政府\n",
      "HTTPConnectionPool(host='www.tiexi.gov.cn', port=80): Max retries exceeded with url: /sytx/tzgg/glist.html (Caused by NewConnectionError('<urllib3.connection.HTTPConnection object at 0x1128cd310>: Failed to establish a new connection: [Errno 60] Operation timed out'))\n",
      "\n",
      "公告_通知公告_福州市人民政府\n",
      "http://www.fuzhou.gov.cn/tzgg/201912/t20191230_3158768.htm\n",
      "昆明市人民政府金融办公室_通知公告\n",
      "http://jrb.km.gov.cn/tzgg/\n"
     ]
    }
   ],
   "source": [
    "city_govs = pd.DataFrame(columns=['city','url','name'])\n",
    "for city in cities:\n",
    "    url = urlprefix + city + urlsuffix\n",
    "    page = getPage(url)\n",
    "    soup = BeautifulSoup(page.text, 'html.parser')\n",
    "    firstitem = soup.select('div.result.c\\-container > h3.t')[0]\n",
    "    name = firstitem.text\n",
    "    print(name)\n",
    "    try:\n",
    "        subpage = getPage(firstitem.a['href'])\n",
    "        url_t = subpage.url\n",
    "    except Exception as err:\n",
    "        print(err)\n",
    "        url_t = ''\n",
    "    finally:\n",
    "        print(url_t)\n",
    "        city_govs = city_govs.append({'city':city,'url':url_t,'name':name},ignore_index=True)"
   ]
  },
  {
   "cell_type": "code",
   "execution_count": 61,
   "metadata": {},
   "outputs": [],
   "source": [
    "city_govs.to_csv('settings/city_govs.csv',index=False)"
   ]
  },
  {
   "cell_type": "code",
   "execution_count": 47,
   "metadata": {},
   "outputs": [
    {
     "data": {
      "text/plain": [
       "25"
      ]
     },
     "execution_count": 47,
     "metadata": {},
     "output_type": "execute_result"
    }
   ],
   "source": [
    "city_govs.index"
   ]
  },
  {
   "cell_type": "code",
   "execution_count": 17,
   "metadata": {},
   "outputs": [],
   "source": [
    "citygovs2 = pd.read_csv('settings/city_govs.csv',index_col='city')"
   ]
  },
  {
   "cell_type": "code",
   "execution_count": 12,
   "metadata": {},
   "outputs": [],
   "source": [
    "citygovs2.to_csv('settings/city_govs.csv',encoding='utf_8_sig')"
   ]
  },
  {
   "cell_type": "code",
   "execution_count": 4,
   "metadata": {},
   "outputs": [],
   "source": [
    "a = pd.read_csv('settings/selector_settings.csv',index_col = 'city')"
   ]
  },
  {
   "cell_type": "code",
   "execution_count": 26,
   "metadata": {},
   "outputs": [
    {
     "data": {
      "text/plain": [
       "True"
      ]
     },
     "execution_count": 26,
     "metadata": {},
     "output_type": "execute_result"
    }
   ],
   "source": [
    "b = a['news_selector']['北京']\n",
    "math.isnan(b)"
   ]
  },
  {
   "cell_type": "code",
   "execution_count": 22,
   "metadata": {},
   "outputs": [
    {
     "data": {
      "text/plain": [
       "nan"
      ]
     },
     "execution_count": 22,
     "metadata": {},
     "output_type": "execute_result"
    }
   ],
   "source": [
    "b"
   ]
  },
  {
   "cell_type": "code",
   "execution_count": 2,
   "metadata": {},
   "outputs": [],
   "source": []
  },
  {
   "cell_type": "code",
   "execution_count": null,
   "metadata": {},
   "outputs": [],
   "source": []
  }
 ],
 "metadata": {
  "kernelspec": {
   "display_name": "Python 3",
   "language": "python",
   "name": "python3"
  },
  "language_info": {
   "codemirror_mode": {
    "name": "ipython",
    "version": 3
   },
   "file_extension": ".py",
   "mimetype": "text/x-python",
   "name": "python",
   "nbconvert_exporter": "python",
   "pygments_lexer": "ipython3",
   "version": "3.8.2"
  }
 },
 "nbformat": 4,
 "nbformat_minor": 4
}
