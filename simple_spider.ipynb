{
 "cells": [
  {
   "cell_type": "code",
   "execution_count": 3,
   "metadata": {},
   "outputs": [],
   "source": [
    "import bs4\n",
    "from bs4 import BeautifulSoup\n",
    "from selenium import webdriver\n",
    "import requests\n",
    "\n",
    "import random\n",
    "import time\n",
    "import pandas as pd\n",
    "import math\n",
    "from urllib import parse\n",
    "import os"
   ]
  },
  {
   "cell_type": "code",
   "execution_count": 4,
   "metadata": {},
   "outputs": [],
   "source": [
    "my_headers_Get = {\n",
    "    'User-Agent': 'Mozilla/5.0 (Macintosh; Intel Mac OS X 10_14_4) AppleWebKit/537.36 (KHTML, like Gecko) Chrome/74.0.3729.169 Safari/537.36',\n",
    "    'Accept': 'text/html,application/xhtml+xml,application/xml;q=0.9,image/webp,image/apng,*/*;q=0.8,application/signed-exchange;v=b3',\n",
    "    'Accept-Language': 'zh-CN,zh;q=0.9,en;q=0.8',\n",
    "    'Accept-Encoding': 'gzip, deflate, br',\n",
    "    'Connection': 'keep-alive',\n",
    "    'Upgrade-Insecure-Requests': '1'\n",
    "}\n",
    "\n",
    "def getPage(url):\n",
    "    delay = 0.1*random.random()\n",
    "    time.sleep(delay)\n",
    "    s = requests.Session()\n",
    "    return s.get(url, headers=my_headers_Get)\n",
    "\n",
    "def robust_select(soup,SELECTOR):\n",
    "    if type(SELECTOR) is not str:\n",
    "        return None\n",
    "    else:\n",
    "        res = soup.select(SELECTOR)\n",
    "        if res is None:\n",
    "            return None\n",
    "        else:\n",
    "            if len(res) == 1:\n",
    "                return res[0].text\n",
    "            else:\n",
    "                rescombined = ''\n",
    "                for part in res:\n",
    "                    rescombined += part.text\n",
    "                return rescombined"
   ]
  },
  {
   "cell_type": "code",
   "execution_count": 15,
   "metadata": {},
   "outputs": [],
   "source": [
    "#test_url = 'http://www.gz.gov.cn/xw/tzgg/mindex.html'\n",
    "#page = getPage(test_url)\n",
    "#soup = BeautifulSoup(page.text, 'html.parser')"
   ]
  },
  {
   "cell_type": "code",
   "execution_count": 16,
   "metadata": {},
   "outputs": [],
   "source": [
    "#test_selector = 'ul.news_list>li>a'\n",
    "#content = soup.select(test_selector)"
   ]
  },
  {
   "cell_type": "code",
   "execution_count": 17,
   "metadata": {},
   "outputs": [
    {
     "data": {
      "text/plain": [
       "True"
      ]
     },
     "execution_count": 17,
     "metadata": {},
     "output_type": "execute_result"
    }
   ],
   "source": [
    "'广州.json' in os.listdir('results/json/')"
   ]
  },
  {
   "cell_type": "code",
   "execution_count": 52,
   "metadata": {},
   "outputs": [],
   "source": [
    "city = 14"
   ]
  },
  {
   "cell_type": "code",
   "execution_count": 157,
   "metadata": {},
   "outputs": [
    {
     "ename": "TimeoutException",
     "evalue": "Message: timeout: Timed out receiving message from renderer: 299.755\n  (Session info: headless chrome=81.0.4044.129)\n",
     "output_type": "error",
     "traceback": [
      "\u001b[1;31m---------------------------------------------------------------------------\u001b[0m",
      "\u001b[1;31mTimeoutException\u001b[0m                          Traceback (most recent call last)",
      "\u001b[1;32m<ipython-input-157-0c4efade3212>\u001b[0m in \u001b[0;36m<module>\u001b[1;34m\u001b[0m\n\u001b[0;32m     22\u001b[0m \u001b[1;33m\u001b[0m\u001b[0m\n\u001b[0;32m     23\u001b[0m \u001b[0mdriver\u001b[0m \u001b[1;33m=\u001b[0m \u001b[0mwebdriver\u001b[0m\u001b[1;33m.\u001b[0m\u001b[0mChrome\u001b[0m\u001b[1;33m(\u001b[0m\u001b[0moptions\u001b[0m\u001b[1;33m=\u001b[0m\u001b[0moptions\u001b[0m\u001b[1;33m)\u001b[0m\u001b[1;33m\u001b[0m\u001b[1;33m\u001b[0m\u001b[0m\n\u001b[1;32m---> 24\u001b[1;33m \u001b[0mdriver\u001b[0m\u001b[1;33m.\u001b[0m\u001b[0mget\u001b[0m\u001b[1;33m(\u001b[0m\u001b[0mstart_urls\u001b[0m\u001b[1;33m)\u001b[0m\u001b[1;33m\u001b[0m\u001b[1;33m\u001b[0m\u001b[0m\n\u001b[0m\u001b[0;32m     25\u001b[0m \u001b[0msoup\u001b[0m \u001b[1;33m=\u001b[0m \u001b[0mBeautifulSoup\u001b[0m\u001b[1;33m(\u001b[0m\u001b[0mdriver\u001b[0m\u001b[1;33m.\u001b[0m\u001b[0mpage_source\u001b[0m\u001b[1;33m,\u001b[0m \u001b[1;34m'html.parser'\u001b[0m\u001b[1;33m)\u001b[0m\u001b[1;33m\u001b[0m\u001b[1;33m\u001b[0m\u001b[0m\n",
      "\u001b[1;32mc:\\users\\surface laptop\\appdata\\local\\programs\\python\\python37\\lib\\site-packages\\selenium\\webdriver\\remote\\webdriver.py\u001b[0m in \u001b[0;36mget\u001b[1;34m(self, url)\u001b[0m\n\u001b[0;32m    331\u001b[0m         \u001b[0mLoads\u001b[0m \u001b[0ma\u001b[0m \u001b[0mweb\u001b[0m \u001b[0mpage\u001b[0m \u001b[1;32min\u001b[0m \u001b[0mthe\u001b[0m \u001b[0mcurrent\u001b[0m \u001b[0mbrowser\u001b[0m \u001b[0msession\u001b[0m\u001b[1;33m.\u001b[0m\u001b[1;33m\u001b[0m\u001b[1;33m\u001b[0m\u001b[0m\n\u001b[0;32m    332\u001b[0m         \"\"\"\n\u001b[1;32m--> 333\u001b[1;33m         \u001b[0mself\u001b[0m\u001b[1;33m.\u001b[0m\u001b[0mexecute\u001b[0m\u001b[1;33m(\u001b[0m\u001b[0mCommand\u001b[0m\u001b[1;33m.\u001b[0m\u001b[0mGET\u001b[0m\u001b[1;33m,\u001b[0m \u001b[1;33m{\u001b[0m\u001b[1;34m'url'\u001b[0m\u001b[1;33m:\u001b[0m \u001b[0murl\u001b[0m\u001b[1;33m}\u001b[0m\u001b[1;33m)\u001b[0m\u001b[1;33m\u001b[0m\u001b[1;33m\u001b[0m\u001b[0m\n\u001b[0m\u001b[0;32m    334\u001b[0m \u001b[1;33m\u001b[0m\u001b[0m\n\u001b[0;32m    335\u001b[0m     \u001b[1;33m@\u001b[0m\u001b[0mproperty\u001b[0m\u001b[1;33m\u001b[0m\u001b[1;33m\u001b[0m\u001b[0m\n",
      "\u001b[1;32mc:\\users\\surface laptop\\appdata\\local\\programs\\python\\python37\\lib\\site-packages\\selenium\\webdriver\\remote\\webdriver.py\u001b[0m in \u001b[0;36mexecute\u001b[1;34m(self, driver_command, params)\u001b[0m\n\u001b[0;32m    319\u001b[0m         \u001b[0mresponse\u001b[0m \u001b[1;33m=\u001b[0m \u001b[0mself\u001b[0m\u001b[1;33m.\u001b[0m\u001b[0mcommand_executor\u001b[0m\u001b[1;33m.\u001b[0m\u001b[0mexecute\u001b[0m\u001b[1;33m(\u001b[0m\u001b[0mdriver_command\u001b[0m\u001b[1;33m,\u001b[0m \u001b[0mparams\u001b[0m\u001b[1;33m)\u001b[0m\u001b[1;33m\u001b[0m\u001b[1;33m\u001b[0m\u001b[0m\n\u001b[0;32m    320\u001b[0m         \u001b[1;32mif\u001b[0m \u001b[0mresponse\u001b[0m\u001b[1;33m:\u001b[0m\u001b[1;33m\u001b[0m\u001b[1;33m\u001b[0m\u001b[0m\n\u001b[1;32m--> 321\u001b[1;33m             \u001b[0mself\u001b[0m\u001b[1;33m.\u001b[0m\u001b[0merror_handler\u001b[0m\u001b[1;33m.\u001b[0m\u001b[0mcheck_response\u001b[0m\u001b[1;33m(\u001b[0m\u001b[0mresponse\u001b[0m\u001b[1;33m)\u001b[0m\u001b[1;33m\u001b[0m\u001b[1;33m\u001b[0m\u001b[0m\n\u001b[0m\u001b[0;32m    322\u001b[0m             response['value'] = self._unwrap_value(\n\u001b[0;32m    323\u001b[0m                 response.get('value', None))\n",
      "\u001b[1;32mc:\\users\\surface laptop\\appdata\\local\\programs\\python\\python37\\lib\\site-packages\\selenium\\webdriver\\remote\\errorhandler.py\u001b[0m in \u001b[0;36mcheck_response\u001b[1;34m(self, response)\u001b[0m\n\u001b[0;32m    240\u001b[0m                 \u001b[0malert_text\u001b[0m \u001b[1;33m=\u001b[0m \u001b[0mvalue\u001b[0m\u001b[1;33m[\u001b[0m\u001b[1;34m'alert'\u001b[0m\u001b[1;33m]\u001b[0m\u001b[1;33m.\u001b[0m\u001b[0mget\u001b[0m\u001b[1;33m(\u001b[0m\u001b[1;34m'text'\u001b[0m\u001b[1;33m)\u001b[0m\u001b[1;33m\u001b[0m\u001b[1;33m\u001b[0m\u001b[0m\n\u001b[0;32m    241\u001b[0m             \u001b[1;32mraise\u001b[0m \u001b[0mexception_class\u001b[0m\u001b[1;33m(\u001b[0m\u001b[0mmessage\u001b[0m\u001b[1;33m,\u001b[0m \u001b[0mscreen\u001b[0m\u001b[1;33m,\u001b[0m \u001b[0mstacktrace\u001b[0m\u001b[1;33m,\u001b[0m \u001b[0malert_text\u001b[0m\u001b[1;33m)\u001b[0m\u001b[1;33m\u001b[0m\u001b[1;33m\u001b[0m\u001b[0m\n\u001b[1;32m--> 242\u001b[1;33m         \u001b[1;32mraise\u001b[0m \u001b[0mexception_class\u001b[0m\u001b[1;33m(\u001b[0m\u001b[0mmessage\u001b[0m\u001b[1;33m,\u001b[0m \u001b[0mscreen\u001b[0m\u001b[1;33m,\u001b[0m \u001b[0mstacktrace\u001b[0m\u001b[1;33m)\u001b[0m\u001b[1;33m\u001b[0m\u001b[1;33m\u001b[0m\u001b[0m\n\u001b[0m\u001b[0;32m    243\u001b[0m \u001b[1;33m\u001b[0m\u001b[0m\n\u001b[0;32m    244\u001b[0m     \u001b[1;32mdef\u001b[0m \u001b[0m_value_or_default\u001b[0m\u001b[1;33m(\u001b[0m\u001b[0mself\u001b[0m\u001b[1;33m,\u001b[0m \u001b[0mobj\u001b[0m\u001b[1;33m,\u001b[0m \u001b[0mkey\u001b[0m\u001b[1;33m,\u001b[0m \u001b[0mdefault\u001b[0m\u001b[1;33m)\u001b[0m\u001b[1;33m:\u001b[0m\u001b[1;33m\u001b[0m\u001b[1;33m\u001b[0m\u001b[0m\n",
      "\u001b[1;31mTimeoutException\u001b[0m: Message: timeout: Timed out receiving message from renderer: 299.755\n  (Session info: headless chrome=81.0.4044.129)\n"
     ]
    }
   ],
   "source": [
    "websiteInfo = pd.read_csv('settings/city_govs.csv')\n",
    "\n",
    "start_urls = websiteInfo['url'][city]\n",
    "MAIN_PAGE_ENCODING = websiteInfo['main_page_encoding'][city]\n",
    "SUB_PAGE_ENCODING = websiteInfo['sub_page_encoding'][city]\n",
    "\n",
    "#Load the selectors for the city\n",
    "selectorInfo = pd.read_csv('settings/selector_settings.csv')\n",
    "NEWS_SELECTOR = selectorInfo['news_selector'][city]\n",
    "URL_SELECTOR = selectorInfo['url_selector'][city]\n",
    "NEXT_PAGE_SELECTOR = selectorInfo['next_page_selector'][city]\n",
    "TITLE_SELECTOR = selectorInfo['title_selector'][city]\n",
    "DATE_SELECTOR = selectorInfo['date_selector'][city]\n",
    "SOURCE_SELECTOR = selectorInfo['source_selector'][city]\n",
    "DPRT_SELECTOR = selectorInfo['department_selector'][city]\n",
    "CONTENT_SELECTOR = selectorInfo['content_selector'][city]\n",
    "\n",
    "#page = getPage(start_urls)\n",
    "#soup = BeautifulSoup(page.content.decode(MAIN_PAGE_ENCODING,'ignore'), 'html.parser')\n",
    "options = webdriver.ChromeOptions()\n",
    "options.add_argument('headless')\n",
    "\n",
    "driver = webdriver.Chrome(options=options)\n",
    "driver.get(start_urls)\n",
    "soup = BeautifulSoup(driver.page_source, 'html.parser')"
   ]
  },
  {
   "cell_type": "code",
   "execution_count": 147,
   "metadata": {},
   "outputs": [
    {
     "data": {
      "text/plain": [
       "'http://www.sjz.gov.cn/col/1490076478426/'"
      ]
     },
     "execution_count": 147,
     "metadata": {},
     "output_type": "execute_result"
    }
   ],
   "source": [
    "start_urls"
   ]
  },
  {
   "cell_type": "code",
   "execution_count": 137,
   "metadata": {
    "scrolled": true
   },
   "outputs": [
    {
     "name": "stdout",
     "output_type": "stream",
     "text": [
      "http://www.sjz.gov.cn/col/1490076478426/2020/05/01/1588299089343.html\n",
      "http://www.sjz.gov.cn/col/1490076478426/2020/04/30/1588210163430.html\n",
      "http://www.sjz.gov.cn/col/1490076478426/2020/04/28/1588039547876.html\n",
      "http://www.sjz.gov.cn/col/1490076478426/2020/04/28/1588039546344.html\n",
      "http://www.sjz.gov.cn/col/1490076478426/2020/04/27/1587971580361.html\n",
      "http://www.sjz.gov.cn/col/1490076478426/2020/04/27/1587952560700.html\n",
      "http://www.sjz.gov.cn/col/1490076478426/2020/04/26/1587864898167.html\n",
      "http://www.sjz.gov.cn/col/1490076478426/2020/04/25/1587778127043.html\n",
      "http://www.sjz.gov.cn/col/1490076478426/2020/04/24/1587694983583.html\n",
      "http://www.sjz.gov.cn/col/1490076478426/2020/04/23/1587609246977.html\n",
      "http://www.sjz.gov.cn/col/1490076478426/2020/04/22/1587518334403.html\n",
      "http://www.sjz.gov.cn/col/1490076478426/2020/04/20/1587342861087.html\n",
      "http://www.sjz.gov.cn/col/1490076478426/2020/04/18/1587169898079.html\n",
      "http://www.sjz.gov.cn/col/1490076478426/2020/04/16/1587001545362.html\n",
      "http://www.sjz.gov.cn/col/1490076478426/2020/04/14/1586827344668.html\n",
      "http://www.sjz.gov.cn/col/1490076478426/2020/04/14/1586827296722.html\n",
      "http://www.sjz.gov.cn/col/1490076478426/2020/04/12/1586651778934.html\n",
      "http://www.sjz.gov.cn/col/1490076478426/2020/04/10/1586485978615.html\n",
      "http://www.sjz.gov.cn/col/1490076478426/2020/04/09/1586395651079.html\n",
      "http://www.sjz.gov.cn/col/1490076478426/2020/04/05/1586052121436.html\n"
     ]
    }
   ],
   "source": [
    "for news in soup.select(NEWS_SELECTOR):\n",
    "    url = news['href']\n",
    "    url = parse.urljoin(start_urls,url)\n",
    "    print(url)\n"
   ]
  },
  {
   "cell_type": "code",
   "execution_count": 164,
   "metadata": {},
   "outputs": [
    {
     "name": "stdout",
     "output_type": "stream",
     "text": [
      "http://www.sjz.gov.cn/col/1490076478426/\n"
     ]
    }
   ],
   "source": [
    "button = driver.find_element_by_css_selector('#MinyooPage > a:nth-child(8) ')\n",
    "button.click()\n",
    "print(driver.current_url)"
   ]
  },
  {
   "cell_type": "code",
   "execution_count": 165,
   "metadata": {},
   "outputs": [
    {
     "data": {
      "text/plain": [
       "<selenium.webdriver.remote.webelement.WebElement (session=\"dfcd4d2d664fb862bc40897aec237ffd\", element=\"0403828c-5a5c-4897-b544-ab75a92d8da5\")>"
      ]
     },
     "execution_count": 165,
     "metadata": {},
     "output_type": "execute_result"
    }
   ],
   "source": [
    "driver.find_element_by_css_selector('#MinyooPage > a:nth-child(8) ')"
   ]
  },
  {
   "cell_type": "code",
   "execution_count": 62,
   "metadata": {},
   "outputs": [
    {
     "ename": "TypeError",
     "evalue": "'NoneType' object is not subscriptable",
     "output_type": "error",
     "traceback": [
      "\u001b[1;31m---------------------------------------------------------------------------\u001b[0m",
      "\u001b[1;31mTypeError\u001b[0m                                 Traceback (most recent call last)",
      "\u001b[1;32m<ipython-input-62-f05647633191>\u001b[0m in \u001b[0;36m<module>\u001b[1;34m\u001b[0m\n\u001b[0;32m      1\u001b[0m \u001b[0mnext_page\u001b[0m \u001b[1;33m=\u001b[0m \u001b[0msoup\u001b[0m\u001b[1;33m.\u001b[0m\u001b[0mselect_one\u001b[0m\u001b[1;33m(\u001b[0m\u001b[1;34m'body > div > div.zwxxgk_box > div.scroll_main.ScrollStyle > div.zfxxgk_zdgkc > div > a.btn-next'\u001b[0m\u001b[1;33m)\u001b[0m\u001b[1;33m\u001b[0m\u001b[1;33m\u001b[0m\u001b[0m\n\u001b[1;32m----> 2\u001b[1;33m \u001b[0mnext_page_url\u001b[0m \u001b[1;33m=\u001b[0m \u001b[0mnext_page\u001b[0m\u001b[1;33m[\u001b[0m\u001b[1;34m'href'\u001b[0m\u001b[1;33m]\u001b[0m\u001b[1;33m\u001b[0m\u001b[1;33m\u001b[0m\u001b[0m\n\u001b[0m\u001b[0;32m      3\u001b[0m \u001b[0mnext_page_url\u001b[0m \u001b[1;33m=\u001b[0m \u001b[0mparse\u001b[0m\u001b[1;33m.\u001b[0m\u001b[0murljoin\u001b[0m\u001b[1;33m(\u001b[0m\u001b[0mstart_urls\u001b[0m\u001b[1;33m,\u001b[0m\u001b[0mnext_page_url\u001b[0m\u001b[1;33m)\u001b[0m\u001b[1;33m\u001b[0m\u001b[1;33m\u001b[0m\u001b[0m\n\u001b[0;32m      4\u001b[0m \u001b[0mnext_page_url\u001b[0m\u001b[1;33m\u001b[0m\u001b[1;33m\u001b[0m\u001b[0m\n",
      "\u001b[1;31mTypeError\u001b[0m: 'NoneType' object is not subscriptable"
     ]
    }
   ],
   "source": [
    "next_page = soup.select_one(NEXT_PAGE_SELECTOR)\n",
    "next_page_url = next_page['href']\n",
    "next_page_url = parse.urljoin(start_urls,next_page_url)\n",
    "next_page_url"
   ]
  },
  {
   "cell_type": "code",
   "execution_count": 63,
   "metadata": {},
   "outputs": [],
   "source": [
    "next_page"
   ]
  },
  {
   "cell_type": "code",
   "execution_count": 112,
   "metadata": {},
   "outputs": [],
   "source": [
    "#\\38 32 > table > tbody > tr > td > table > tbody > tr > td:nth-child(8) > a"
   ]
  },
  {
   "cell_type": "code",
   "execution_count": 166,
   "metadata": {},
   "outputs": [],
   "source": [
    "subpage_url = 'http://www.sjz.gov.cn/col/1490076478426/2020/03/20/1584670146938.html'"
   ]
  },
  {
   "cell_type": "code",
   "execution_count": 168,
   "metadata": {},
   "outputs": [
    {
     "ename": "KeyboardInterrupt",
     "evalue": "",
     "output_type": "error",
     "traceback": [
      "\u001b[1;31m---------------------------------------------------------------------------\u001b[0m",
      "\u001b[1;31mKeyboardInterrupt\u001b[0m                         Traceback (most recent call last)",
      "\u001b[1;32m<ipython-input-168-0d83d4277e6e>\u001b[0m in \u001b[0;36m<module>\u001b[1;34m\u001b[0m\n\u001b[0;32m      1\u001b[0m \u001b[0mdriver\u001b[0m \u001b[1;33m=\u001b[0m \u001b[0mwebdriver\u001b[0m\u001b[1;33m.\u001b[0m\u001b[0mChrome\u001b[0m\u001b[1;33m(\u001b[0m\u001b[0moptions\u001b[0m\u001b[1;33m=\u001b[0m\u001b[0moptions\u001b[0m\u001b[1;33m)\u001b[0m\u001b[1;33m\u001b[0m\u001b[1;33m\u001b[0m\u001b[0m\n\u001b[1;32m----> 2\u001b[1;33m \u001b[0mdriver\u001b[0m\u001b[1;33m.\u001b[0m\u001b[0mget\u001b[0m\u001b[1;33m(\u001b[0m\u001b[0msubpage_url\u001b[0m\u001b[1;33m)\u001b[0m\u001b[1;33m\u001b[0m\u001b[1;33m\u001b[0m\u001b[0m\n\u001b[0m\u001b[0;32m      3\u001b[0m \u001b[1;33m\u001b[0m\u001b[0m\n\u001b[0;32m      4\u001b[0m \u001b[0msoup_sub\u001b[0m \u001b[1;33m=\u001b[0m \u001b[0mBeautifulSoup\u001b[0m\u001b[1;33m(\u001b[0m\u001b[0mdriver\u001b[0m\u001b[1;33m.\u001b[0m\u001b[0mpage_source\u001b[0m\u001b[1;33m,\u001b[0m\u001b[1;34m'html.parser'\u001b[0m\u001b[1;33m)\u001b[0m\u001b[1;33m\u001b[0m\u001b[1;33m\u001b[0m\u001b[0m\n\u001b[0;32m      5\u001b[0m \u001b[1;31m#Select target elements\u001b[0m\u001b[1;33m\u001b[0m\u001b[1;33m\u001b[0m\u001b[1;33m\u001b[0m\u001b[0m\n",
      "\u001b[1;32mc:\\users\\surface laptop\\appdata\\local\\programs\\python\\python37\\lib\\site-packages\\selenium\\webdriver\\remote\\webdriver.py\u001b[0m in \u001b[0;36mget\u001b[1;34m(self, url)\u001b[0m\n\u001b[0;32m    331\u001b[0m         \u001b[0mLoads\u001b[0m \u001b[0ma\u001b[0m \u001b[0mweb\u001b[0m \u001b[0mpage\u001b[0m \u001b[1;32min\u001b[0m \u001b[0mthe\u001b[0m \u001b[0mcurrent\u001b[0m \u001b[0mbrowser\u001b[0m \u001b[0msession\u001b[0m\u001b[1;33m.\u001b[0m\u001b[1;33m\u001b[0m\u001b[1;33m\u001b[0m\u001b[0m\n\u001b[0;32m    332\u001b[0m         \"\"\"\n\u001b[1;32m--> 333\u001b[1;33m         \u001b[0mself\u001b[0m\u001b[1;33m.\u001b[0m\u001b[0mexecute\u001b[0m\u001b[1;33m(\u001b[0m\u001b[0mCommand\u001b[0m\u001b[1;33m.\u001b[0m\u001b[0mGET\u001b[0m\u001b[1;33m,\u001b[0m \u001b[1;33m{\u001b[0m\u001b[1;34m'url'\u001b[0m\u001b[1;33m:\u001b[0m \u001b[0murl\u001b[0m\u001b[1;33m}\u001b[0m\u001b[1;33m)\u001b[0m\u001b[1;33m\u001b[0m\u001b[1;33m\u001b[0m\u001b[0m\n\u001b[0m\u001b[0;32m    334\u001b[0m \u001b[1;33m\u001b[0m\u001b[0m\n\u001b[0;32m    335\u001b[0m     \u001b[1;33m@\u001b[0m\u001b[0mproperty\u001b[0m\u001b[1;33m\u001b[0m\u001b[1;33m\u001b[0m\u001b[0m\n",
      "\u001b[1;32mc:\\users\\surface laptop\\appdata\\local\\programs\\python\\python37\\lib\\site-packages\\selenium\\webdriver\\remote\\webdriver.py\u001b[0m in \u001b[0;36mexecute\u001b[1;34m(self, driver_command, params)\u001b[0m\n\u001b[0;32m    317\u001b[0m \u001b[1;33m\u001b[0m\u001b[0m\n\u001b[0;32m    318\u001b[0m         \u001b[0mparams\u001b[0m \u001b[1;33m=\u001b[0m \u001b[0mself\u001b[0m\u001b[1;33m.\u001b[0m\u001b[0m_wrap_value\u001b[0m\u001b[1;33m(\u001b[0m\u001b[0mparams\u001b[0m\u001b[1;33m)\u001b[0m\u001b[1;33m\u001b[0m\u001b[1;33m\u001b[0m\u001b[0m\n\u001b[1;32m--> 319\u001b[1;33m         \u001b[0mresponse\u001b[0m \u001b[1;33m=\u001b[0m \u001b[0mself\u001b[0m\u001b[1;33m.\u001b[0m\u001b[0mcommand_executor\u001b[0m\u001b[1;33m.\u001b[0m\u001b[0mexecute\u001b[0m\u001b[1;33m(\u001b[0m\u001b[0mdriver_command\u001b[0m\u001b[1;33m,\u001b[0m \u001b[0mparams\u001b[0m\u001b[1;33m)\u001b[0m\u001b[1;33m\u001b[0m\u001b[1;33m\u001b[0m\u001b[0m\n\u001b[0m\u001b[0;32m    320\u001b[0m         \u001b[1;32mif\u001b[0m \u001b[0mresponse\u001b[0m\u001b[1;33m:\u001b[0m\u001b[1;33m\u001b[0m\u001b[1;33m\u001b[0m\u001b[0m\n\u001b[0;32m    321\u001b[0m             \u001b[0mself\u001b[0m\u001b[1;33m.\u001b[0m\u001b[0merror_handler\u001b[0m\u001b[1;33m.\u001b[0m\u001b[0mcheck_response\u001b[0m\u001b[1;33m(\u001b[0m\u001b[0mresponse\u001b[0m\u001b[1;33m)\u001b[0m\u001b[1;33m\u001b[0m\u001b[1;33m\u001b[0m\u001b[0m\n",
      "\u001b[1;32mc:\\users\\surface laptop\\appdata\\local\\programs\\python\\python37\\lib\\site-packages\\selenium\\webdriver\\remote\\remote_connection.py\u001b[0m in \u001b[0;36mexecute\u001b[1;34m(self, command, params)\u001b[0m\n\u001b[0;32m    372\u001b[0m         \u001b[0mdata\u001b[0m \u001b[1;33m=\u001b[0m \u001b[0mutils\u001b[0m\u001b[1;33m.\u001b[0m\u001b[0mdump_json\u001b[0m\u001b[1;33m(\u001b[0m\u001b[0mparams\u001b[0m\u001b[1;33m)\u001b[0m\u001b[1;33m\u001b[0m\u001b[1;33m\u001b[0m\u001b[0m\n\u001b[0;32m    373\u001b[0m         \u001b[0murl\u001b[0m \u001b[1;33m=\u001b[0m \u001b[1;34m'%s%s'\u001b[0m \u001b[1;33m%\u001b[0m \u001b[1;33m(\u001b[0m\u001b[0mself\u001b[0m\u001b[1;33m.\u001b[0m\u001b[0m_url\u001b[0m\u001b[1;33m,\u001b[0m \u001b[0mpath\u001b[0m\u001b[1;33m)\u001b[0m\u001b[1;33m\u001b[0m\u001b[1;33m\u001b[0m\u001b[0m\n\u001b[1;32m--> 374\u001b[1;33m         \u001b[1;32mreturn\u001b[0m \u001b[0mself\u001b[0m\u001b[1;33m.\u001b[0m\u001b[0m_request\u001b[0m\u001b[1;33m(\u001b[0m\u001b[0mcommand_info\u001b[0m\u001b[1;33m[\u001b[0m\u001b[1;36m0\u001b[0m\u001b[1;33m]\u001b[0m\u001b[1;33m,\u001b[0m \u001b[0murl\u001b[0m\u001b[1;33m,\u001b[0m \u001b[0mbody\u001b[0m\u001b[1;33m=\u001b[0m\u001b[0mdata\u001b[0m\u001b[1;33m)\u001b[0m\u001b[1;33m\u001b[0m\u001b[1;33m\u001b[0m\u001b[0m\n\u001b[0m\u001b[0;32m    375\u001b[0m \u001b[1;33m\u001b[0m\u001b[0m\n\u001b[0;32m    376\u001b[0m     \u001b[1;32mdef\u001b[0m \u001b[0m_request\u001b[0m\u001b[1;33m(\u001b[0m\u001b[0mself\u001b[0m\u001b[1;33m,\u001b[0m \u001b[0mmethod\u001b[0m\u001b[1;33m,\u001b[0m \u001b[0murl\u001b[0m\u001b[1;33m,\u001b[0m \u001b[0mbody\u001b[0m\u001b[1;33m=\u001b[0m\u001b[1;32mNone\u001b[0m\u001b[1;33m)\u001b[0m\u001b[1;33m:\u001b[0m\u001b[1;33m\u001b[0m\u001b[1;33m\u001b[0m\u001b[0m\n",
      "\u001b[1;32mc:\\users\\surface laptop\\appdata\\local\\programs\\python\\python37\\lib\\site-packages\\selenium\\webdriver\\remote\\remote_connection.py\u001b[0m in \u001b[0;36m_request\u001b[1;34m(self, method, url, body)\u001b[0m\n\u001b[0;32m    395\u001b[0m \u001b[1;33m\u001b[0m\u001b[0m\n\u001b[0;32m    396\u001b[0m         \u001b[1;32mif\u001b[0m \u001b[0mself\u001b[0m\u001b[1;33m.\u001b[0m\u001b[0mkeep_alive\u001b[0m\u001b[1;33m:\u001b[0m\u001b[1;33m\u001b[0m\u001b[1;33m\u001b[0m\u001b[0m\n\u001b[1;32m--> 397\u001b[1;33m             \u001b[0mresp\u001b[0m \u001b[1;33m=\u001b[0m \u001b[0mself\u001b[0m\u001b[1;33m.\u001b[0m\u001b[0m_conn\u001b[0m\u001b[1;33m.\u001b[0m\u001b[0mrequest\u001b[0m\u001b[1;33m(\u001b[0m\u001b[0mmethod\u001b[0m\u001b[1;33m,\u001b[0m \u001b[0murl\u001b[0m\u001b[1;33m,\u001b[0m \u001b[0mbody\u001b[0m\u001b[1;33m=\u001b[0m\u001b[0mbody\u001b[0m\u001b[1;33m,\u001b[0m \u001b[0mheaders\u001b[0m\u001b[1;33m=\u001b[0m\u001b[0mheaders\u001b[0m\u001b[1;33m)\u001b[0m\u001b[1;33m\u001b[0m\u001b[1;33m\u001b[0m\u001b[0m\n\u001b[0m\u001b[0;32m    398\u001b[0m \u001b[1;33m\u001b[0m\u001b[0m\n\u001b[0;32m    399\u001b[0m             \u001b[0mstatuscode\u001b[0m \u001b[1;33m=\u001b[0m \u001b[0mresp\u001b[0m\u001b[1;33m.\u001b[0m\u001b[0mstatus\u001b[0m\u001b[1;33m\u001b[0m\u001b[1;33m\u001b[0m\u001b[0m\n",
      "\u001b[1;32mc:\\users\\surface laptop\\appdata\\local\\programs\\python\\python37\\lib\\site-packages\\urllib3\\request.py\u001b[0m in \u001b[0;36mrequest\u001b[1;34m(self, method, url, fields, headers, **urlopen_kw)\u001b[0m\n\u001b[0;32m     78\u001b[0m         \u001b[1;32melse\u001b[0m\u001b[1;33m:\u001b[0m\u001b[1;33m\u001b[0m\u001b[1;33m\u001b[0m\u001b[0m\n\u001b[0;32m     79\u001b[0m             return self.request_encode_body(\n\u001b[1;32m---> 80\u001b[1;33m                 \u001b[0mmethod\u001b[0m\u001b[1;33m,\u001b[0m \u001b[0murl\u001b[0m\u001b[1;33m,\u001b[0m \u001b[0mfields\u001b[0m\u001b[1;33m=\u001b[0m\u001b[0mfields\u001b[0m\u001b[1;33m,\u001b[0m \u001b[0mheaders\u001b[0m\u001b[1;33m=\u001b[0m\u001b[0mheaders\u001b[0m\u001b[1;33m,\u001b[0m \u001b[1;33m**\u001b[0m\u001b[0murlopen_kw\u001b[0m\u001b[1;33m\u001b[0m\u001b[1;33m\u001b[0m\u001b[0m\n\u001b[0m\u001b[0;32m     81\u001b[0m             )\n\u001b[0;32m     82\u001b[0m \u001b[1;33m\u001b[0m\u001b[0m\n",
      "\u001b[1;32mc:\\users\\surface laptop\\appdata\\local\\programs\\python\\python37\\lib\\site-packages\\urllib3\\request.py\u001b[0m in \u001b[0;36mrequest_encode_body\u001b[1;34m(self, method, url, fields, headers, encode_multipart, multipart_boundary, **urlopen_kw)\u001b[0m\n\u001b[0;32m    169\u001b[0m         \u001b[0mextra_kw\u001b[0m\u001b[1;33m.\u001b[0m\u001b[0mupdate\u001b[0m\u001b[1;33m(\u001b[0m\u001b[0murlopen_kw\u001b[0m\u001b[1;33m)\u001b[0m\u001b[1;33m\u001b[0m\u001b[1;33m\u001b[0m\u001b[0m\n\u001b[0;32m    170\u001b[0m \u001b[1;33m\u001b[0m\u001b[0m\n\u001b[1;32m--> 171\u001b[1;33m         \u001b[1;32mreturn\u001b[0m \u001b[0mself\u001b[0m\u001b[1;33m.\u001b[0m\u001b[0murlopen\u001b[0m\u001b[1;33m(\u001b[0m\u001b[0mmethod\u001b[0m\u001b[1;33m,\u001b[0m \u001b[0murl\u001b[0m\u001b[1;33m,\u001b[0m \u001b[1;33m**\u001b[0m\u001b[0mextra_kw\u001b[0m\u001b[1;33m)\u001b[0m\u001b[1;33m\u001b[0m\u001b[1;33m\u001b[0m\u001b[0m\n\u001b[0m",
      "\u001b[1;32mc:\\users\\surface laptop\\appdata\\local\\programs\\python\\python37\\lib\\site-packages\\urllib3\\poolmanager.py\u001b[0m in \u001b[0;36murlopen\u001b[1;34m(self, method, url, redirect, **kw)\u001b[0m\n\u001b[0;32m    334\u001b[0m             \u001b[0mresponse\u001b[0m \u001b[1;33m=\u001b[0m \u001b[0mconn\u001b[0m\u001b[1;33m.\u001b[0m\u001b[0murlopen\u001b[0m\u001b[1;33m(\u001b[0m\u001b[0mmethod\u001b[0m\u001b[1;33m,\u001b[0m \u001b[0murl\u001b[0m\u001b[1;33m,\u001b[0m \u001b[1;33m**\u001b[0m\u001b[0mkw\u001b[0m\u001b[1;33m)\u001b[0m\u001b[1;33m\u001b[0m\u001b[1;33m\u001b[0m\u001b[0m\n\u001b[0;32m    335\u001b[0m         \u001b[1;32melse\u001b[0m\u001b[1;33m:\u001b[0m\u001b[1;33m\u001b[0m\u001b[1;33m\u001b[0m\u001b[0m\n\u001b[1;32m--> 336\u001b[1;33m             \u001b[0mresponse\u001b[0m \u001b[1;33m=\u001b[0m \u001b[0mconn\u001b[0m\u001b[1;33m.\u001b[0m\u001b[0murlopen\u001b[0m\u001b[1;33m(\u001b[0m\u001b[0mmethod\u001b[0m\u001b[1;33m,\u001b[0m \u001b[0mu\u001b[0m\u001b[1;33m.\u001b[0m\u001b[0mrequest_uri\u001b[0m\u001b[1;33m,\u001b[0m \u001b[1;33m**\u001b[0m\u001b[0mkw\u001b[0m\u001b[1;33m)\u001b[0m\u001b[1;33m\u001b[0m\u001b[1;33m\u001b[0m\u001b[0m\n\u001b[0m\u001b[0;32m    337\u001b[0m \u001b[1;33m\u001b[0m\u001b[0m\n\u001b[0;32m    338\u001b[0m         \u001b[0mredirect_location\u001b[0m \u001b[1;33m=\u001b[0m \u001b[0mredirect\u001b[0m \u001b[1;32mand\u001b[0m \u001b[0mresponse\u001b[0m\u001b[1;33m.\u001b[0m\u001b[0mget_redirect_location\u001b[0m\u001b[1;33m(\u001b[0m\u001b[1;33m)\u001b[0m\u001b[1;33m\u001b[0m\u001b[1;33m\u001b[0m\u001b[0m\n",
      "\u001b[1;32mc:\\users\\surface laptop\\appdata\\local\\programs\\python\\python37\\lib\\site-packages\\urllib3\\connectionpool.py\u001b[0m in \u001b[0;36murlopen\u001b[1;34m(self, method, url, body, headers, retries, redirect, assert_same_host, timeout, pool_timeout, release_conn, chunked, body_pos, **response_kw)\u001b[0m\n\u001b[0;32m    675\u001b[0m                 \u001b[0mbody\u001b[0m\u001b[1;33m=\u001b[0m\u001b[0mbody\u001b[0m\u001b[1;33m,\u001b[0m\u001b[1;33m\u001b[0m\u001b[1;33m\u001b[0m\u001b[0m\n\u001b[0;32m    676\u001b[0m                 \u001b[0mheaders\u001b[0m\u001b[1;33m=\u001b[0m\u001b[0mheaders\u001b[0m\u001b[1;33m,\u001b[0m\u001b[1;33m\u001b[0m\u001b[1;33m\u001b[0m\u001b[0m\n\u001b[1;32m--> 677\u001b[1;33m                 \u001b[0mchunked\u001b[0m\u001b[1;33m=\u001b[0m\u001b[0mchunked\u001b[0m\u001b[1;33m,\u001b[0m\u001b[1;33m\u001b[0m\u001b[1;33m\u001b[0m\u001b[0m\n\u001b[0m\u001b[0;32m    678\u001b[0m             )\n\u001b[0;32m    679\u001b[0m \u001b[1;33m\u001b[0m\u001b[0m\n",
      "\u001b[1;32mc:\\users\\surface laptop\\appdata\\local\\programs\\python\\python37\\lib\\site-packages\\urllib3\\connectionpool.py\u001b[0m in \u001b[0;36m_make_request\u001b[1;34m(self, conn, method, url, timeout, chunked, **httplib_request_kw)\u001b[0m\n\u001b[0;32m    424\u001b[0m                     \u001b[1;31m# Python 3 (including for exceptions like SystemExit).\u001b[0m\u001b[1;33m\u001b[0m\u001b[1;33m\u001b[0m\u001b[1;33m\u001b[0m\u001b[0m\n\u001b[0;32m    425\u001b[0m                     \u001b[1;31m# Otherwise it looks like a bug in the code.\u001b[0m\u001b[1;33m\u001b[0m\u001b[1;33m\u001b[0m\u001b[1;33m\u001b[0m\u001b[0m\n\u001b[1;32m--> 426\u001b[1;33m                     \u001b[0msix\u001b[0m\u001b[1;33m.\u001b[0m\u001b[0mraise_from\u001b[0m\u001b[1;33m(\u001b[0m\u001b[0me\u001b[0m\u001b[1;33m,\u001b[0m \u001b[1;32mNone\u001b[0m\u001b[1;33m)\u001b[0m\u001b[1;33m\u001b[0m\u001b[1;33m\u001b[0m\u001b[0m\n\u001b[0m\u001b[0;32m    427\u001b[0m         \u001b[1;32mexcept\u001b[0m \u001b[1;33m(\u001b[0m\u001b[0mSocketTimeout\u001b[0m\u001b[1;33m,\u001b[0m \u001b[0mBaseSSLError\u001b[0m\u001b[1;33m,\u001b[0m \u001b[0mSocketError\u001b[0m\u001b[1;33m)\u001b[0m \u001b[1;32mas\u001b[0m \u001b[0me\u001b[0m\u001b[1;33m:\u001b[0m\u001b[1;33m\u001b[0m\u001b[1;33m\u001b[0m\u001b[0m\n\u001b[0;32m    428\u001b[0m             \u001b[0mself\u001b[0m\u001b[1;33m.\u001b[0m\u001b[0m_raise_timeout\u001b[0m\u001b[1;33m(\u001b[0m\u001b[0merr\u001b[0m\u001b[1;33m=\u001b[0m\u001b[0me\u001b[0m\u001b[1;33m,\u001b[0m \u001b[0murl\u001b[0m\u001b[1;33m=\u001b[0m\u001b[0murl\u001b[0m\u001b[1;33m,\u001b[0m \u001b[0mtimeout_value\u001b[0m\u001b[1;33m=\u001b[0m\u001b[0mread_timeout\u001b[0m\u001b[1;33m)\u001b[0m\u001b[1;33m\u001b[0m\u001b[1;33m\u001b[0m\u001b[0m\n",
      "\u001b[1;32mc:\\users\\surface laptop\\appdata\\local\\programs\\python\\python37\\lib\\site-packages\\urllib3\\packages\\six.py\u001b[0m in \u001b[0;36mraise_from\u001b[1;34m(value, from_value)\u001b[0m\n",
      "\u001b[1;32mc:\\users\\surface laptop\\appdata\\local\\programs\\python\\python37\\lib\\site-packages\\urllib3\\connectionpool.py\u001b[0m in \u001b[0;36m_make_request\u001b[1;34m(self, conn, method, url, timeout, chunked, **httplib_request_kw)\u001b[0m\n\u001b[0;32m    419\u001b[0m                 \u001b[1;31m# Python 3\u001b[0m\u001b[1;33m\u001b[0m\u001b[1;33m\u001b[0m\u001b[1;33m\u001b[0m\u001b[0m\n\u001b[0;32m    420\u001b[0m                 \u001b[1;32mtry\u001b[0m\u001b[1;33m:\u001b[0m\u001b[1;33m\u001b[0m\u001b[1;33m\u001b[0m\u001b[0m\n\u001b[1;32m--> 421\u001b[1;33m                     \u001b[0mhttplib_response\u001b[0m \u001b[1;33m=\u001b[0m \u001b[0mconn\u001b[0m\u001b[1;33m.\u001b[0m\u001b[0mgetresponse\u001b[0m\u001b[1;33m(\u001b[0m\u001b[1;33m)\u001b[0m\u001b[1;33m\u001b[0m\u001b[1;33m\u001b[0m\u001b[0m\n\u001b[0m\u001b[0;32m    422\u001b[0m                 \u001b[1;32mexcept\u001b[0m \u001b[0mBaseException\u001b[0m \u001b[1;32mas\u001b[0m \u001b[0me\u001b[0m\u001b[1;33m:\u001b[0m\u001b[1;33m\u001b[0m\u001b[1;33m\u001b[0m\u001b[0m\n\u001b[0;32m    423\u001b[0m                     \u001b[1;31m# Remove the TypeError from the exception chain in\u001b[0m\u001b[1;33m\u001b[0m\u001b[1;33m\u001b[0m\u001b[1;33m\u001b[0m\u001b[0m\n",
      "\u001b[1;32mc:\\users\\surface laptop\\appdata\\local\\programs\\python\\python37\\lib\\http\\client.py\u001b[0m in \u001b[0;36mgetresponse\u001b[1;34m(self)\u001b[0m\n\u001b[0;32m   1319\u001b[0m         \u001b[1;32mtry\u001b[0m\u001b[1;33m:\u001b[0m\u001b[1;33m\u001b[0m\u001b[1;33m\u001b[0m\u001b[0m\n\u001b[0;32m   1320\u001b[0m             \u001b[1;32mtry\u001b[0m\u001b[1;33m:\u001b[0m\u001b[1;33m\u001b[0m\u001b[1;33m\u001b[0m\u001b[0m\n\u001b[1;32m-> 1321\u001b[1;33m                 \u001b[0mresponse\u001b[0m\u001b[1;33m.\u001b[0m\u001b[0mbegin\u001b[0m\u001b[1;33m(\u001b[0m\u001b[1;33m)\u001b[0m\u001b[1;33m\u001b[0m\u001b[1;33m\u001b[0m\u001b[0m\n\u001b[0m\u001b[0;32m   1322\u001b[0m             \u001b[1;32mexcept\u001b[0m \u001b[0mConnectionError\u001b[0m\u001b[1;33m:\u001b[0m\u001b[1;33m\u001b[0m\u001b[1;33m\u001b[0m\u001b[0m\n\u001b[0;32m   1323\u001b[0m                 \u001b[0mself\u001b[0m\u001b[1;33m.\u001b[0m\u001b[0mclose\u001b[0m\u001b[1;33m(\u001b[0m\u001b[1;33m)\u001b[0m\u001b[1;33m\u001b[0m\u001b[1;33m\u001b[0m\u001b[0m\n",
      "\u001b[1;32mc:\\users\\surface laptop\\appdata\\local\\programs\\python\\python37\\lib\\http\\client.py\u001b[0m in \u001b[0;36mbegin\u001b[1;34m(self)\u001b[0m\n\u001b[0;32m    294\u001b[0m         \u001b[1;31m# read until we get a non-100 response\u001b[0m\u001b[1;33m\u001b[0m\u001b[1;33m\u001b[0m\u001b[1;33m\u001b[0m\u001b[0m\n\u001b[0;32m    295\u001b[0m         \u001b[1;32mwhile\u001b[0m \u001b[1;32mTrue\u001b[0m\u001b[1;33m:\u001b[0m\u001b[1;33m\u001b[0m\u001b[1;33m\u001b[0m\u001b[0m\n\u001b[1;32m--> 296\u001b[1;33m             \u001b[0mversion\u001b[0m\u001b[1;33m,\u001b[0m \u001b[0mstatus\u001b[0m\u001b[1;33m,\u001b[0m \u001b[0mreason\u001b[0m \u001b[1;33m=\u001b[0m \u001b[0mself\u001b[0m\u001b[1;33m.\u001b[0m\u001b[0m_read_status\u001b[0m\u001b[1;33m(\u001b[0m\u001b[1;33m)\u001b[0m\u001b[1;33m\u001b[0m\u001b[1;33m\u001b[0m\u001b[0m\n\u001b[0m\u001b[0;32m    297\u001b[0m             \u001b[1;32mif\u001b[0m \u001b[0mstatus\u001b[0m \u001b[1;33m!=\u001b[0m \u001b[0mCONTINUE\u001b[0m\u001b[1;33m:\u001b[0m\u001b[1;33m\u001b[0m\u001b[1;33m\u001b[0m\u001b[0m\n\u001b[0;32m    298\u001b[0m                 \u001b[1;32mbreak\u001b[0m\u001b[1;33m\u001b[0m\u001b[1;33m\u001b[0m\u001b[0m\n",
      "\u001b[1;32mc:\\users\\surface laptop\\appdata\\local\\programs\\python\\python37\\lib\\http\\client.py\u001b[0m in \u001b[0;36m_read_status\u001b[1;34m(self)\u001b[0m\n\u001b[0;32m    255\u001b[0m \u001b[1;33m\u001b[0m\u001b[0m\n\u001b[0;32m    256\u001b[0m     \u001b[1;32mdef\u001b[0m \u001b[0m_read_status\u001b[0m\u001b[1;33m(\u001b[0m\u001b[0mself\u001b[0m\u001b[1;33m)\u001b[0m\u001b[1;33m:\u001b[0m\u001b[1;33m\u001b[0m\u001b[1;33m\u001b[0m\u001b[0m\n\u001b[1;32m--> 257\u001b[1;33m         \u001b[0mline\u001b[0m \u001b[1;33m=\u001b[0m \u001b[0mstr\u001b[0m\u001b[1;33m(\u001b[0m\u001b[0mself\u001b[0m\u001b[1;33m.\u001b[0m\u001b[0mfp\u001b[0m\u001b[1;33m.\u001b[0m\u001b[0mreadline\u001b[0m\u001b[1;33m(\u001b[0m\u001b[0m_MAXLINE\u001b[0m \u001b[1;33m+\u001b[0m \u001b[1;36m1\u001b[0m\u001b[1;33m)\u001b[0m\u001b[1;33m,\u001b[0m \u001b[1;34m\"iso-8859-1\"\u001b[0m\u001b[1;33m)\u001b[0m\u001b[1;33m\u001b[0m\u001b[1;33m\u001b[0m\u001b[0m\n\u001b[0m\u001b[0;32m    258\u001b[0m         \u001b[1;32mif\u001b[0m \u001b[0mlen\u001b[0m\u001b[1;33m(\u001b[0m\u001b[0mline\u001b[0m\u001b[1;33m)\u001b[0m \u001b[1;33m>\u001b[0m \u001b[0m_MAXLINE\u001b[0m\u001b[1;33m:\u001b[0m\u001b[1;33m\u001b[0m\u001b[1;33m\u001b[0m\u001b[0m\n\u001b[0;32m    259\u001b[0m             \u001b[1;32mraise\u001b[0m \u001b[0mLineTooLong\u001b[0m\u001b[1;33m(\u001b[0m\u001b[1;34m\"status line\"\u001b[0m\u001b[1;33m)\u001b[0m\u001b[1;33m\u001b[0m\u001b[1;33m\u001b[0m\u001b[0m\n",
      "\u001b[1;32mc:\\users\\surface laptop\\appdata\\local\\programs\\python\\python37\\lib\\socket.py\u001b[0m in \u001b[0;36mreadinto\u001b[1;34m(self, b)\u001b[0m\n\u001b[0;32m    587\u001b[0m         \u001b[1;32mwhile\u001b[0m \u001b[1;32mTrue\u001b[0m\u001b[1;33m:\u001b[0m\u001b[1;33m\u001b[0m\u001b[1;33m\u001b[0m\u001b[0m\n\u001b[0;32m    588\u001b[0m             \u001b[1;32mtry\u001b[0m\u001b[1;33m:\u001b[0m\u001b[1;33m\u001b[0m\u001b[1;33m\u001b[0m\u001b[0m\n\u001b[1;32m--> 589\u001b[1;33m                 \u001b[1;32mreturn\u001b[0m \u001b[0mself\u001b[0m\u001b[1;33m.\u001b[0m\u001b[0m_sock\u001b[0m\u001b[1;33m.\u001b[0m\u001b[0mrecv_into\u001b[0m\u001b[1;33m(\u001b[0m\u001b[0mb\u001b[0m\u001b[1;33m)\u001b[0m\u001b[1;33m\u001b[0m\u001b[1;33m\u001b[0m\u001b[0m\n\u001b[0m\u001b[0;32m    590\u001b[0m             \u001b[1;32mexcept\u001b[0m \u001b[0mtimeout\u001b[0m\u001b[1;33m:\u001b[0m\u001b[1;33m\u001b[0m\u001b[1;33m\u001b[0m\u001b[0m\n\u001b[0;32m    591\u001b[0m                 \u001b[0mself\u001b[0m\u001b[1;33m.\u001b[0m\u001b[0m_timeout_occurred\u001b[0m \u001b[1;33m=\u001b[0m \u001b[1;32mTrue\u001b[0m\u001b[1;33m\u001b[0m\u001b[1;33m\u001b[0m\u001b[0m\n",
      "\u001b[1;31mKeyboardInterrupt\u001b[0m: "
     ]
    }
   ],
   "source": [
    "driver = webdriver.Chrome(options=options)\n",
    "driver.get(subpage_url)\n",
    "\n",
    "soup_sub = BeautifulSoup(driver.page_source,'html.parser')\n",
    "#Select target elements\n",
    "title = robust_select(soup_sub,TITLE_SELECTOR)\n",
    "date = robust_select(soup_sub,DATE_SELECTOR)\n",
    "content = robust_select(soup_sub,CONTENT_SELECTOR)\n",
    "source = robust_select(soup_sub,SOURCE_SELECTOR)\n",
    "department = robust_select(soup_sub,DPRT_SELECTOR)"
   ]
  },
  {
   "cell_type": "code",
   "execution_count": null,
   "metadata": {},
   "outputs": [],
   "source": [
    "title"
   ]
  },
  {
   "cell_type": "code",
   "execution_count": 47,
   "metadata": {},
   "outputs": [
    {
     "data": {
      "text/plain": [
       "'2020-04-22 10:16:27'"
      ]
     },
     "execution_count": 47,
     "metadata": {},
     "output_type": "execute_result"
    }
   ],
   "source": [
    "\n",
    "date"
   ]
  },
  {
   "cell_type": "code",
   "execution_count": 51,
   "metadata": {},
   "outputs": [
    {
     "data": {
      "text/plain": [
       "'贵阳市第一人民医院：你单位《贵阳市第一人民医院关于申请医疗设备报废的请示》（筑一医呈〔2020〕10号）及附件收悉。经审核，同意所报医疗设备、办公设备资产作报废处置，核销报废处置资产原值6,948,985.17元，核销报废处置资产累计折旧6,948,985.17元，核销报废处置资产净值0元（详见《核准处置资产清单》）。按照《行政单位国有资产管理暂行办法》（财政部35号令）、《事业单位国有资产管理暂行办法》（财政部36号令），接文后，主管部门、直接管理单位应做好以下工作：一、市卫生健康局作为主管部门，应履行好监管职责，进一步加强所属单位国有资产管理，促进所属单位进一步提高资产管理效益，避免资产浪费、流失，确保资产的安全与完整。二、市第一人民医院作为直接管理单位，应切实履行主体责任，进一步加强单位国有资产管理制度建设，提高国有资产制度化、规范化、效益化管理水平；进一步加强国有资产使用管理，提高资产使用效率，杜绝资产闲置、浪费、流失；定期开展资产清理核对工作，确保账表、账账、账证、账实相符。三、处置资产，请按现行财务制度的规定调整有关账目，并按国有资产管理信息化要求及时在资产管理信息系统中进行申报和处置操作，同时应按照“公开、公平、公正”的原则进行依法处置，处置收入全额上缴市财政。\\xa0 \\xa0 \\xa0 \\xa0 \\xa0 \\xa0 \\xa0 \\xa0 \\xa0 \\xa0 \\xa0 \\xa0 \\xa0 \\xa0 \\xa0 \\xa0 \\xa0 \\xa0 \\xa0 \\xa0 \\xa0 \\xa0 \\xa0 \\xa0 \\xa0 \\xa0 \\xa0 \\xa0 \\xa0 \\xa0 \\xa0 \\xa0 \\xa0 \\xa0 \\xa0 \\xa0 \\xa0 \\xa0 贵阳市财政局\\xa0 \\xa0 \\xa0 \\xa0 \\xa0 \\xa0 \\xa0 \\xa0 \\xa0 \\xa0 \\xa0 \\xa0 \\xa0 \\xa0 \\xa0 \\xa0 \\xa0 \\xa0 \\xa0 \\xa0 \\xa0 \\xa0 \\xa0 \\xa0 \\xa0 \\xa0 \\xa0 \\xa0 \\xa0 \\xa0 \\xa0 \\xa0 \\xa0 \\xa0 \\xa0 \\xa0 \\xa0 2020年4月20日抄送：贵阳市卫生健康局、贵阳市审计局、市第三纪检组。一贵阳市财政局办公室\\xa0 \\xa0 \\xa0 \\xa0 \\xa0 \\xa0 \\xa0 \\xa0 \\xa0 \\xa0 \\xa0 \\xa0 \\xa0 \\xa0 \\xa0 \\xa0 \\xa0 \\xa0 \\xa0 \\xa0 \\xa0 \\xa0 \\xa0 \\xa0 \\xa0 \\xa0 \\xa0 \\xa02020年4月20日印发一'"
      ]
     },
     "execution_count": 51,
     "metadata": {},
     "output_type": "execute_result"
    }
   ],
   "source": [
    "robust_select(soup_sub,'#Zoom > div')"
   ]
  },
  {
   "cell_type": "code",
   "execution_count": 48,
   "metadata": {},
   "outputs": [
    {
     "data": {
      "text/plain": [
       "'贵阳市财政局关于行政事业单位国有资产报废处置的批复'"
      ]
     },
     "execution_count": 48,
     "metadata": {},
     "output_type": "execute_result"
    }
   ],
   "source": [
    "content"
   ]
  },
  {
   "cell_type": "code",
   "execution_count": 49,
   "metadata": {},
   "outputs": [
    {
     "data": {
      "text/plain": [
       "'贵阳市财政局'"
      ]
     },
     "execution_count": 49,
     "metadata": {},
     "output_type": "execute_result"
    }
   ],
   "source": [
    "source"
   ]
  },
  {
   "cell_type": "code",
   "execution_count": 50,
   "metadata": {},
   "outputs": [
    {
     "data": {
      "text/plain": [
       "'2020-04-22贵阳市财政局'"
      ]
     },
     "execution_count": 50,
     "metadata": {},
     "output_type": "execute_result"
    }
   ],
   "source": [
    "department"
   ]
  },
  {
   "cell_type": "code",
   "execution_count": 24,
   "metadata": {},
   "outputs": [
    {
     "data": {
      "text/plain": [
       "'\\n经研究决定，我市自2020年1月1日零时起，停止收取南宁市路桥车辆通行费。现将有关事项通告如下：一、对于已缴纳2020年度南宁市路桥车辆通行费的机动车辆，缴费人可于2020年1月1日起向南宁城市路桥投资管理有限责任公司办理退费。二、2020年1月1日零时前，在本市城区（不含武鸣区）注册登记的机动车辆，应当补足缴纳2019年和以前年度的南宁市路桥车辆通行费。本通告自2020年1月1日起生效。特此通告。2019年12月29日\\n'"
      ]
     },
     "execution_count": 24,
     "metadata": {},
     "output_type": "execute_result"
    }
   ],
   "source": [
    "robust_select(soup_sub,'#zoom')"
   ]
  },
  {
   "cell_type": "code",
   "execution_count": null,
   "metadata": {},
   "outputs": [],
   "source": []
  },
  {
   "cell_type": "code",
   "execution_count": 77,
   "metadata": {},
   "outputs": [
    {
     "data": {
      "text/plain": [
       "'div#ivs_title'"
      ]
     },
     "execution_count": 77,
     "metadata": {},
     "output_type": "execute_result"
    }
   ],
   "source": [
    "TITLE_SELECTOR"
   ]
  },
  {
   "cell_type": "code",
   "execution_count": 64,
   "metadata": {},
   "outputs": [
    {
     "data": {
      "text/plain": [
       "<div id=\"ivs_content\"><p>\n",
       "\t各高等学校：</p>\n",
       "<p>\n",
       "\t　　根据《上海市教育委员会关于印发&lt;2018-2019年度上海高校信息公开评议工作实施方案&gt;的通知》(沪教委办〔2019〕37号)，市教委组织开展了2018-2019年度上海高校信息公开评议工作。此次评议围绕基础工作、信息主动公开、信息依申请公开、便民服务与网上互动、信息公开专栏服务与功能等五个方面展开，按照部属高校、市属本科高校、市属高职高专院校的实际情况，采用不同的指标体系开展评议。在各单位自查的基础上，市教委组织相关专家组成评议组进行网上评议，并委托社会专业机构对部分指标进行了独立测评，综合以上几方面测评意见，形成了最终的评议结果。</p>\n",
       "<p>\n",
       "\t　　经研究，明确本次测评结果按测评得分率分为四档：得分率在90%以上的定为“优秀单位”，得分率在80%-89%之间的定为“良好单位”，得分率在60%-79%之间的定为“合格单位”，得分率在60%以下的定为“不合格单位”。据此，确定上海外国语大学等3所部属高校、华东政法大学等7所市属本科高校、上海电子信息职业技术学院等2所市属高职高专院校为2018-2019年度上海高校信息公开评议工作“优秀单位”，复旦大学等3所部属高校、上海海事大学等14所市属本科高校、上海出版印刷高等专科学校等5所市属高职高专院校为2018-2019年度上海高校信息公开评议工作“良好单位”，华东理工大学等2所部属高校、上海杉达学院等6所市属本科高校、上海工艺美术职业学院等11所市属高职高专院校为2018-2019年度上海高校信息公开评议工作“合格单位”（具体名单见附件）。另有3所市属本科高校和3所市属高职高专院校为“不合格单位”。</p>\n",
       "<p>\n",
       "\t　　希望各高校继续努力，加大《高等学校信息公开办法》的落实力度，从提升学校依法治校的水平、保障师生员工和社会公众合法权益出发，进一步完善制度建设，规范和深化信息公开工作，不断提高信息公开工作实效，提升公共服务水平。</p>\n",
       "<p>\n",
       "\t　　附件：2018-2019年度上海高校信息公开评议工作优秀、良好、合格单位名单</p>\n",
       "<p style=\"text-align: right;\">\n",
       "\t　　上海市教育委员会</p>\n",
       "<p style=\"text-align: right;\">\n",
       "\t　　2020年4月16日</p>\n",
       "<p>\n",
       "\t　　附件</p>\n",
       "<p style=\"text-align: center;\">\n",
       "<strong>2018-2019年度上海高校信息公开评议工作优秀、良好、合格单位名单</strong></p>\n",
       "<p>\n",
       "\t　　一、优秀单位（12家）</p>\n",
       "<p>\n",
       "\t　　部属高校：上海外国语大学、上海交通大学、华东师范大学</p>\n",
       "<p>\n",
       "\t　　市属本科高校：华东政法大学、上海理工大学、上海健康医学院、上海中医药大学、上海师范大学、上海立信会计金融学院、上海对外经贸大学</p>\n",
       "<p>\n",
       "\t　　市属高职高专院校：上海电子信息职业技术学院、上海震旦职业学院</p>\n",
       "<p>\n",
       "\t　　二、良好单位（22家）</p>\n",
       "<p>\n",
       "\t　　部属高校：复旦大学、东华大学、同济大学</p>\n",
       "<p>\n",
       "\t　　市属本科高校：上海海事大学、上海海洋大学、上海海关学院、上海电机学院、上海商学院、上海体育学院、上海工程技术大学、上海交大医学院、上海建桥学院、上海第二工业大学、上海应用技术大学、上海电力大学、上海外国语大学贤达经济人文学院、上海戏剧学院</p>\n",
       "<p>\n",
       "\t　　市属高职高专院校：上海出版印刷高等专科学校、上海行健职业学院、上海城建职业学院、上海农林职业技术学院、上海旅游高等专科学校</p>\n",
       "<p>\n",
       "\t　　三、合格单位（19家）</p>\n",
       "<p>\n",
       "\t　　部属高校：华东理工大学、上海财经大学</p>\n",
       "<p>\n",
       "\t　　市属本科高校：上海杉达学院、上海政法学院、上海大学、上海视觉艺术学院、上海科技大学、上海音乐学院</p>\n",
       "<p>\n",
       "\t　　市属高职高专院校：上海工艺美术职业学院、上海中侨职业技术学院、上海工商外国语职业学院、上海济光职业技术学院、上海海事职业技术学院、上海工商职业技术学院、上海东海职业技术学院、上海邦德职业技术学院、上海交通职业技术学院、上海科学技术职业学院、上海思博职业技术学院</p></div>"
      ]
     },
     "execution_count": 64,
     "metadata": {},
     "output_type": "execute_result"
    }
   ],
   "source": [
    "driver = webdriver.Chrome(options=options)\n",
    "driver.get('http://www.shanghai.gov.cn/nw2/nw2314/nw2319/nw12344/u26aw64785.html')\n",
    "page=BeautifulSoup(driver.page_source.encode('gb18030'), 'html.parser')\n",
    "page.select_one('#ivs_content')"
   ]
  },
  {
   "cell_type": "code",
   "execution_count": 57,
   "metadata": {},
   "outputs": [
    {
     "data": {
      "text/plain": [
       "[]"
      ]
     },
     "execution_count": 57,
     "metadata": {},
     "output_type": "execute_result"
    }
   ],
   "source": [
    "page=BeautifulSoup(driver.page_source.encode('#ivs_content'), 'html.parser')\n",
    "page.select('#ivs_content')"
   ]
  },
  {
   "cell_type": "code",
   "execution_count": 63,
   "metadata": {},
   "outputs": [],
   "source": [
    "\n",
    "\n",
    "invalidLink1='#'\n",
    "invalidLink2='javascript:void(0)'\n",
    "\n",
    "\n",
    "result = set()\n",
    "for url in soup.find_all('li'):\n",
    "    for k in soup.find_all(url):\n",
    "        #print(k)\n",
    "        #查找href标签\n",
    "        link=k.get('href')\n",
    "\n",
    "        if(link is not None):\n",
    "            if link==invalidLink1:\n",
    "                pass\n",
    "            elif link==invalidLink2:\n",
    "                pass\n",
    "            elif link.find(\"javascript:\")!=-1:\n",
    "                pass\n",
    "            else:\n",
    "                result.add(link)\n",
    "\n"
   ]
  },
  {
   "cell_type": "code",
   "execution_count": 77,
   "metadata": {},
   "outputs": [
    {
     "data": {
      "text/plain": [
       "bs4.element.Tag"
      ]
     },
     "execution_count": 77,
     "metadata": {},
     "output_type": "execute_result"
    }
   ],
   "source": [
    "type(soup.find_all('li')[1])"
   ]
  },
  {
   "cell_type": "code",
   "execution_count": 15,
   "metadata": {
    "scrolled": true
   },
   "outputs": [
    {
     "name": "stdout",
     "output_type": "stream",
     "text": [
      "http://www.gz.gov.cn/xw/tzgg/content/post_5815370.html\n",
      "http://www.gz.gov.cn/xw/tzgg/content/post_5814356.html\n",
      "http://www.gz.gov.cn/xw/tzgg/content/post_5812555.html\n",
      "http://www.gz.gov.cn/xw/tzgg/content/post_5812549.html\n",
      "http://www.gz.gov.cn/xw/tzgg/content/post_5812109.html\n",
      "http://www.gz.gov.cn/xw/tzgg/content/post_5812106.html\n",
      "http://www.gz.gov.cn/xw/tzgg/content/post_5807650.html\n",
      "http://www.gz.gov.cn/xw/tzgg/content/post_5806089.html\n",
      "http://www.gz.gov.cn/xw/tzgg/content/post_5805665.html\n",
      "http://www.gz.gov.cn/xw/tzgg/content/post_5805637.html\n",
      "http://www.gz.gov.cn/xw/tzgg/content/post_5805382.html\n",
      "http://www.gz.gov.cn/xw/tzgg/content/post_5805645.html\n",
      "http://www.gz.gov.cn/xw/tzgg/content/post_5797191.html\n",
      "http://www.gz.gov.cn/xw/tzgg/content/post_5797416.html\n",
      "http://www.gz.gov.cn/xw/tzgg/content/post_5795795.html\n"
     ]
    }
   ],
   "source": [
    "##Test selectors\n",
    "test_url = 'http://www.gz.gov.cn/xw/tzgg/'\n",
    "page = getPage(test_url)\n",
    "soup = BeautifulSoup(page.text, 'html.parser')\n",
    "\n",
    "from urllib import parse\n",
    "test_selector = 'a'\n",
    "page = getPage(test_url)\n",
    "soup = BeautifulSoup(page.text, 'html.parser')\n",
    "content = soup.select('ul.news_list li a')\n",
    "\n",
    "for i in content:\n",
    "    new_full_url = parse.urljoin(test_url,i.attrs['href'])\n",
    "    print(new_full_url)"
   ]
  },
  {
   "cell_type": "code",
   "execution_count": 9,
   "metadata": {},
   "outputs": [
    {
     "data": {
      "text/plain": [
       "[<a href=\"http://www.gz.gov.cn/sofpro/gzyyqt/12345web/s_login.jsp\" target=\"_blank\">登录</a>,\n",
       " <a href=\"#\">语言<i></i></a>,\n",
       " <a class=\"zh_click\" id=\"zh_click_s\" onclick=\"zh_tran('s')\">简体</a>,\n",
       " <a class=\"zh_click\" id=\"zh_click_t\" onclick=\"zh_tran('t')\" style=\"color: rgb(198, 228, 255);\">繁體</a>,\n",
       " <a href=\"http://www.gz.gov.cn/guangzhouinternational/index.html\" target=\"_blank\">English</a>,\n",
       " <a href=\"#\">手机端<i></i></a>,\n",
       " <a class=\"wza\" href=\"http://voice.gz.gov.cn/.m/turbowas/a.jsp?entryUri=/&amp;entryDomain=http://www.gz.gov.cn\" target=\"_blank\">无障碍</a>,\n",
       " <a href=\"#\">微信<i></i></a>,\n",
       " <a href=\"#\">微博<i></i></a>,\n",
       " <a href=\"http://weibo.com/2605594314\" target=\"_blank\"><img src=\"./static/images/zggzfb.jpg\"/><span>中国广州发布</span></a>,\n",
       " <a href=\"http://weibo.com/2532700305\" target=\"_blank\"><img src=\"./static/images/gzzfxwb.jpg\"/><span>广州市政府<br/>新闻办</span></a>,\n",
       " <a href=\"http://mail.gz.gov.cn/\" target=\"_parent\">政务邮箱</a>,\n",
       " <a href=\"/\" target=\"_blank\">首页</a>,\n",
       " <a href=\"http://www.gz.gov.cn/zwgk/index.html\" target=\"_blank\">政务公开</a>,\n",
       " <a href=\"http://www.gz.gov.cn/zwfw/index.html\" target=\"_blank\">政务服务</a>,\n",
       " <a href=\"http://www.gz.gov.cn/hdjl/index.html\" target=\"_blank\">互动交流</a>,\n",
       " <a href=\"http://www.gz.gov.cn/ysgz/index.html\" target=\"_blank\">营商环境</a>,\n",
       " <a href=\"http://www.gz.gov.cn/zlgz/index.html\" target=\"_blank\">魅力广州</a>,\n",
       " <a href=\"/\" target=\"_blank\">首页</a>,\n",
       " <a href=\"http://www.gz.gov.cn/zwgk/index.html\" target=\"_blank\">政务公开</a>,\n",
       " <a href=\"http://www.gz.gov.cn/zwfw/index.html\" target=\"_blank\">政务服务</a>,\n",
       " <a href=\"http://www.gz.gov.cn/hdjl/index.html\" target=\"_blank\">互动交流</a>,\n",
       " <a href=\"http://www.gz.gov.cn/ysgz/index.html\" target=\"_blank\">营商环境</a>,\n",
       " <a href=\"http://www.gz.gov.cn/zlgz/index.html\" target=\"_blank\">魅力广州</a>,\n",
       " <a href=\"http://www.gz.gov.cn/xw/tzgg/content/post_5815370.html\" target=\"_blank\" title=\"广州市新冠肺炎防控指挥办文化旅游防控组关于印发广州市“五一”假期出行新冠肺炎疫情防控工作指引的通知\">广州市新冠肺炎防控指挥办文化旅游防控组关于印发广州市“五一”假期出行新冠肺炎疫情防控工作指引的通知</a>,\n",
       " <a href=\"http://www.gz.gov.cn/xw/tzgg/content/post_5814356.html\" target=\"_blank\" title=\"广州市医疗保障局  广州市卫生健康委员会关于做好慢性病长处方和“互联网+” 复诊工作的通知\">广州市医疗保障局  广州市卫生健康委员会关于做好慢性病长处方和“互联网+” 复诊工作的通知</a>,\n",
       " <a href=\"http://www.gz.gov.cn/xw/tzgg/content/post_5812555.html\" target=\"_blank\" title=\"广州市交通运输局关于申报新能源货车购置地方财政补贴的通知\">广州市交通运输局关于申报新能源货车购置地方财政补贴的通知</a>,\n",
       " <a href=\"http://www.gz.gov.cn/xw/tzgg/content/post_5812549.html\" target=\"_blank\" title=\"广州市交通运输局 广州公共资源交易中心关于普通公路养护工程全面推行电子化招标的通知\">广州市交通运输局 广州公共资源交易中心关于普通公路养护工程全面推行电子化招标的通知</a>,\n",
       " <a href=\"http://www.gz.gov.cn/xw/tzgg/content/post_5812109.html\" target=\"_blank\" title=\"关于广州市2020年城镇国有建设用地标定地价更新成果听证会的公告\">关于广州市2020年城镇国有建设用地标定地价更新成果听证会的公告</a>,\n",
       " <a href=\"http://www.gz.gov.cn/xw/tzgg/content/post_5812106.html\" target=\"_blank\" title=\"广州市不动产登记中心2020年劳动节放假通告\">广州市不动产登记中心2020年劳动节放假通告</a>,\n",
       " <a href=\"http://www.gz.gov.cn/xw/tzgg/content/post_5807650.html\" target=\"_blank\" title=\"广州市商务局关于印发商业服务企业新常态下做好疫情防控工作指引的通知\">广州市商务局关于印发商业服务企业新常态下做好疫情防控工作指引的通知</a>,\n",
       " <a href=\"http://www.gz.gov.cn/xw/tzgg/content/post_5806089.html\" target=\"_blank\" title=\"行政处罚听证通告\">行政处罚听证通告</a>,\n",
       " <a href=\"http://www.gz.gov.cn/xw/tzgg/content/post_5805665.html\" target=\"_blank\" title=\"广州市疫情防控重点保障企业优惠贷款贴息申报补充指引\">广州市疫情防控重点保障企业优惠贷款贴息申报补充指引</a>,\n",
       " <a href=\"http://www.gz.gov.cn/xw/tzgg/content/post_5805637.html\" target=\"_blank\" title=\"关于延长我市非营利组织免税资格复审申请期限的通知\">关于延长我市非营利组织免税资格复审申请期限的通知</a>,\n",
       " <a href=\"http://www.gz.gov.cn/xw/tzgg/content/post_5805382.html\" target=\"_blank\" title=\"广州市市场监督管理局关于开展动产抵押委托登记试点工作的通告\">广州市市场监督管理局关于开展动产抵押委托登记试点工作的通告</a>,\n",
       " <a href=\"http://www.gz.gov.cn/xw/tzgg/content/post_5805645.html\" target=\"_blank\" title=\"市财政局行政处罚听证通告\">市财政局行政处罚听证通告</a>,\n",
       " <a href=\"http://www.gz.gov.cn/xw/tzgg/content/post_5797191.html\" target=\"_blank\" title=\"广州市市场监督管理局关于公示广州市知识产权运营服务体系建设中央专项资金2019-2020年公开征集项目第一批拟立项项目的通告\">广州市市场监督管理局关于公示广州市知识产权运营服务体系建设中央专项资金2019-2020年公开征集项目第一批拟立项项目的通告</a>,\n",
       " <a href=\"http://www.gz.gov.cn/xw/tzgg/content/post_5797416.html\" target=\"_blank\" title=\"2020年4月黄埔区政府领导接听12345热线群众来电公告\">2020年4月黄埔区政府领导接听12345热线群众来电公告</a>,\n",
       " <a href=\"http://www.gz.gov.cn/xw/tzgg/content/post_5795795.html\" target=\"_blank\" title=\"广州市规划和自然资源局关于土地核验（土地出让金核实）纳入联合验收有关工作的通知\">广州市规划和自然资源局关于土地核验（土地出让金核实）纳入联合验收有关工作的通知</a>,\n",
       " <a class=\"rotate\" id=\"sk\"><i></i>穗康</a>,\n",
       " <a class=\"rotate\" id=\"sk\"><i style=\"height:53px\"></i></a>,\n",
       " <a class=\"rotate\" href=\"http://www.gz.gov.cn/hdjl/12345rx/sysm/index.html\" target=\"_blank\"><i></i><span>广州12345</span></a>,\n",
       " <a class=\"rotate\" href=\"http://www.gz.gov.cn/zwfw/bmcx/index.html\" target=\"_blank\"><i></i>我要查</a>,\n",
       " <a class=\"rotate\" href=\"http://www.gdzwfw.gov.cn/portal/index?region=440100\" target=\"_blank\"><i></i>我要办</a>,\n",
       " <a class=\"rotate\" href=\"/dhc/qa/\" target=\"_blank\"><i></i>智能问答</a>,\n",
       " <a class=\"rotate\" href=\"http://www.gz.gov.cn/yy/index.html\" target=\"_blank\"><i></i>应用</a>]"
      ]
     },
     "execution_count": 9,
     "metadata": {},
     "output_type": "execute_result"
    }
   ],
   "source": [
    "content"
   ]
  },
  {
   "cell_type": "code",
   "execution_count": 67,
   "metadata": {},
   "outputs": [],
   "source": [
    "start_url = 'http://www.gz.gov.cn/xw/tzgg/'\n",
    "\n",
    "page = getPage(start_url)\n",
    "indicator = True\n",
    "all_res = []\n",
    "\n",
    "while indicator:\n",
    "    soup = BeautifulSoup(page.text, 'html.parser')\n",
    "    newsset = soup.select('ul.news_list>li>a')\n",
    "    for news in newsset:\n",
    "        title = news['title']\n",
    "        url = news['href']\n",
    "        announcepage = getPage(url)\n",
    "        announce_soup = BeautifulSoup(announcepage.text,'html.parser')\n",
    "        source = announce_soup.select_one('#laiyuan > b').text\n",
    "        all_res.append({\n",
    "            'title': title,\n",
    "            'url': url,\n",
    "            'source': source\n",
    "        })\n",
    "    indicator = False"
   ]
  },
  {
   "cell_type": "code",
   "execution_count": 9,
   "metadata": {},
   "outputs": [],
   "source": [
    "urlprefix = 'https://www.baidu.com/s?&wd='\n",
    "urlsuffix = '市人民政府通知公告'\n",
    "cities = ['广州', '北京', '上海', '深圳', '哈尔滨', '南宁', '太原', '长春', '合肥', '南昌', '重庆', '天津', \n",
    "          '海口', '贵阳', '石家庄', '成都', '杭州', '武汉', '南京', '长沙', '郑州', '青岛', '沈阳', '福州', \n",
    "          '昆明']"
   ]
  },
  {
   "cell_type": "code",
   "execution_count": 44,
   "metadata": {},
   "outputs": [
    {
     "name": "stdout",
     "output_type": "stream",
     "text": [
      "通知公告 - 广州市人民政府门户网站_中国广州政府\n",
      "http://www.gz.gov.cn/xw/tzgg/mindex.html\n",
      "通知公告\n",
      "http://www.bjtzh.gov.cn/bjtz/home/tzgg/index.shtml\n",
      "通知公告_上海市宝山区人民政府\n",
      "http://www.shbsq.gov.cn/shbs/gsgg/\n",
      "通知公告--深圳政府在线_深圳市人民政府门户网站\n",
      "http://www.sz.gov.cn/cn/xxgk/zfxxgj/tzgg/index.html\n",
      "哈尔滨市人民政府 通知公告\n",
      "http://www.harbin.gov.cn/col/col209/index.html#!uid=832&pageNum=1\n",
      "通知公告_南宁市人民政府国有资产监督管理委员会\n",
      "http://gzw.nanning.gov.cn/xxgk/zwdt/tzgg/\n",
      "政府公告-太原市人民政府门户网站\n",
      "HTTPConnectionPool(host='www.taiyuan.gov.cn', port=80): Max retries exceeded with url: /xwzx/zfgg/index.shtml (Caused by NewConnectionError('<urllib3.connection.HTTPConnection object at 0x11156d990>: Failed to establish a new connection: [Errno 60] Operation timed out'))\n",
      "\n",
      "通知公告 - 长春市人民政府-中国长春_长春政务网\n",
      "http://www.changchun.gov.cn/zw_33994/tzgg/\n",
      "合肥市人民政府关于2020年秸秆禁烧工作的通告 - 通知公告_合肥市...\n",
      "http://www.hfss.gov.cn/zqdh/zjyq/slajdbsc/tzgg/10939381.html\n",
      "通知公告 - 南昌市财政局\n",
      "HTTPConnectionPool(host='czj.nc.gov.cn', port=80): Max retries exceeded with url: /ncczj/tzgg/nav_list.shtml (Caused by NewConnectionError('<urllib3.connection.HTTPConnection object at 0x111aaec90>: Failed to establish a new connection: [Errno 8] nodename nor servname provided, or not known'))\n",
      "\n",
      "通知公告_重庆市人民政府网\n",
      "http://www.cq.gov.cn/zwgk/wlzcwj/zbtb/cqjy/tzgg/\n",
      "通知公告_天津市人民政府国有资产监督管理委员会\n",
      "http://sasac.tj.gov.cn/tzgg\n",
      "通知公告-海口市龙华区人民政府\n",
      "http://lhqzf.haikou.gov.cn/jrlh1/tzgg.htm\n",
      "贵阳市白云区人民政府网站-通知公告\n",
      "http://www.gzbaiyun.gov.cn/xwdt/tzgg/\n",
      "通知公告-石家庄市人民政府\n",
      "http://www.sjz.gov.cn/col/1490076478426/\n",
      "各单位、各企业: 按照《中共成都市委办公厅成都市人民政府...\n",
      "http://www.chengdu.gov.cn/xdqjxtzj/tzgg/2020-04/28/content_f625044594a341b793709908a60fb313.shtml\n",
      "杭州市临安区人民政府 通知公告_浙江临安政府网\n",
      "http://www.linan.gov.cn/col/col1459500/index.html\n",
      "通知公告 - 武汉市硚口区人民政府门户网站\n",
      "HTTPSConnectionPool(host='www.qiaokou.gov.cn', port=443): Max retries exceeded with url: /qkxw/tzgg/ (Caused by SSLError(SSLError(\"bad handshake: Error([('SSL routines', 'tls_process_server_certificate', 'certificate verify failed')])\")))\n",
      "\n",
      "南京市江宁区人民政府-通知公告\n",
      "http://www.jiangning.gov.cn/xwzx/tzgg/\n",
      "长沙市政府门户网站-通知公告\n",
      "http://www.changsha.gov.cn/szf/tzgg/\n",
      "通知公告 - 郑州市人民政府\n",
      "http://www.zhengzhou.gov.cn/news6/index.jhtml\n",
      "青岛市司法局\n",
      "http://qdsf.qingdao.gov.cn/n3707475/n32567583/\n",
      "通知公告-沈阳市铁西区人民政府\n",
      "HTTPConnectionPool(host='www.tiexi.gov.cn', port=80): Max retries exceeded with url: /sytx/tzgg/glist.html (Caused by NewConnectionError('<urllib3.connection.HTTPConnection object at 0x1128cd310>: Failed to establish a new connection: [Errno 60] Operation timed out'))\n",
      "\n",
      "公告_通知公告_福州市人民政府\n",
      "http://www.fuzhou.gov.cn/tzgg/201912/t20191230_3158768.htm\n",
      "昆明市人民政府金融办公室_通知公告\n",
      "http://jrb.km.gov.cn/tzgg/\n"
     ]
    }
   ],
   "source": [
    "city_govs = pd.DataFrame(columns=['city','url','name'])\n",
    "for city in cities:\n",
    "    url = urlprefix + city + urlsuffix\n",
    "    page = getPage(url)\n",
    "    soup = BeautifulSoup(page.text, 'html.parser')\n",
    "    firstitem = soup.select('div.result.c\\-container > h3.t')[0]\n",
    "    name = firstitem.text\n",
    "    print(name)\n",
    "    try:\n",
    "        subpage = getPage(firstitem.a['href'])\n",
    "        url_t = subpage.url\n",
    "    except Exception as err:\n",
    "        print(err)\n",
    "        url_t = ''\n",
    "    finally:\n",
    "        print(url_t)\n",
    "        city_govs = city_govs.append({'city':city,'url':url_t,'name':name},ignore_index=True)"
   ]
  },
  {
   "cell_type": "code",
   "execution_count": 61,
   "metadata": {},
   "outputs": [],
   "source": [
    "city_govs.to_csv('settings/city_govs.csv',index=False)"
   ]
  },
  {
   "cell_type": "code",
   "execution_count": 47,
   "metadata": {},
   "outputs": [
    {
     "data": {
      "text/plain": [
       "25"
      ]
     },
     "execution_count": 47,
     "metadata": {},
     "output_type": "execute_result"
    }
   ],
   "source": [
    "city_govs.index"
   ]
  },
  {
   "cell_type": "code",
   "execution_count": 17,
   "metadata": {},
   "outputs": [],
   "source": [
    "citygovs2 = pd.read_csv('settings/city_govs.csv',index_col='city')"
   ]
  },
  {
   "cell_type": "code",
   "execution_count": 12,
   "metadata": {},
   "outputs": [],
   "source": [
    "citygovs2.to_csv('settings/city_govs.csv',encoding='utf_8_sig')"
   ]
  },
  {
   "cell_type": "code",
   "execution_count": 4,
   "metadata": {},
   "outputs": [],
   "source": [
    "a = pd.read_csv('settings/selector_settings.csv',index_col = 'city')"
   ]
  },
  {
   "cell_type": "code",
   "execution_count": 26,
   "metadata": {},
   "outputs": [
    {
     "data": {
      "text/plain": [
       "True"
      ]
     },
     "execution_count": 26,
     "metadata": {},
     "output_type": "execute_result"
    }
   ],
   "source": [
    "b = a['news_selector']['北京']\n",
    "math.isnan(b)"
   ]
  },
  {
   "cell_type": "code",
   "execution_count": 22,
   "metadata": {},
   "outputs": [
    {
     "data": {
      "text/plain": [
       "nan"
      ]
     },
     "execution_count": 22,
     "metadata": {},
     "output_type": "execute_result"
    }
   ],
   "source": [
    "b"
   ]
  },
  {
   "cell_type": "code",
   "execution_count": 2,
   "metadata": {},
   "outputs": [],
   "source": []
  },
  {
   "cell_type": "code",
   "execution_count": null,
   "metadata": {},
   "outputs": [],
   "source": []
  }
 ],
 "metadata": {
  "kernelspec": {
   "display_name": "Python 3",
   "language": "python",
   "name": "python3"
  },
  "language_info": {
   "codemirror_mode": {
    "name": "ipython",
    "version": 3
   },
   "file_extension": ".py",
   "mimetype": "text/x-python",
   "name": "python",
   "nbconvert_exporter": "python",
   "pygments_lexer": "ipython3",
   "version": "3.7.3"
  }
 },
 "nbformat": 4,
 "nbformat_minor": 4
}
