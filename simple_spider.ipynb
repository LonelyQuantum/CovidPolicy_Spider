{
 "cells": [
  {
   "cell_type": "code",
<<<<<<< HEAD
   "execution_count": 2,
=======
   "execution_count": 1,
>>>>>>> 0e60f2f0cc1de87d28444f69811b227f86fc125a
   "metadata": {},
   "outputs": [],
   "source": [
    "import bs4\n",
    "from bs4 import BeautifulSoup\n",
    "from selenium import webdriver\n",
    "import requests\n",
    "from selenium import webdriver\n",
    "\n",
    "import random\n",
    "import time\n",
    "import pandas as pd\n",
    "import math\n",
    "from urllib import parse\n",
    "import os"
   ]
  },
  {
   "cell_type": "code",
   "execution_count": 16,
   "metadata": {},
   "outputs": [],
   "source": [
    "my_headers_Get = {\n",
    "    'User-Agent': 'Mozilla/5.0 (Macintosh; Intel Mac OS X 10_14_4) AppleWebKit/537.36 (KHTML, like Gecko) Chrome/74.0.3729.169 Safari/537.36',\n",
    "    'Accept': 'text/html,application/xhtml+xml,application/xml;q=0.9,image/webp,image/apng,*/*;q=0.8,application/signed-exchange;v=b3',\n",
    "    'Accept-Language': 'zh-CN,zh;q=0.9,en;q=0.8',\n",
    "    'Accept-Encoding': 'gzip, deflate, br',\n",
    "    'Connection': 'keep-alive',\n",
    "    'Upgrade-Insecure-Requests': '1'\n",
    "}\n",
    "\n",
    "def getPage(url):\n",
    "    delay = 0.1*random.random()\n",
    "    time.sleep(delay)\n",
    "    s = requests.Session()\n",
    "    return s.get(url, headers=my_headers_Get)\n",
    "\n",
    "def robust_select(soup,SELECTOR):\n",
    "    if type(SELECTOR) is not str:\n",
    "        return None\n",
    "    else:\n",
    "        res = soup.select(SELECTOR)\n",
    "        if res is None:\n",
    "            return None\n",
    "        else:\n",
    "            if len(res) == 1:\n",
    "                return res[0].text\n",
    "            else:\n",
    "                rescombined = ''\n",
    "                for part in res:\n",
    "                    rescombined += part.text\n",
    "                return rescombined"
   ]
  },
  {
   "cell_type": "code",
<<<<<<< HEAD
   "execution_count": 15,
   "metadata": {},
   "outputs": [],
   "source": [
    "#test_url = 'http://www.gz.gov.cn/xw/tzgg/mindex.html'\n",
    "#page = getPage(test_url)\n",
    "#soup = BeautifulSoup(page.text, 'html.parser')"
=======
   "execution_count": 11,
   "metadata": {},
   "outputs": [],
   "source": [
    "options = webdriver.ChromeOptions()\n",
    "options.add_argument('headless')\n",
    "\n",
    "test_url = 'http://www.beijing.gov.cn/zhengce/zhengcefagui/'\n",
    "driver = webdriver.Chrome(options=options)\n",
    "driver.get(test_url)\n"
>>>>>>> 0e60f2f0cc1de87d28444f69811b227f86fc125a
   ]
  },
  {
   "cell_type": "code",
<<<<<<< HEAD
   "execution_count": 16,
   "metadata": {},
   "outputs": [],
   "source": [
    "#test_selector = 'ul.news_list>li>a'\n",
    "#content = soup.select(test_selector)"
=======
   "execution_count": 15,
   "metadata": {},
   "outputs": [],
   "source": [
    "driver.execute_script('Pager({size:273, current:0, prefix:\\'index\\',suffix:\\'html\\'})')\n",
    "soup = BeautifulSoup(driver.page_source.content.decode('utf-8'), 'html.parser')\n"
   ]
  },
  {
   "cell_type": "code",
   "execution_count": 18,
   "metadata": {},
   "outputs": [
    {
     "ename": "TypeError",
     "evalue": "'WebElement' object is not subscriptable",
     "output_type": "error",
     "traceback": [
      "\u001b[0;31m---------------------------------------------------------------------------\u001b[0m",
      "\u001b[0;31mTypeError\u001b[0m                                 Traceback (most recent call last)",
      "\u001b[0;32m<ipython-input-18-f0deb839c61e>\u001b[0m in \u001b[0;36m<module>\u001b[0;34m\u001b[0m\n\u001b[0;32m----> 1\u001b[0;31m \u001b[0mresults\u001b[0m\u001b[0;34m[\u001b[0m\u001b[0;34m'href'\u001b[0m\u001b[0;34m]\u001b[0m\u001b[0;34m\u001b[0m\u001b[0;34m\u001b[0m\u001b[0m\n\u001b[0m",
      "\u001b[0;31mTypeError\u001b[0m: 'WebElement' object is not subscriptable"
     ]
    }
   ],
   "source": [
    "results.att"
   ]
  },
  {
   "cell_type": "code",
   "execution_count": 13,
   "metadata": {},
   "outputs": [],
   "source": [
    "test_selector = 'body > div.listBox > div > a.next'\n",
    "content = soup.select(test_selector)"
>>>>>>> 0e60f2f0cc1de87d28444f69811b227f86fc125a
   ]
  },
  {
   "cell_type": "code",
   "execution_count": 17,
   "metadata": {},
   "outputs": [
    {
     "data": {
      "text/plain": [
       "True"
      ]
     },
     "execution_count": 17,
     "metadata": {},
     "output_type": "execute_result"
    }
   ],
   "source": [
    "'广州.json' in os.listdir('results/json/')"
   ]
  },
  {
   "cell_type": "code",
<<<<<<< HEAD
   "execution_count": 106,
   "metadata": {},
   "outputs": [],
   "source": [
    "city = 12"
   ]
  },
  {
   "cell_type": "code",
   "execution_count": 107,
   "metadata": {},
   "outputs": [],
   "source": [
    "websiteInfo = pd.read_csv('settings/city_govs.csv')\n",
    "\n",
    "start_urls = websiteInfo['url'][city]\n",
    "MAIN_PAGE_ENCODING = websiteInfo['main_page_encoding'][city]\n",
    "SUB_PAGE_ENCODING = websiteInfo['sub_page_encoding'][city]\n",
    "\n",
    "#Load the selectors for the city\n",
    "selectorInfo = pd.read_csv('settings/selector_settings.csv')\n",
    "NEWS_SELECTOR = selectorInfo['news_selector'][city]\n",
    "URL_SELECTOR = selectorInfo['url_selector'][city]\n",
    "NEXT_PAGE_SELECTOR = selectorInfo['next_page_selector'][city]\n",
    "TITLE_SELECTOR = selectorInfo['title_selector'][city]\n",
    "DATE_SELECTOR = selectorInfo['date_selector'][city]\n",
    "SOURCE_SELECTOR = selectorInfo['source_selector'][city]\n",
    "DPRT_SELECTOR = selectorInfo['department_selector'][city]\n",
    "CONTENT_SELECTOR = selectorInfo['content_selector'][city]\n",
    "\n",
    "#page = getPage(start_urls)\n",
    "#soup = BeautifulSoup(page.content.decode(MAIN_PAGE_ENCODING,'ignore'), 'html.parser')\n",
    "options = webdriver.ChromeOptions()\n",
    "options.add_argument('headless')\n",
    "\n",
    "driver = webdriver.Chrome(options=options)\n",
    "driver.get(start_urls)\n",
    "soup = BeautifulSoup(driver.page_source, 'html.parser')"
   ]
  },
  {
   "cell_type": "code",
   "execution_count": 108,
   "metadata": {},
   "outputs": [
    {
     "data": {
      "text/plain": [
       "'http://www.haikou.gov.cn/xxgk/szfbjxxgk/ggtz/'"
      ]
     },
     "execution_count": 108,
     "metadata": {},
     "output_type": "execute_result"
    }
   ],
   "source": [
    "start_urls"
   ]
  },
  {
   "cell_type": "code",
   "execution_count": 110,
   "metadata": {},
   "outputs": [
    {
     "data": {
      "text/plain": [
       "'ul>li>a'"
      ]
     },
     "execution_count": 110,
     "metadata": {},
     "output_type": "execute_result"
    }
   ],
   "source": [
    "NEWS_SELECTOR"
   ]
  },
  {
   "cell_type": "code",
   "execution_count": 112,
   "metadata": {
    "scrolled": true
   },
   "outputs": [
    {
     "name": "stdout",
     "output_type": "stream",
     "text": [
      "http://www.haikou.gov.cn/xxgk/szfbjxxgk/ggtz/202004/t20200427_1504713.html\n",
      "http://www.haikou.gov.cn/xxgk/szfbjxxgk/ggtz/202004/t20200426_1504351.html\n",
      "http://www.haikou.gov.cn/xxgk/szfbjxxgk/ggtz/202004/t20200422_1503629.html\n",
      "http://www.haikou.gov.cn/xxgk/szfbjxxgk/ggtz/202004/t20200420_1503158.html\n",
      "http://www.haikou.gov.cn/xxgk/szfbjxxgk/ggtz/202004/t20200414_1501819.html\n",
      "http://www.haikou.gov.cn/xxgk/szfbjxxgk/ggtz/202004/t20200402_1499514.html\n",
      "http://www.haikou.gov.cn/xxgk/szfbjxxgk/ggtz/202004/t20200402_1499506.html\n",
      "http://www.haikou.gov.cn/xxgk/szfbjxxgk/ggtz/202004/t20200401_1499200.html\n",
      "http://www.haikou.gov.cn/xxgk/szfbjxxgk/ggtz/202003/t20200331_1498828.html\n",
      "http://www.haikou.gov.cn/xxgk/szfbjxxgk/ggtz/202003/t20200327_1498104.html\n",
      "http://www.haikou.gov.cn/xxgk/szfbjxxgk/ggtz/202003/t20200327_1498036.html\n",
      "http://www.haikou.gov.cn/xxgk/szfbjxxgk/ggtz/202003/t20200324_1496731.html\n",
      "http://www.haikou.gov.cn/xxgk/szfbjxxgk/ggtz/202003/t20200324_1496712.html\n",
      "http://www.haikou.gov.cn/xxgk/szfbjxxgk/ggtz/202003/t20200318_1495790.html\n",
      "http://www.haikou.gov.cn/xxgk/szfbjxxgk/ggtz/202003/t20200318_1495727.html\n",
      "http://www.haikou.gov.cn/xxgk/szfbjxxgk/ggtz/202003/t20200309_1493483.html\n",
      "http://www.haikou.gov.cn/xxgk/szfbjxxgk/ggtz/202003/t20200302_1492315.html\n",
      "http://www.haikou.gov.cn/xxgk/szfbjxxgk/ggtz/202002/t20200228_1492026.html\n",
      "http://www.haikou.gov.cn/xxgk/szfbjxxgk/ggtz/202002/t20200225_1491415.html\n",
      "http://www.haikou.gov.cn/xxgk/szfbjxxgk/ggtz/202002/t20200224_1491178.html\n"
     ]
    }
   ],
   "source": [
    "for news in soup.select(NEWS_SELECTOR):\n",
    "    url = news['href']\n",
    "    url = parse.urljoin(start_urls,url)\n",
    "    print(url)\n"
   ]
  },
  {
   "cell_type": "code",
   "execution_count": 114,
   "metadata": {},
   "outputs": [
    {
     "data": {
      "text/plain": [
       "'http://www.haikou.gov.cn/xxgk/szfbjxxgk/ggtz/index_1.html'"
      ]
     },
     "execution_count": 114,
     "metadata": {},
     "output_type": "execute_result"
    }
   ],
   "source": [
    "next_page = soup.select_one(NEXT_PAGE_SELECTOR)\n",
    "next_page_url = next_page['href']\n",
    "next_page_url = parse.urljoin(start_urls,next_page_url)\n",
    "next_page_url"
   ]
  },
  {
   "cell_type": "code",
   "execution_count": 11,
   "metadata": {},
   "outputs": [
    {
     "data": {
      "text/plain": [
       "'span.arrow nex_num>a'"
      ]
     },
     "execution_count": 11,
     "metadata": {},
     "output_type": "execute_result"
    }
   ],
   "source": [
    "NEXT_PAGE_SELECTOR#page_div > span:nth-child(13)>a"
   ]
  },
  {
   "cell_type": "code",
   "execution_count": 112,
   "metadata": {},
   "outputs": [],
   "source": [
    "#\\38 32 > table > tbody > tr > td > table > tbody > tr > td:nth-child(8) > a"
   ]
  },
  {
   "cell_type": "code",
   "execution_count": 115,
   "metadata": {},
   "outputs": [],
   "source": [
    "subpage_url = 'http://www.haikou.gov.cn/xxgk/szfbjxxgk/ggtz/202002/t20200225_1491415.html'"
   ]
  },
  {
   "cell_type": "code",
   "execution_count": 119,
   "metadata": {},
   "outputs": [],
   "source": [
    "driver = webdriver.Chrome(options=options)\n",
    "driver.get(subpage_url)\n",
    "\n",
    "soup_sub = BeautifulSoup(driver.page_source,'html.parser')\n",
    "#Select target elements\n",
    "title = robust_select(soup_sub,TITLE_SELECTOR)\n",
    "date = robust_select(soup_sub,DATE_SELECTOR)\n",
    "content = robust_select(soup_sub,CONTENT_SELECTOR)\n",
    "source = robust_select(soup_sub,SOURCE_SELECTOR)\n",
    "department = robust_select(soup_sub,DPRT_SELECTOR)"
   ]
  },
  {
   "cell_type": "code",
   "execution_count": 117,
   "metadata": {},
   "outputs": [
    {
     "data": {
      "text/plain": [
       "'海南省人力资源和社会保障厅等五部门关于做好新型冠状病毒肺炎疫情防控期间稳定劳动关系支持企业复工复产的实施意见'"
      ]
     },
     "execution_count": 117,
     "metadata": {},
     "output_type": "execute_result"
    }
   ],
   "source": [
    "title"
   ]
  },
  {
   "cell_type": "code",
   "execution_count": 122,
   "metadata": {},
   "outputs": [
    {
     "data": {
      "text/plain": [
       "''"
      ]
     },
     "execution_count": 122,
     "metadata": {},
     "output_type": "execute_result"
    }
   ],
   "source": [
    "\n",
    "date"
   ]
  },
  {
   "cell_type": "code",
   "execution_count": 103,
   "metadata": {},
   "outputs": [
    {
     "data": {
      "text/plain": [
       "'\\n市药监局、市知识产权局，各区市场监管局，机关各处室和直属单位：\\n为全面落实全市市场监管年度科技交流重点任务，按照市委、市政府及市场监管总局工作部署，结合总局科技工作思路，制定《2020年科技与合作交流工作要点》，现印发给你们。请结合工作实际，认真抓好落实。\\n\\xa0\\n2020年4月27日\\n（此件主动公开）\\n\\xa0\\n\\xa0\\n市市场监管委2020年\\n科技与合作交流工作要点\\n\\xa0\\n一、全面落实从严治党要求。将抓好基层党支部建设与推进科技交流业务工作有机结合起来，进一步增强“四个意识”，坚定“四个自信”，做到“两个维护”，严格把握项目管理，因公出访等关键环节，强化作风建设，打造一支政治可靠、技术过硬的科技交流队伍。\\n二、贯彻国务院和市委、市政府疫情防控工作部署，落实市场委疫情防控指挥部工作任务，积极响应号令，参加下沉社区、下沉基层市场监管所、推动复工复产等工作。遵照市外办关于疫情期间因公出访规定，配合指挥部开展防范境外新冠肺炎疫情输入工作，提出工作措施。优先推荐疫情防控和复工复产相关科研项目立项，申报总局科研成果。\\n三、继续推出一批科研项目。实施《市市场监管委科技计划项目管理办法》，推动系统科研工作开展，在立项上优先鼓励支持涉及疫情防控、食品药品、特种设备安全、国家质检中心、京津冀技术机构合作项目。组织好本年度委系统科研项目的申报、评审、立项工作。\\n四、抓好在研项目管理。做好国家级、省部级项目、总局2020年度科技计划和市场监管应急技术保障研究项目的推荐和申报，做好委计划项目等在研项目实施、管理和验收等工作，保障科研任务顺利推进。\\n五、推动国家质检中心建设。推进委系统已建成的国家质检中心能力建设，配合总局组织开展的国家质检中心年度考核评价工作。指导国家焊接产品质量检验检测中心按时保质完成建设任务，并按照总局有关管理规定推动该中心现场验收工作。\\n六、加强系统内检验检测机构能力建设。配合委财务处组织落实2020年度预算，持续提高检验检测机构的技术装备水平，提升公共技术服务能力，为产业发展特别是中小微企业发展提供更多优质服务。开展“十四五”科技发展和技术机构能力建设发展规划编制工作。\\n七、组织委系统技术机构贯彻《国家市场监管重点实验室管理暂行办法》和《国家市场监管技术创新中心管理暂行办法》文件精神，围绕市场监管重点领域和发展需求，鼓励依托单位推进重点实验室和技术创新中心建设。\\n八、完善管理制度。对《市市场监管委科技计划项目管理办法》《天津市市场监督管理委员会因公临时出国（境）管理规定》进行修订，加强委科技与合作交流能力建设，提高管理水平。\\n九、组织开展2020年科技周活动。落实天津市及总局要求，继续组织推动全委2020年科技周活动。鼓励科普宣传，提高全系统科技创新意识，加强引导支持科技、重视科技良好氛围。\\n十、推动国家科普基地建设和培育工作。继续做好以计量博物馆等为典型的科普基地的申报和推荐工作，培育挖掘新资源，配合天津市特种设备安全科普教育实训基地建设。\\n十一、高质量完成科技年鉴编纂工作。按照市科技局部署，组织编写我委2020年科技年鉴，撰写2019年我委发生的重大科技事件、科技活动，年度内通过鉴定、评审、结题和获奖的重要科技成果，以及推广应用情况。\\n十二、加强科技管理基础工作。推动食检院与南开大学等科研院所深度合作。积极参与质量立市工作。做好科技资源和科委科普等统计年报工作及科技成果登记等工作。\\n十三、坚持因公出国（境）管理严字当头，按照“因事定人”、“计划管理，量化限制”的原则合理安排出访计划。严格审核团组出访实际执行情况，从申报要求、出访安排、审批程序、公务护照管理等方面逐项进行审核把关，对有关单位做好监督和指导和服务工作。\\n十四、积极配合相关部门做好外事组织协调工作。完成局级领导干部因公出访、参加市委组织部境外培训工作，按照国家安全局要求，及时通报涉外接待和出国（境）人员情况，按照公安部门要求，组织各有关处室加强境外非政府组织的监管工作。\\n十五、加强出访人员行前教育和护照收缴工作。所有团组都按报批程序和要求做好任务审批、行前开展国家安全纪律、保密教育谈话，回国总结和护照收缴等工作。\\n十六、组织系统内各直属单位外事管理人员培训。建立各直属单位外事管理工作人员队伍，邀请市外办、市外服公司专家开展外事工作相关国际形势、对外交流政策、因公审批流程、外事纪律事项、护照签证办理等专题培训，提高外事交流工作制度化、规范化水平。\\n\\xa0\\n\\n\\n\\n\\n'"
      ]
     },
     "execution_count": 103,
     "metadata": {},
     "output_type": "execute_result"
    }
   ],
   "source": [
    "content"
   ]
  },
  {
   "cell_type": "code",
   "execution_count": 104,
   "metadata": {},
   "outputs": [
    {
     "data": {
      "text/plain": [
       "'天津市市场监督管理委员会'"
      ]
     },
     "execution_count": 104,
     "metadata": {},
     "output_type": "execute_result"
    }
   ],
   "source": [
    "source"
   ]
  },
  {
   "cell_type": "code",
   "execution_count": 105,
   "metadata": {},
   "outputs": [],
   "source": [
    "department"
   ]
  },
  {
   "cell_type": "code",
   "execution_count": 24,
   "metadata": {},
   "outputs": [
    {
     "data": {
      "text/plain": [
       "'\\n经研究决定，我市自2020年1月1日零时起，停止收取南宁市路桥车辆通行费。现将有关事项通告如下：一、对于已缴纳2020年度南宁市路桥车辆通行费的机动车辆，缴费人可于2020年1月1日起向南宁城市路桥投资管理有限责任公司办理退费。二、2020年1月1日零时前，在本市城区（不含武鸣区）注册登记的机动车辆，应当补足缴纳2019年和以前年度的南宁市路桥车辆通行费。本通告自2020年1月1日起生效。特此通告。2019年12月29日\\n'"
      ]
     },
     "execution_count": 24,
     "metadata": {},
     "output_type": "execute_result"
    }
   ],
   "source": [
    "robust_select(soup_sub,'#zoom')"
   ]
  },
  {
   "cell_type": "code",
   "execution_count": null,
   "metadata": {},
   "outputs": [],
   "source": []
  },
  {
   "cell_type": "code",
   "execution_count": 77,
   "metadata": {},
=======
   "execution_count": 23,
   "metadata": {},
>>>>>>> 0e60f2f0cc1de87d28444f69811b227f86fc125a
   "outputs": [
    {
     "data": {
      "text/plain": [
<<<<<<< HEAD
       "'div#ivs_title'"
      ]
     },
     "execution_count": 77,
     "metadata": {},
     "output_type": "execute_result"
    }
   ],
   "source": [
    "TITLE_SELECTOR"
   ]
  },
  {
   "cell_type": "code",
   "execution_count": 64,
   "metadata": {},
   "outputs": [
    {
     "data": {
      "text/plain": [
       "<div id=\"ivs_content\"><p>\n",
       "\t各高等学校：</p>\n",
       "<p>\n",
       "\t　　根据《上海市教育委员会关于印发&lt;2018-2019年度上海高校信息公开评议工作实施方案&gt;的通知》(沪教委办〔2019〕37号)，市教委组织开展了2018-2019年度上海高校信息公开评议工作。此次评议围绕基础工作、信息主动公开、信息依申请公开、便民服务与网上互动、信息公开专栏服务与功能等五个方面展开，按照部属高校、市属本科高校、市属高职高专院校的实际情况，采用不同的指标体系开展评议。在各单位自查的基础上，市教委组织相关专家组成评议组进行网上评议，并委托社会专业机构对部分指标进行了独立测评，综合以上几方面测评意见，形成了最终的评议结果。</p>\n",
       "<p>\n",
       "\t　　经研究，明确本次测评结果按测评得分率分为四档：得分率在90%以上的定为“优秀单位”，得分率在80%-89%之间的定为“良好单位”，得分率在60%-79%之间的定为“合格单位”，得分率在60%以下的定为“不合格单位”。据此，确定上海外国语大学等3所部属高校、华东政法大学等7所市属本科高校、上海电子信息职业技术学院等2所市属高职高专院校为2018-2019年度上海高校信息公开评议工作“优秀单位”，复旦大学等3所部属高校、上海海事大学等14所市属本科高校、上海出版印刷高等专科学校等5所市属高职高专院校为2018-2019年度上海高校信息公开评议工作“良好单位”，华东理工大学等2所部属高校、上海杉达学院等6所市属本科高校、上海工艺美术职业学院等11所市属高职高专院校为2018-2019年度上海高校信息公开评议工作“合格单位”（具体名单见附件）。另有3所市属本科高校和3所市属高职高专院校为“不合格单位”。</p>\n",
       "<p>\n",
       "\t　　希望各高校继续努力，加大《高等学校信息公开办法》的落实力度，从提升学校依法治校的水平、保障师生员工和社会公众合法权益出发，进一步完善制度建设，规范和深化信息公开工作，不断提高信息公开工作实效，提升公共服务水平。</p>\n",
       "<p>\n",
       "\t　　附件：2018-2019年度上海高校信息公开评议工作优秀、良好、合格单位名单</p>\n",
       "<p style=\"text-align: right;\">\n",
       "\t　　上海市教育委员会</p>\n",
       "<p style=\"text-align: right;\">\n",
       "\t　　2020年4月16日</p>\n",
       "<p>\n",
       "\t　　附件</p>\n",
       "<p style=\"text-align: center;\">\n",
       "<strong>2018-2019年度上海高校信息公开评议工作优秀、良好、合格单位名单</strong></p>\n",
       "<p>\n",
       "\t　　一、优秀单位（12家）</p>\n",
       "<p>\n",
       "\t　　部属高校：上海外国语大学、上海交通大学、华东师范大学</p>\n",
       "<p>\n",
       "\t　　市属本科高校：华东政法大学、上海理工大学、上海健康医学院、上海中医药大学、上海师范大学、上海立信会计金融学院、上海对外经贸大学</p>\n",
       "<p>\n",
       "\t　　市属高职高专院校：上海电子信息职业技术学院、上海震旦职业学院</p>\n",
       "<p>\n",
       "\t　　二、良好单位（22家）</p>\n",
       "<p>\n",
       "\t　　部属高校：复旦大学、东华大学、同济大学</p>\n",
       "<p>\n",
       "\t　　市属本科高校：上海海事大学、上海海洋大学、上海海关学院、上海电机学院、上海商学院、上海体育学院、上海工程技术大学、上海交大医学院、上海建桥学院、上海第二工业大学、上海应用技术大学、上海电力大学、上海外国语大学贤达经济人文学院、上海戏剧学院</p>\n",
       "<p>\n",
       "\t　　市属高职高专院校：上海出版印刷高等专科学校、上海行健职业学院、上海城建职业学院、上海农林职业技术学院、上海旅游高等专科学校</p>\n",
       "<p>\n",
       "\t　　三、合格单位（19家）</p>\n",
       "<p>\n",
       "\t　　部属高校：华东理工大学、上海财经大学</p>\n",
       "<p>\n",
       "\t　　市属本科高校：上海杉达学院、上海政法学院、上海大学、上海视觉艺术学院、上海科技大学、上海音乐学院</p>\n",
       "<p>\n",
       "\t　　市属高职高专院校：上海工艺美术职业学院、上海中侨职业技术学院、上海工商外国语职业学院、上海济光职业技术学院、上海海事职业技术学院、上海工商职业技术学院、上海东海职业技术学院、上海邦德职业技术学院、上海交通职业技术学院、上海科学技术职业学院、上海思博职业技术学院</p></div>"
      ]
     },
     "execution_count": 64,
     "metadata": {},
     "output_type": "execute_result"
    }
   ],
   "source": [
    "driver = webdriver.Chrome(options=options)\n",
    "driver.get('http://www.shanghai.gov.cn/nw2/nw2314/nw2319/nw12344/u26aw64785.html')\n",
    "page=BeautifulSoup(driver.page_source.encode('gb18030'), 'html.parser')\n",
    "page.select_one('#ivs_content')"
   ]
  },
  {
   "cell_type": "code",
   "execution_count": 57,
   "metadata": {},
   "outputs": [
    {
     "data": {
      "text/plain": [
       "[]"
      ]
     },
     "execution_count": 57,
=======
       "'/Users/pengshenglin/Developer/Python Projects/Individual Project/CovidPolicy_Spider'"
      ]
     },
     "execution_count": 23,
>>>>>>> 0e60f2f0cc1de87d28444f69811b227f86fc125a
     "metadata": {},
     "output_type": "execute_result"
    }
   ],
   "source": [
<<<<<<< HEAD
    "page=BeautifulSoup(driver.page_source.encode('#ivs_content'), 'html.parser')\n",
    "page.select('#ivs_content')"
=======
    "os.getcwd()"
   ]
  },
  {
   "cell_type": "code",
   "execution_count": 14,
   "metadata": {},
   "outputs": [
    {
     "data": {
      "text/plain": [
       "[]"
      ]
     },
     "execution_count": 14,
     "metadata": {},
     "output_type": "execute_result"
    }
   ],
   "source": [
    "content"
>>>>>>> 0e60f2f0cc1de87d28444f69811b227f86fc125a
   ]
  },
  {
   "cell_type": "code",
   "execution_count": 63,
   "metadata": {},
   "outputs": [],
   "source": [
    "\n",
    "\n",
    "invalidLink1='#'\n",
    "invalidLink2='javascript:void(0)'\n",
    "\n",
    "\n",
    "result = set()\n",
    "for url in soup.find_all('li'):\n",
    "    for k in soup.find_all(url):\n",
    "        #print(k)\n",
    "        #查找href标签\n",
    "        link=k.get('href')\n",
    "\n",
    "        if(link is not None):\n",
    "            if link==invalidLink1:\n",
    "                pass\n",
    "            elif link==invalidLink2:\n",
    "                pass\n",
    "            elif link.find(\"javascript:\")!=-1:\n",
    "                pass\n",
    "            else:\n",
    "                result.add(link)\n",
    "\n"
   ]
  },
  {
   "cell_type": "code",
   "execution_count": 77,
   "metadata": {},
   "outputs": [
    {
     "data": {
      "text/plain": [
       "bs4.element.Tag"
      ]
     },
     "execution_count": 77,
     "metadata": {},
     "output_type": "execute_result"
    }
   ],
   "source": [
    "type(soup.find_all('li')[1])"
   ]
  },
  {
   "cell_type": "code",
   "execution_count": 15,
   "metadata": {
    "scrolled": true
   },
   "outputs": [
    {
     "name": "stdout",
     "output_type": "stream",
     "text": [
      "http://www.gz.gov.cn/xw/tzgg/content/post_5815370.html\n",
      "http://www.gz.gov.cn/xw/tzgg/content/post_5814356.html\n",
      "http://www.gz.gov.cn/xw/tzgg/content/post_5812555.html\n",
      "http://www.gz.gov.cn/xw/tzgg/content/post_5812549.html\n",
      "http://www.gz.gov.cn/xw/tzgg/content/post_5812109.html\n",
      "http://www.gz.gov.cn/xw/tzgg/content/post_5812106.html\n",
      "http://www.gz.gov.cn/xw/tzgg/content/post_5807650.html\n",
      "http://www.gz.gov.cn/xw/tzgg/content/post_5806089.html\n",
      "http://www.gz.gov.cn/xw/tzgg/content/post_5805665.html\n",
      "http://www.gz.gov.cn/xw/tzgg/content/post_5805637.html\n",
      "http://www.gz.gov.cn/xw/tzgg/content/post_5805382.html\n",
      "http://www.gz.gov.cn/xw/tzgg/content/post_5805645.html\n",
      "http://www.gz.gov.cn/xw/tzgg/content/post_5797191.html\n",
      "http://www.gz.gov.cn/xw/tzgg/content/post_5797416.html\n",
      "http://www.gz.gov.cn/xw/tzgg/content/post_5795795.html\n"
     ]
    }
   ],
   "source": [
    "##Test selectors\n",
    "test_url = 'http://www.gz.gov.cn/xw/tzgg/'\n",
    "page = getPage(test_url)\n",
    "soup = BeautifulSoup(page.text, 'html.parser')\n",
    "\n",
    "from urllib import parse\n",
    "test_selector = 'a'\n",
    "page = getPage(test_url)\n",
    "soup = BeautifulSoup(page.text, 'html.parser')\n",
    "content = soup.select('ul.news_list li a')\n",
    "\n",
    "for i in content:\n",
    "    new_full_url = parse.urljoin(test_url,i.attrs['href'])\n",
    "    print(new_full_url)"
   ]
  },
  {
   "cell_type": "code",
   "execution_count": 9,
   "metadata": {},
   "outputs": [
    {
     "data": {
      "text/plain": [
       "[<a href=\"http://www.gz.gov.cn/sofpro/gzyyqt/12345web/s_login.jsp\" target=\"_blank\">登录</a>,\n",
       " <a href=\"#\">语言<i></i></a>,\n",
       " <a class=\"zh_click\" id=\"zh_click_s\" onclick=\"zh_tran('s')\">简体</a>,\n",
       " <a class=\"zh_click\" id=\"zh_click_t\" onclick=\"zh_tran('t')\" style=\"color: rgb(198, 228, 255);\">繁體</a>,\n",
       " <a href=\"http://www.gz.gov.cn/guangzhouinternational/index.html\" target=\"_blank\">English</a>,\n",
       " <a href=\"#\">手机端<i></i></a>,\n",
       " <a class=\"wza\" href=\"http://voice.gz.gov.cn/.m/turbowas/a.jsp?entryUri=/&amp;entryDomain=http://www.gz.gov.cn\" target=\"_blank\">无障碍</a>,\n",
       " <a href=\"#\">微信<i></i></a>,\n",
       " <a href=\"#\">微博<i></i></a>,\n",
       " <a href=\"http://weibo.com/2605594314\" target=\"_blank\"><img src=\"./static/images/zggzfb.jpg\"/><span>中国广州发布</span></a>,\n",
       " <a href=\"http://weibo.com/2532700305\" target=\"_blank\"><img src=\"./static/images/gzzfxwb.jpg\"/><span>广州市政府<br/>新闻办</span></a>,\n",
       " <a href=\"http://mail.gz.gov.cn/\" target=\"_parent\">政务邮箱</a>,\n",
       " <a href=\"/\" target=\"_blank\">首页</a>,\n",
       " <a href=\"http://www.gz.gov.cn/zwgk/index.html\" target=\"_blank\">政务公开</a>,\n",
       " <a href=\"http://www.gz.gov.cn/zwfw/index.html\" target=\"_blank\">政务服务</a>,\n",
       " <a href=\"http://www.gz.gov.cn/hdjl/index.html\" target=\"_blank\">互动交流</a>,\n",
       " <a href=\"http://www.gz.gov.cn/ysgz/index.html\" target=\"_blank\">营商环境</a>,\n",
       " <a href=\"http://www.gz.gov.cn/zlgz/index.html\" target=\"_blank\">魅力广州</a>,\n",
       " <a href=\"/\" target=\"_blank\">首页</a>,\n",
       " <a href=\"http://www.gz.gov.cn/zwgk/index.html\" target=\"_blank\">政务公开</a>,\n",
       " <a href=\"http://www.gz.gov.cn/zwfw/index.html\" target=\"_blank\">政务服务</a>,\n",
       " <a href=\"http://www.gz.gov.cn/hdjl/index.html\" target=\"_blank\">互动交流</a>,\n",
       " <a href=\"http://www.gz.gov.cn/ysgz/index.html\" target=\"_blank\">营商环境</a>,\n",
       " <a href=\"http://www.gz.gov.cn/zlgz/index.html\" target=\"_blank\">魅力广州</a>,\n",
       " <a href=\"http://www.gz.gov.cn/xw/tzgg/content/post_5815370.html\" target=\"_blank\" title=\"广州市新冠肺炎防控指挥办文化旅游防控组关于印发广州市“五一”假期出行新冠肺炎疫情防控工作指引的通知\">广州市新冠肺炎防控指挥办文化旅游防控组关于印发广州市“五一”假期出行新冠肺炎疫情防控工作指引的通知</a>,\n",
       " <a href=\"http://www.gz.gov.cn/xw/tzgg/content/post_5814356.html\" target=\"_blank\" title=\"广州市医疗保障局  广州市卫生健康委员会关于做好慢性病长处方和“互联网+” 复诊工作的通知\">广州市医疗保障局  广州市卫生健康委员会关于做好慢性病长处方和“互联网+” 复诊工作的通知</a>,\n",
       " <a href=\"http://www.gz.gov.cn/xw/tzgg/content/post_5812555.html\" target=\"_blank\" title=\"广州市交通运输局关于申报新能源货车购置地方财政补贴的通知\">广州市交通运输局关于申报新能源货车购置地方财政补贴的通知</a>,\n",
       " <a href=\"http://www.gz.gov.cn/xw/tzgg/content/post_5812549.html\" target=\"_blank\" title=\"广州市交通运输局 广州公共资源交易中心关于普通公路养护工程全面推行电子化招标的通知\">广州市交通运输局 广州公共资源交易中心关于普通公路养护工程全面推行电子化招标的通知</a>,\n",
       " <a href=\"http://www.gz.gov.cn/xw/tzgg/content/post_5812109.html\" target=\"_blank\" title=\"关于广州市2020年城镇国有建设用地标定地价更新成果听证会的公告\">关于广州市2020年城镇国有建设用地标定地价更新成果听证会的公告</a>,\n",
       " <a href=\"http://www.gz.gov.cn/xw/tzgg/content/post_5812106.html\" target=\"_blank\" title=\"广州市不动产登记中心2020年劳动节放假通告\">广州市不动产登记中心2020年劳动节放假通告</a>,\n",
       " <a href=\"http://www.gz.gov.cn/xw/tzgg/content/post_5807650.html\" target=\"_blank\" title=\"广州市商务局关于印发商业服务企业新常态下做好疫情防控工作指引的通知\">广州市商务局关于印发商业服务企业新常态下做好疫情防控工作指引的通知</a>,\n",
       " <a href=\"http://www.gz.gov.cn/xw/tzgg/content/post_5806089.html\" target=\"_blank\" title=\"行政处罚听证通告\">行政处罚听证通告</a>,\n",
       " <a href=\"http://www.gz.gov.cn/xw/tzgg/content/post_5805665.html\" target=\"_blank\" title=\"广州市疫情防控重点保障企业优惠贷款贴息申报补充指引\">广州市疫情防控重点保障企业优惠贷款贴息申报补充指引</a>,\n",
       " <a href=\"http://www.gz.gov.cn/xw/tzgg/content/post_5805637.html\" target=\"_blank\" title=\"关于延长我市非营利组织免税资格复审申请期限的通知\">关于延长我市非营利组织免税资格复审申请期限的通知</a>,\n",
       " <a href=\"http://www.gz.gov.cn/xw/tzgg/content/post_5805382.html\" target=\"_blank\" title=\"广州市市场监督管理局关于开展动产抵押委托登记试点工作的通告\">广州市市场监督管理局关于开展动产抵押委托登记试点工作的通告</a>,\n",
       " <a href=\"http://www.gz.gov.cn/xw/tzgg/content/post_5805645.html\" target=\"_blank\" title=\"市财政局行政处罚听证通告\">市财政局行政处罚听证通告</a>,\n",
       " <a href=\"http://www.gz.gov.cn/xw/tzgg/content/post_5797191.html\" target=\"_blank\" title=\"广州市市场监督管理局关于公示广州市知识产权运营服务体系建设中央专项资金2019-2020年公开征集项目第一批拟立项项目的通告\">广州市市场监督管理局关于公示广州市知识产权运营服务体系建设中央专项资金2019-2020年公开征集项目第一批拟立项项目的通告</a>,\n",
       " <a href=\"http://www.gz.gov.cn/xw/tzgg/content/post_5797416.html\" target=\"_blank\" title=\"2020年4月黄埔区政府领导接听12345热线群众来电公告\">2020年4月黄埔区政府领导接听12345热线群众来电公告</a>,\n",
       " <a href=\"http://www.gz.gov.cn/xw/tzgg/content/post_5795795.html\" target=\"_blank\" title=\"广州市规划和自然资源局关于土地核验（土地出让金核实）纳入联合验收有关工作的通知\">广州市规划和自然资源局关于土地核验（土地出让金核实）纳入联合验收有关工作的通知</a>,\n",
       " <a class=\"rotate\" id=\"sk\"><i></i>穗康</a>,\n",
       " <a class=\"rotate\" id=\"sk\"><i style=\"height:53px\"></i></a>,\n",
       " <a class=\"rotate\" href=\"http://www.gz.gov.cn/hdjl/12345rx/sysm/index.html\" target=\"_blank\"><i></i><span>广州12345</span></a>,\n",
       " <a class=\"rotate\" href=\"http://www.gz.gov.cn/zwfw/bmcx/index.html\" target=\"_blank\"><i></i>我要查</a>,\n",
       " <a class=\"rotate\" href=\"http://www.gdzwfw.gov.cn/portal/index?region=440100\" target=\"_blank\"><i></i>我要办</a>,\n",
       " <a class=\"rotate\" href=\"/dhc/qa/\" target=\"_blank\"><i></i>智能问答</a>,\n",
       " <a class=\"rotate\" href=\"http://www.gz.gov.cn/yy/index.html\" target=\"_blank\"><i></i>应用</a>]"
      ]
     },
     "execution_count": 9,
     "metadata": {},
     "output_type": "execute_result"
    }
   ],
   "source": [
    "content"
   ]
  },
  {
   "cell_type": "code",
   "execution_count": 67,
   "metadata": {},
   "outputs": [],
   "source": [
    "start_url = 'http://www.gz.gov.cn/xw/tzgg/'\n",
    "\n",
    "page = getPage(start_url)\n",
    "indicator = True\n",
    "all_res = []\n",
    "\n",
    "while indicator:\n",
    "    soup = BeautifulSoup(page.text, 'html.parser')\n",
    "    newsset = soup.select('ul.news_list>li>a')\n",
    "    for news in newsset:\n",
    "        title = news['title']\n",
    "        url = news['href']\n",
    "        announcepage = getPage(url)\n",
    "        announce_soup = BeautifulSoup(announcepage.text,'html.parser')\n",
    "        source = announce_soup.select_one('#laiyuan > b').text\n",
    "        all_res.append({\n",
    "            'title': title,\n",
    "            'url': url,\n",
    "            'source': source\n",
    "        })\n",
    "    indicator = False"
   ]
  },
  {
   "cell_type": "code",
   "execution_count": 9,
   "metadata": {},
   "outputs": [],
   "source": [
    "urlprefix = 'https://www.baidu.com/s?&wd='\n",
    "urlsuffix = '市人民政府通知公告'\n",
    "cities = ['广州', '北京', '上海', '深圳', '哈尔滨', '南宁', '太原', '长春', '合肥', '南昌', '重庆', '天津', \n",
    "          '海口', '贵阳', '石家庄', '成都', '杭州', '武汉', '南京', '长沙', '郑州', '青岛', '沈阳', '福州', \n",
    "          '昆明']"
   ]
  },
  {
   "cell_type": "code",
   "execution_count": 44,
   "metadata": {},
   "outputs": [
    {
     "name": "stdout",
     "output_type": "stream",
     "text": [
      "通知公告 - 广州市人民政府门户网站_中国广州政府\n",
      "http://www.gz.gov.cn/xw/tzgg/mindex.html\n",
      "通知公告\n",
      "http://www.bjtzh.gov.cn/bjtz/home/tzgg/index.shtml\n",
      "通知公告_上海市宝山区人民政府\n",
      "http://www.shbsq.gov.cn/shbs/gsgg/\n",
      "通知公告--深圳政府在线_深圳市人民政府门户网站\n",
      "http://www.sz.gov.cn/cn/xxgk/zfxxgj/tzgg/index.html\n",
      "哈尔滨市人民政府 通知公告\n",
      "http://www.harbin.gov.cn/col/col209/index.html#!uid=832&pageNum=1\n",
      "通知公告_南宁市人民政府国有资产监督管理委员会\n",
      "http://gzw.nanning.gov.cn/xxgk/zwdt/tzgg/\n",
      "政府公告-太原市人民政府门户网站\n",
      "HTTPConnectionPool(host='www.taiyuan.gov.cn', port=80): Max retries exceeded with url: /xwzx/zfgg/index.shtml (Caused by NewConnectionError('<urllib3.connection.HTTPConnection object at 0x11156d990>: Failed to establish a new connection: [Errno 60] Operation timed out'))\n",
      "\n",
      "通知公告 - 长春市人民政府-中国长春_长春政务网\n",
      "http://www.changchun.gov.cn/zw_33994/tzgg/\n",
      "合肥市人民政府关于2020年秸秆禁烧工作的通告 - 通知公告_合肥市...\n",
      "http://www.hfss.gov.cn/zqdh/zjyq/slajdbsc/tzgg/10939381.html\n",
      "通知公告 - 南昌市财政局\n",
      "HTTPConnectionPool(host='czj.nc.gov.cn', port=80): Max retries exceeded with url: /ncczj/tzgg/nav_list.shtml (Caused by NewConnectionError('<urllib3.connection.HTTPConnection object at 0x111aaec90>: Failed to establish a new connection: [Errno 8] nodename nor servname provided, or not known'))\n",
      "\n",
      "通知公告_重庆市人民政府网\n",
      "http://www.cq.gov.cn/zwgk/wlzcwj/zbtb/cqjy/tzgg/\n",
      "通知公告_天津市人民政府国有资产监督管理委员会\n",
      "http://sasac.tj.gov.cn/tzgg\n",
      "通知公告-海口市龙华区人民政府\n",
      "http://lhqzf.haikou.gov.cn/jrlh1/tzgg.htm\n",
      "贵阳市白云区人民政府网站-通知公告\n",
      "http://www.gzbaiyun.gov.cn/xwdt/tzgg/\n",
      "通知公告-石家庄市人民政府\n",
      "http://www.sjz.gov.cn/col/1490076478426/\n",
      "各单位、各企业: 按照《中共成都市委办公厅成都市人民政府...\n",
      "http://www.chengdu.gov.cn/xdqjxtzj/tzgg/2020-04/28/content_f625044594a341b793709908a60fb313.shtml\n",
      "杭州市临安区人民政府 通知公告_浙江临安政府网\n",
      "http://www.linan.gov.cn/col/col1459500/index.html\n",
      "通知公告 - 武汉市硚口区人民政府门户网站\n",
      "HTTPSConnectionPool(host='www.qiaokou.gov.cn', port=443): Max retries exceeded with url: /qkxw/tzgg/ (Caused by SSLError(SSLError(\"bad handshake: Error([('SSL routines', 'tls_process_server_certificate', 'certificate verify failed')])\")))\n",
      "\n",
      "南京市江宁区人民政府-通知公告\n",
      "http://www.jiangning.gov.cn/xwzx/tzgg/\n",
      "长沙市政府门户网站-通知公告\n",
      "http://www.changsha.gov.cn/szf/tzgg/\n",
      "通知公告 - 郑州市人民政府\n",
      "http://www.zhengzhou.gov.cn/news6/index.jhtml\n",
      "青岛市司法局\n",
      "http://qdsf.qingdao.gov.cn/n3707475/n32567583/\n",
      "通知公告-沈阳市铁西区人民政府\n",
      "HTTPConnectionPool(host='www.tiexi.gov.cn', port=80): Max retries exceeded with url: /sytx/tzgg/glist.html (Caused by NewConnectionError('<urllib3.connection.HTTPConnection object at 0x1128cd310>: Failed to establish a new connection: [Errno 60] Operation timed out'))\n",
      "\n",
      "公告_通知公告_福州市人民政府\n",
      "http://www.fuzhou.gov.cn/tzgg/201912/t20191230_3158768.htm\n",
      "昆明市人民政府金融办公室_通知公告\n",
      "http://jrb.km.gov.cn/tzgg/\n"
     ]
    }
   ],
   "source": [
    "city_govs = pd.DataFrame(columns=['city','url','name'])\n",
    "for city in cities:\n",
    "    url = urlprefix + city + urlsuffix\n",
    "    page = getPage(url)\n",
    "    soup = BeautifulSoup(page.text, 'html.parser')\n",
    "    firstitem = soup.select('div.result.c\\-container > h3.t')[0]\n",
    "    name = firstitem.text\n",
    "    print(name)\n",
    "    try:\n",
    "        subpage = getPage(firstitem.a['href'])\n",
    "        url_t = subpage.url\n",
    "    except Exception as err:\n",
    "        print(err)\n",
    "        url_t = ''\n",
    "    finally:\n",
    "        print(url_t)\n",
    "        city_govs = city_govs.append({'city':city,'url':url_t,'name':name},ignore_index=True)"
   ]
  },
  {
   "cell_type": "code",
   "execution_count": 61,
   "metadata": {},
   "outputs": [],
   "source": [
    "city_govs.to_csv('settings/city_govs.csv',index=False)"
   ]
  },
  {
   "cell_type": "code",
   "execution_count": 47,
   "metadata": {},
   "outputs": [
    {
     "data": {
      "text/plain": [
       "25"
      ]
     },
     "execution_count": 47,
     "metadata": {},
     "output_type": "execute_result"
    }
   ],
   "source": [
    "city_govs.index"
   ]
  },
  {
   "cell_type": "code",
   "execution_count": 17,
   "metadata": {},
   "outputs": [],
   "source": [
    "citygovs2 = pd.read_csv('settings/city_govs.csv',index_col='city')"
   ]
  },
  {
   "cell_type": "code",
   "execution_count": 12,
   "metadata": {},
   "outputs": [],
   "source": [
    "citygovs2.to_csv('settings/city_govs.csv',encoding='utf_8_sig')"
   ]
  },
  {
   "cell_type": "code",
   "execution_count": 4,
   "metadata": {},
   "outputs": [],
   "source": [
    "a = pd.read_csv('settings/selector_settings.csv',index_col = 'city')"
   ]
  },
  {
   "cell_type": "code",
   "execution_count": 26,
   "metadata": {},
   "outputs": [
    {
     "data": {
      "text/plain": [
       "True"
      ]
     },
     "execution_count": 26,
     "metadata": {},
     "output_type": "execute_result"
    }
   ],
   "source": [
    "b = a['news_selector']['北京']\n",
    "math.isnan(b)"
   ]
  },
  {
   "cell_type": "code",
   "execution_count": 22,
   "metadata": {},
   "outputs": [
    {
     "data": {
      "text/plain": [
       "nan"
      ]
     },
     "execution_count": 22,
     "metadata": {},
     "output_type": "execute_result"
    }
   ],
   "source": [
    "b"
   ]
  },
  {
   "cell_type": "code",
   "execution_count": 2,
   "metadata": {},
   "outputs": [],
   "source": []
  },
  {
   "cell_type": "code",
   "execution_count": null,
   "metadata": {},
   "outputs": [],
   "source": []
  }
 ],
 "metadata": {
  "kernelspec": {
   "display_name": "Python 3",
   "language": "python",
   "name": "python3"
  },
  "language_info": {
   "codemirror_mode": {
    "name": "ipython",
    "version": 3
   },
   "file_extension": ".py",
   "mimetype": "text/x-python",
   "name": "python",
   "nbconvert_exporter": "python",
   "pygments_lexer": "ipython3",
<<<<<<< HEAD
   "version": "3.7.3"
=======
   "version": "3.8.2"
>>>>>>> 0e60f2f0cc1de87d28444f69811b227f86fc125a
  }
 },
 "nbformat": 4,
 "nbformat_minor": 4
}
