{
 "cells": [
  {
   "cell_type": "code",
   "execution_count": 18,
   "metadata": {},
   "outputs": [
    {
     "name": "stdout",
     "output_type": "stream",
     "text": [
      "2020-05-02 18:17:54 [scrapy.utils.log] INFO: Scrapy 2.1.0 started (bot: covid_policy_spider)\n",
      "2020-05-02 18:17:54 [scrapy.utils.log] INFO: Versions: lxml 4.5.0.0, libxml2 2.9.10, cssselect 1.1.0, parsel 1.5.2, w3lib 1.21.0, Twisted 19.10.0, Python 3.7.5 (v3.7.5:5c02a39a0b, Oct 14 2019, 18:49:57) - [Clang 6.0 (clang-600.0.57)], pyOpenSSL 19.1.0 (OpenSSL 1.1.1d  10 Sep 2019), cryptography 2.8, Platform Darwin-19.4.0-x86_64-i386-64bit\n",
      "2020-05-02 18:17:54 [scrapy.crawler] INFO: Overridden settings:\n",
      "{'BOT_NAME': 'covid_policy_spider',\n",
      " 'LOG_LEVEL': 'INFO',\n",
      " 'NEWSPIDER_MODULE': 'covid_policy_spider.spiders',\n",
      " 'ROBOTSTXT_OBEY': True,\n",
      " 'SPIDER_MODULES': ['covid_policy_spider.spiders']}\n",
      "2020-05-02 18:17:54 [scrapy.extensions.telnet] INFO: Telnet Password: a4145cb8f8b82ff8\n",
      "2020-05-02 18:17:54 [scrapy.middleware] INFO: Enabled extensions:\n",
      "['scrapy.extensions.corestats.CoreStats',\n",
      " 'scrapy.extensions.telnet.TelnetConsole',\n",
      " 'scrapy.extensions.memusage.MemoryUsage',\n",
      " 'scrapy.extensions.feedexport.FeedExporter',\n",
      " 'scrapy.extensions.logstats.LogStats']\n",
      "2020-05-02 18:17:54 [scrapy.middleware] INFO: Enabled downloader middlewares:\n",
      "['scrapy.downloadermiddlewares.robotstxt.RobotsTxtMiddleware',\n",
      " 'scrapy.downloadermiddlewares.httpauth.HttpAuthMiddleware',\n",
      " 'scrapy.downloadermiddlewares.downloadtimeout.DownloadTimeoutMiddleware',\n",
      " 'scrapy.downloadermiddlewares.defaultheaders.DefaultHeadersMiddleware',\n",
      " 'scrapy.downloadermiddlewares.useragent.UserAgentMiddleware',\n",
      " 'scrapy.downloadermiddlewares.retry.RetryMiddleware',\n",
      " 'scrapy.downloadermiddlewares.redirect.MetaRefreshMiddleware',\n",
      " 'scrapy.downloadermiddlewares.httpcompression.HttpCompressionMiddleware',\n",
      " 'scrapy.downloadermiddlewares.redirect.RedirectMiddleware',\n",
      " 'scrapy.downloadermiddlewares.cookies.CookiesMiddleware',\n",
      " 'scrapy.downloadermiddlewares.httpproxy.HttpProxyMiddleware',\n",
      " 'scrapy.downloadermiddlewares.stats.DownloaderStats']\n",
      "2020-05-02 18:17:54 [scrapy.middleware] INFO: Enabled spider middlewares:\n",
      "['scrapy.spidermiddlewares.httperror.HttpErrorMiddleware',\n",
      " 'scrapy.spidermiddlewares.offsite.OffsiteMiddleware',\n",
      " 'scrapy.spidermiddlewares.referer.RefererMiddleware',\n",
      " 'scrapy.spidermiddlewares.urllength.UrlLengthMiddleware',\n",
      " 'scrapy.spidermiddlewares.depth.DepthMiddleware']\n",
      "2020-05-02 18:17:54 [scrapy.middleware] INFO: Enabled item pipelines:\n",
      "[]\n",
      "2020-05-02 18:17:54 [scrapy.core.engine] INFO: Spider opened\n",
      "2020-05-02 18:17:54 [scrapy.extensions.logstats] INFO: Crawled 0 pages (at 0 pages/min), scraped 0 items (at 0 items/min)\n",
      "2020-05-02 18:17:54 [scrapy.extensions.telnet] INFO: Telnet console listening on 127.0.0.1:6023\n",
      "2020-05-02 18:18:18 [scrapy.core.engine] INFO: Closing spider (finished)\n",
      "2020-05-02 18:18:18 [scrapy.extensions.feedexport] INFO: Stored json feed (97 items) in: results/json/广州.json\n",
      "2020-05-02 18:18:18 [scrapy.statscollectors] INFO: Dumping Scrapy stats:\n",
      "{'downloader/request_bytes': 125321,\n",
      " 'downloader/request_count': 322,\n",
      " 'downloader/request_method_count/GET': 322,\n",
      " 'downloader/response_bytes': 2851098,\n",
      " 'downloader/response_count': 322,\n",
      " 'downloader/response_status_count/200': 320,\n",
      " 'downloader/response_status_count/404': 2,\n",
      " 'elapsed_time_seconds': 23.615468,\n",
      " 'finish_reason': 'finished',\n",
      " 'finish_time': datetime.datetime(2020, 5, 2, 23, 18, 18, 177689),\n",
      " 'item_scraped_count': 97,\n",
      " 'log_count/INFO': 11,\n",
      " 'memusage/max': 97427456,\n",
      " 'memusage/startup': 97427456,\n",
      " 'request_depth_max': 20,\n",
      " 'response_received_count': 322,\n",
      " 'robotstxt/request_count': 2,\n",
      " 'robotstxt/response_count': 2,\n",
      " 'robotstxt/response_status_count/404': 2,\n",
      " 'scheduler/dequeued': 320,\n",
      " 'scheduler/dequeued/memory': 320,\n",
      " 'scheduler/enqueued': 320,\n",
      " 'scheduler/enqueued/memory': 320,\n",
      " 'start_time': datetime.datetime(2020, 5, 2, 23, 17, 54, 562221)}\n",
      "2020-05-02 18:18:18 [scrapy.core.engine] INFO: Spider closed (finished)\n"
     ]
    }
   ],
   "source": [
    "!scrapy crawl announcement_spider -a city=广州 -o results/json/广州.json"
   ]
  },
  {
   "cell_type": "code",
   "execution_count": 5,
   "metadata": {},
   "outputs": [
    {
     "data": {
      "text/plain": [
       "True"
      ]
     },
     "execution_count": 5,
     "metadata": {},
     "output_type": "execute_result"
    }
   ],
   "source": [
    "type('sss') is str"
   ]
  },
  {
   "cell_type": "code",
   "execution_count": null,
   "metadata": {},
   "outputs": [],
   "source": []
  }
 ],
 "metadata": {
  "kernelspec": {
   "display_name": "Python 3",
   "language": "python",
   "name": "python3"
  },
  "language_info": {
   "codemirror_mode": {
    "name": "ipython",
    "version": 3
   },
   "file_extension": ".py",
   "mimetype": "text/x-python",
   "name": "python",
   "nbconvert_exporter": "python",
   "pygments_lexer": "ipython3",
   "version": "3.7.5"
  }
 },
 "nbformat": 4,
 "nbformat_minor": 4
}
