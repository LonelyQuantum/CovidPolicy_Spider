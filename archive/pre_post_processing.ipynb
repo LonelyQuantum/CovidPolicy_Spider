{
 "cells": [
  {
   "cell_type": "code",
   "execution_count": null,
   "metadata": {},
   "outputs": [],
   "source": [
    "import os\n",
    "\n",
    "import scrapy\n",
    "\n",
    "import json\n",
    "import pickle\n",
    "import dill\n",
    "\n",
    "import pandas as pd"
   ]
  },
  {
   "cell_type": "code",
   "execution_count": null,
   "metadata": {},
   "outputs": [],
   "source": [
    "def save_object(obj, filename):\n",
    "    with open(filename, 'wb') as output:  # Overwrites any existing file.\n",
    "        dill.dump(obj, output)\n",
    "        \n",
    "def load_object(path):\n",
    "    with open(path,'rb') as file:\n",
    "        return dill.load(file)\n",
    "\n",
    "def load_json(path):\n",
    "    with open(path) as file:\n",
    "        return json.load(file)"
   ]
  },
  {
   "cell_type": "code",
   "execution_count": null,
   "metadata": {},
   "outputs": [],
   "source": [
    "##Get keywords and sheetnames\n",
    "kwfile = 'settings/keywords_list.xlsx'\n",
    "excel = pd.ExcelFile(kwfile)\n",
    "sheetnames = excel.sheet_names\n",
    "kwset = set([])\n",
    "for sheet_name in sheetnames:\n",
    "    sheet = pd.read_excel(kwfile,sheet_name=sheet_name).iloc[:,0]\n",
    "    kwset = kwset.union(set(sheet))"
   ]
  },
  {
   "cell_type": "code",
   "execution_count": null,
   "metadata": {},
   "outputs": [],
   "source": [
    "print(sheetnames)"
   ]
  },
  {
   "cell_type": "code",
   "execution_count": null,
   "metadata": {},
   "outputs": [],
   "source": [
    "selector_settings = pd.DataFrame(columns=['city','news_selector', 'url_selector', 'next_page_selector',\n",
    "                                          'title_selector','date_selector','source_selector',\n",
    "                                          'department_selector','content_selector'])\n",
    "selector_settings['city'] = sheetnames"
   ]
  },
  {
   "cell_type": "code",
   "execution_count": null,
   "metadata": {},
   "outputs": [],
   "source": [
    "selector_settings = selector_settings.set_index('city')"
   ]
  },
  {
   "cell_type": "code",
   "execution_count": null,
   "metadata": {},
   "outputs": [],
   "source": []
  },
  {
   "cell_type": "code",
   "execution_count": null,
   "metadata": {},
   "outputs": [],
   "source": []
  },
  {
   "cell_type": "code",
   "execution_count": null,
   "metadata": {},
   "outputs": [],
   "source": []
  },
  {
   "cell_type": "code",
   "execution_count": null,
   "metadata": {},
   "outputs": [],
   "source": []
  },
  {
   "cell_type": "code",
   "execution_count": null,
   "metadata": {},
   "outputs": [],
   "source": []
  },
  {
   "cell_type": "code",
   "execution_count": null,
   "metadata": {},
   "outputs": [],
   "source": []
  },
  {
   "cell_type": "code",
   "execution_count": null,
   "metadata": {},
   "outputs": [],
   "source": [
    "a = load_json('北京.json')"
   ]
  },
  {
   "cell_type": "code",
   "execution_count": null,
   "metadata": {},
   "outputs": [],
   "source": [
    "cols = a[0].keys()\n",
    "res = pd.DataFrame(columns=cols)\n",
    "for item in a:\n",
    "    res = res.append(item, ignore_index=True)\n",
    "res['date'] = pd.to_datetime(res['date'])\n",
    "res = res.sort_values(by='date')\n",
    "res.to_csv('广州.csv',encoding='utf_8_sig')"
   ]
  },
  {
   "cell_type": "code",
   "execution_count": null,
   "metadata": {},
   "outputs": [],
   "source": []
  },
  {
   "cell_type": "code",
   "execution_count": null,
   "metadata": {},
   "outputs": [],
   "source": []
  },
  {
   "cell_type": "code",
   "execution_count": null,
   "metadata": {},
   "outputs": [],
   "source": []
  },
  {
   "cell_type": "code",
   "execution_count": null,
   "metadata": {},
   "outputs": [],
   "source": []
  }
 ],
 "metadata": {
  "kernelspec": {
   "display_name": "Python 3",
   "language": "python",
   "name": "python3"
  },
  "language_info": {
   "codemirror_mode": {
    "name": "ipython",
    "version": 3
   },
   "file_extension": ".py",
   "mimetype": "text/x-python",
   "name": "python",
   "nbconvert_exporter": "python",
   "pygments_lexer": "ipython3",
   "version": "3.8.2"
  }
 },
 "nbformat": 4,
 "nbformat_minor": 4
}
